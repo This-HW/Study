{
 "cells": [
  {
   "cell_type": "code",
   "execution_count": 1,
   "metadata": {},
   "outputs": [
    {
     "name": "stderr",
     "output_type": "stream",
     "text": [
      "Using TensorFlow backend.\n"
     ]
    }
   ],
   "source": [
    "from keras.datasets import imdb"
   ]
  },
  {
   "cell_type": "markdown",
   "metadata": {},
   "source": [
    "# Data load"
   ]
  },
  {
   "cell_type": "code",
   "execution_count": 2,
   "metadata": {},
   "outputs": [],
   "source": [
    "(train_data, train_labels), (test_data, test_labels) = imdb.load_data(num_words = 10000)"
   ]
  },
  {
   "cell_type": "code",
   "execution_count": 3,
   "metadata": {},
   "outputs": [],
   "source": [
    "import numpy as np\n",
    "import matplotlib.pyplot as plt"
   ]
  },
  {
   "cell_type": "raw",
   "metadata": {},
   "source": [
    "word_index = imdb.get_word_index()\n",
    "reverse_word_index = dict( [(value, key) for (key, value) in word_index.items()] )\n",
    "decoded_review = ' '.join( [reverse_word_index.get(i -3, '?') for i in train_data[0] )"
   ]
  },
  {
   "cell_type": "markdown",
   "metadata": {},
   "source": [
    "# Data check"
   ]
  },
  {
   "cell_type": "code",
   "execution_count": 4,
   "metadata": {},
   "outputs": [],
   "source": [
    "len_reviews = []\n",
    "for review in train_data :\n",
    "#     print(len(review))\n",
    "    len_reviews.append(len(review))\n",
    "    \n",
    "max_len = np.max(len_reviews)\n",
    "min_len = np.min(len_reviews)\n",
    "mean_len = np.mean(len_reviews)"
   ]
  },
  {
   "cell_type": "code",
   "execution_count": 5,
   "metadata": {},
   "outputs": [
    {
     "data": {
      "image/png": "[encoded data removed]",
      "text/plain": [
       "<Figure size 720x360 with 1 Axes>"
      ]
     },
     "metadata": {
      "needs_background": "light"
     },
     "output_type": "display_data"
    }
   ],
   "source": [
    "fig, ax= plt.subplots(1,1, figsize = (10,5))\n",
    "\n",
    "reviews = range(1, len(len_reviews) + 1)\n",
    "\n",
    "ax.plot(reviews, len_reviews, 'b', label = 'length of review')\n",
    "ax.set_title(\"Length of reviews\")\n",
    "ax.set_xlabel('Review number')\n",
    "ax.set_ylabel('Length')\n",
    "ax.legend()\n",
    "plt.show()"
   ]
  },
  {
   "cell_type": "markdown",
   "metadata": {},
   "source": [
    "# Seperate data"
   ]
  },
  {
   "cell_type": "code",
   "execution_count": 6,
   "metadata": {},
   "outputs": [
    {
     "name": "stdout",
     "output_type": "stream",
     "text": [
      "x_train : 25000, x_test : 25000, y_train : 25000, y_test : 25000\n"
     ]
    }
   ],
   "source": [
    "import numpy as np\n",
    "\n",
    "def vectorize_sequences(sequences, dimension=10000):\n",
    "    results = np.zeros((len(sequences), dimension))\n",
    "    for i, sequence in enumerate(sequences):\n",
    "        results[i, sequence] = 1.\n",
    "    return results\n",
    "\n",
    "x_train = vectorize_sequences(train_data)\n",
    "x_test = vectorize_sequences(test_data)\n",
    "\n",
    "y_train = np.asarray(train_labels).astype('float32')\n",
    "y_test = np.asarray(test_labels).astype('float32')\n",
    "\n",
    "print(f\"x_train : {len(x_train)}, x_test : {len(x_test)}, y_train : {len(y_train)}, y_test : {len(y_test)}\")"
   ]
  },
  {
   "cell_type": "markdown",
   "metadata": {},
   "source": [
    "# Make model"
   ]
  },
  {
   "cell_type": "code",
   "execution_count": 7,
   "metadata": {},
   "outputs": [],
   "source": [
    "# output = relu(dot(W, input) + b)\n",
    "\n",
    "from keras import models\n",
    "from keras import layers\n",
    "\n",
    "model = models.Sequential()\n",
    "model.add(layers.Dense(16, activation='relu', input_shape=(10000,)))\n",
    "model.add(layers.Dense(16, activation = 'relu'))\n",
    "model.add(layers.Dense(1, activation = 'sigmoid'))"
   ]
  },
  {
   "cell_type": "code",
   "execution_count": 8,
   "metadata": {},
   "outputs": [],
   "source": [
    "model.compile(optimizer = 'rmsprop', \n",
    "             loss = 'binary_crossentropy',\n",
    "             metrics = ['accuracy'])"
   ]
  },
  {
   "cell_type": "code",
   "execution_count": 9,
   "metadata": {},
   "outputs": [],
   "source": [
    "from keras import optimizers\n",
    "model.compile(optimizer = optimizers.RMSprop(lr = 0.001),\n",
    "             loss = 'binary_crossentropy',\n",
    "             metrics=['accuracy'])"
   ]
  },
  {
   "cell_type": "code",
   "execution_count": 10,
   "metadata": {},
   "outputs": [],
   "source": [
    "from keras import losses\n",
    "from keras import metrics\n",
    "\n",
    "model.compile(optimizer=optimizers.RMSprop(lr=0.001),\n",
    "              loss = losses.binary_crossentropy,\n",
    "              metrics = [metrics.binary_accuracy])"
   ]
  },
  {
   "cell_type": "code",
   "execution_count": 11,
   "metadata": {},
   "outputs": [],
   "source": [
    "x_val = x_train[:10000]\n",
    "partial_x_train = x_train[10000:]\n",
    "y_val = y_train[:10000]\n",
    "partial_y_train = y_train[10000:]"
   ]
  },
  {
   "cell_type": "code",
   "execution_count": 12,
   "metadata": {},
   "outputs": [
    {
     "name": "stdout",
     "output_type": "stream",
     "text": [
      "x_val : 10000, y_val : 10000\n"
     ]
    }
   ],
   "source": [
    "print(f'x_val : {len(x_val)}, y_val : {len(y_val)}')"
   ]
  },
  {
   "cell_type": "markdown",
   "metadata": {},
   "source": [
    "# Training"
   ]
  },
  {
   "cell_type": "code",
   "execution_count": 13,
   "metadata": {},
   "outputs": [
    {
     "name": "stdout",
     "output_type": "stream",
     "text": [
      "Train on 15000 samples, validate on 10000 samples\n",
      "Epoch 1/20\n",
      "15000/15000 [==============================] - 3s 213us/step - loss: 0.4976 - acc: 0.7953 - val_loss: 0.3717 - val_acc: 0.8718\n",
      "Epoch 2/20\n",
      "15000/15000 [==============================] - 3s 178us/step - loss: 0.2958 - acc: 0.9044 - val_loss: 0.2990 - val_acc: 0.8908\n",
      "Epoch 3/20\n",
      "15000/15000 [==============================] - 3s 189us/step - loss: 0.2159 - acc: 0.9286 - val_loss: 0.3083 - val_acc: 0.8721\n",
      "Epoch 4/20\n",
      "15000/15000 [==============================] - 3s 212us/step - loss: 0.1740 - acc: 0.9434 - val_loss: 0.2828 - val_acc: 0.8848\n",
      "Epoch 5/20\n",
      "15000/15000 [==============================] - 3s 189us/step - loss: 0.1413 - acc: 0.9541 - val_loss: 0.2862 - val_acc: 0.8853\n",
      "Epoch 6/20\n",
      "15000/15000 [==============================] - 3s 179us/step - loss: 0.1142 - acc: 0.9654 - val_loss: 0.3081 - val_acc: 0.8811\n",
      "Epoch 7/20\n",
      "15000/15000 [==============================] - 3s 187us/step - loss: 0.0969 - acc: 0.9708 - val_loss: 0.3148 - val_acc: 0.8842\n",
      "Epoch 8/20\n",
      "15000/15000 [==============================] - 3s 196us/step - loss: 0.0802 - acc: 0.9765 - val_loss: 0.3867 - val_acc: 0.8662\n",
      "Epoch 9/20\n",
      "15000/15000 [==============================] - 3s 211us/step - loss: 0.0657 - acc: 0.9820 - val_loss: 0.3651 - val_acc: 0.8777\n",
      "Epoch 10/20\n",
      "15000/15000 [==============================] - 3s 173us/step - loss: 0.0553 - acc: 0.9850 - val_loss: 0.3865 - val_acc: 0.8787\n",
      "Epoch 11/20\n",
      "15000/15000 [==============================] - 3s 187us/step - loss: 0.0455 - acc: 0.9885 - val_loss: 0.4184 - val_acc: 0.8764\n",
      "Epoch 12/20\n",
      "15000/15000 [==============================] - 3s 179us/step - loss: 0.0386 - acc: 0.9914 - val_loss: 0.4521 - val_acc: 0.8701\n",
      "Epoch 13/20\n",
      "15000/15000 [==============================] - 3s 201us/step - loss: 0.0296 - acc: 0.9939 - val_loss: 0.4716 - val_acc: 0.8738\n",
      "Epoch 14/20\n",
      "15000/15000 [==============================] - 3s 181us/step - loss: 0.0244 - acc: 0.9949 - val_loss: 0.5025 - val_acc: 0.8715\n",
      "Epoch 15/20\n",
      "15000/15000 [==============================] - 3s 185us/step - loss: 0.0185 - acc: 0.9974 - val_loss: 0.5319 - val_acc: 0.8700\n",
      "Epoch 16/20\n",
      "15000/15000 [==============================] - 3s 189us/step - loss: 0.0156 - acc: 0.9981 - val_loss: 0.5720 - val_acc: 0.8686\n",
      "Epoch 17/20\n",
      "15000/15000 [==============================] - 3s 198us/step - loss: 0.0145 - acc: 0.9976 - val_loss: 0.5996 - val_acc: 0.8688\n",
      "Epoch 18/20\n",
      "15000/15000 [==============================] - 3s 188us/step - loss: 0.0103 - acc: 0.9986 - val_loss: 0.6287 - val_acc: 0.8668\n",
      "Epoch 19/20\n",
      "15000/15000 [==============================] - 3s 193us/step - loss: 0.0062 - acc: 0.9997 - val_loss: 0.7542 - val_acc: 0.8529\n",
      "Epoch 20/20\n",
      "15000/15000 [==============================] - 2s 159us/step - loss: 0.0085 - acc: 0.9985 - val_loss: 0.6963 - val_acc: 0.8653\n"
     ]
    }
   ],
   "source": [
    "model.compile(optimizer = 'rmsprop',\n",
    "             loss = 'binary_crossentropy',\n",
    "             metrics=['acc'])\n",
    "\n",
    "history = model.fit(partial_x_train,\n",
    "                   partial_y_train,\n",
    "                   epochs=20,\n",
    "                   batch_size = 512,\n",
    "                   validation_data=(x_val, y_val))"
   ]
  },
  {
   "cell_type": "markdown",
   "metadata": {},
   "source": [
    "acc = Fitting rate\n",
    "val_acc = Accuracy\n",
    "\n",
    "validation data는 Test data는 아니지만, 학습이 잘 되고 있는지 확인하는 데이터이다."
   ]
  },
  {
   "cell_type": "code",
   "execution_count": 14,
   "metadata": {
    "scrolled": true
   },
   "outputs": [
    {
     "data": {
      "image/png": "[encoded data removed]",
      "text/plain": [
       "<Figure size 1440x360 with 2 Axes>"
      ]
     },
     "metadata": {
      "needs_background": "light"
     },
     "output_type": "display_data"
    }
   ],
   "source": [
    "import matplotlib.pyplot as plt\n",
    "# import seaborn as sns\n",
    "\n",
    "fig, ax= plt.subplots(1,2, figsize = (20,5))\n",
    "\n",
    "history_dict = history.history\n",
    "loss = history_dict['loss']\n",
    "val_loss = history_dict['val_loss']\n",
    "\n",
    "epochs = range(1, len(loss) + 1)\n",
    "\n",
    "ax[0].plot(epochs, loss, 'bo', label = 'Training loss')\n",
    "ax[0].plot(epochs, val_loss, 'b', label = 'Validation loss')\n",
    "ax[0].set_title(\"Training and vlidation loss\")\n",
    "ax[0].set_xlabel('Epochs')\n",
    "ax[0].set_ylabel('Loss')\n",
    "ax[0].legend()\n",
    "\n",
    "acc = history_dict['acc']\n",
    "val_acc = history_dict['val_acc']\n",
    "\n",
    "ax[1].plot(epochs, acc, 'bo', label = 'Training acc')\n",
    "ax[1].plot(epochs, val_acc, 'b', label = \"Validation acc\")\n",
    "ax[1].set_title('Training and validation accuracy')\n",
    "ax[1].set_xlabel('Epochs')\n",
    "ax[1].set_ylabel('Accuracy')\n",
    "ax[1].legend()\n",
    "\n",
    "plt.show()"
   ]
  },
  {
   "cell_type": "markdown",
   "metadata": {},
   "source": [
    "After epoch = 4\n",
    "    There is __overfitting.__\n",
    "\n",
    "__So, Epoch =4 is the best in this graph.__"
   ]
  },
  {
   "cell_type": "markdown",
   "metadata": {},
   "source": [
    "# Final model"
   ]
  },
  {
   "cell_type": "code",
   "execution_count": 15,
   "metadata": {},
   "outputs": [
    {
     "name": "stdout",
     "output_type": "stream",
     "text": [
      "Epoch 1/4\n",
      "25000/25000 [==============================] - 2s 100us/step - loss: 0.4750 - acc: 0.8217\n",
      "Epoch 2/4\n",
      "25000/25000 [==============================] - 2s 93us/step - loss: 0.2655 - acc: 0.9097\n",
      "Epoch 3/4\n",
      "25000/25000 [==============================] - 2s 93us/step - loss: 0.1983 - acc: 0.9295\n",
      "Epoch 4/4\n",
      "25000/25000 [==============================] - 2s 94us/step - loss: 0.1676 - acc: 0.9402\n",
      "25000/25000 [==============================] - 1s 56us/step\n"
     ]
    }
   ],
   "source": [
    "model = models.Sequential()\n",
    "model.add(layers.Dense(16, activation = 'relu', input_shape = (10000,)))\n",
    "model.add(layers.Dense(16, activation = 'relu'))\n",
    "model.add(layers.Dense(1, activation = 'sigmoid'))\n",
    "\n",
    "model.compile(optimizer = 'rmsprop',\n",
    "             loss = 'binary_crossentropy',\n",
    "             metrics=['accuracy'])\n",
    "\n",
    "model.fit(x_train, y_train, epochs=4, batch_size=512)\n",
    "results = model.evaluate(x_test, y_test)"
   ]
  },
  {
   "cell_type": "code",
   "execution_count": 16,
   "metadata": {},
   "outputs": [
    {
     "data": {
      "text/plain": [
       "[0.3233700657939911, 0.87352]"
      ]
     },
     "execution_count": 16,
     "metadata": {},
     "output_type": "execute_result"
    }
   ],
   "source": [
    "results"
   ]
  }
 ],
 "metadata": {
  "kernelspec": {
   "display_name": "Python [conda env:yong_ju] *",
   "language": "python",
   "name": "conda-env-yong_ju-py"
  },
  "language_info": {
   "codemirror_mode": {
    "name": "ipython",
    "version": 3
   },
   "file_extension": ".py",
   "mimetype": "text/x-python",
   "name": "python",
   "nbconvert_exporter": "python",
   "pygments_lexer": "ipython3",
   "version": "3.6.10"
  }
 },
 "nbformat": 4,
 "nbformat_minor": 4
}
