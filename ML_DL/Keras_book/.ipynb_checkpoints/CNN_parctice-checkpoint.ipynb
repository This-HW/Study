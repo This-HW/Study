{
 "cells": [
  {
   "cell_type": "markdown",
   "metadata": {},
   "source": [
    "# Data load & make base dir"
   ]
  },
  {
   "cell_type": "code",
   "execution_count": 1,
   "metadata": {},
   "outputs": [],
   "source": [
    "import os, shutil"
   ]
  },
  {
   "cell_type": "code",
   "execution_count": 2,
   "metadata": {},
   "outputs": [],
   "source": [
    "original_dataset_dir = './datasets/training_set/training_set'\n",
    "\n",
    "base_dir = './datasets/cats_and_dogs_small'\n",
    "# os.mkdir(base_dir)"
   ]
  },
  {
   "cell_type": "code",
   "execution_count": 3,
   "metadata": {},
   "outputs": [],
   "source": [
    "train_dir = os.path.join(base_dir, 'train')\n",
    "# os.mkdir(train_dir)\n",
    "validation_dir = os.path.join(base_dir, 'validation')\n",
    "# os.mkdir(validation_dir)\n",
    "test_dir = os.path.join(base_dir, 'test')\n",
    "# os.mkdir(test_dir)\n",
    "\n",
    "train_cats_dir = os.path.join(train_dir, 'cats')\n",
    "# os.mkdir(train_cats_dir)\n",
    "\n",
    "train_dogs_dir = os.path.join(train_dir, 'dogs')\n",
    "# os.mkdir(train_dogs_dir)\n",
    "\n",
    "validation_cats_dir = os.path.join(validation_dir, 'cats')\n",
    "# os.mkdir(validation_cats_dir)\n",
    "\n",
    "validation_dogs_dir = os.path.join(validation_dir, 'dogs')\n",
    "# os.mkdir(validation_dogs_dir)\n",
    "\n",
    "test_cats_dir = os.path.join(test_dir, 'cats')\n",
    "# os.mkdir(test_cats_dir)\n",
    "\n",
    "test_dogs_dir = os.path.join(test_dir, 'dogs')\n",
    "# os.mkdir(test_dogs_dir)"
   ]
  },
  {
   "cell_type": "markdown",
   "metadata": {},
   "source": [
    "# Copy original files to target dir"
   ]
  },
  {
   "cell_type": "code",
   "execution_count": 4,
   "metadata": {},
   "outputs": [],
   "source": [
    "# Copy cat file\n",
    "# cat train data copy\n",
    "fnames = ['cat.{}.jpg'.format(i) for i in range(1000)]\n",
    "for fname in fnames:\n",
    "    tmp = os.path.join(original_dataset_dir, \"cats\")\n",
    "    src = os.path.join(tmp, fname)\n",
    "    dst = os.path.join(train_cats_dir, fname)\n",
    "    shutil.copyfile(src, dst)\n",
    "    \n",
    "# cat validation data copy\n",
    "fnames = ['cat.{}.jpg'.format(i) for i in range(1000, 1500)]\n",
    "# type(fnames)\n",
    "for fname in fnames:\n",
    "    tmp = os.path.join(original_dataset_dir, \"cats\")\n",
    "    src = os.path.join(tmp, fname)\n",
    "    dst = os.path.join(validation_cats_dir, fname)\n",
    "    shutil.copyfile(src, dst)\n",
    "    \n",
    "# cat test data copy\n",
    "fnames = ['cat.{}.jpg'.format(i) for i in range(1500, 2000)]\n",
    "# type(fnames)\n",
    "for fname in fnames:\n",
    "    tmp = os.path.join(original_dataset_dir, \"cats\")\n",
    "    src = os.path.join(tmp, fname)\n",
    "    dst = os.path.join(test_cats_dir, fname)\n",
    "    shutil.copyfile(src, dst)\n",
    "\n",
    "    \n",
    "# Copy dog file\n",
    "# dog train data copy\n",
    "fnames = ['dog.{}.jpg'.format(i) for i in range(1000)]\n",
    "for fname in fnames:\n",
    "    tmp = os.path.join(original_dataset_dir, \"dogs\")\n",
    "    src = os.path.join(tmp, fname)\n",
    "    dst = os.path.join(train_dogs_dir, fname)\n",
    "    shutil.copyfile(src, dst)\n",
    "    \n",
    "# dog validation data copy\n",
    "fnames = ['dog.{}.jpg'.format(i) for i in range(1000, 1500)]\n",
    "# type(fnames)\n",
    "for fname in fnames:\n",
    "    tmp = os.path.join(original_dataset_dir, \"dogs\")\n",
    "    src = os.path.join(tmp, fname)\n",
    "    dst = os.path.join(validation_dogs_dir, fname)\n",
    "    shutil.copyfile(src, dst)\n",
    "    \n",
    "# cat test data copy\n",
    "fnames = ['dog.{}.jpg'.format(i) for i in range(1500, 2000)]\n",
    "# type(fnames)\n",
    "for fname in fnames:\n",
    "    tmp = os.path.join(original_dataset_dir, \"dogs\")\n",
    "    src = os.path.join(tmp, fname)\n",
    "    dst = os.path.join(test_dogs_dir, fname)\n",
    "    shutil.copyfile(src, dst)"
   ]
  },
  {
   "cell_type": "code",
   "execution_count": 5,
   "metadata": {},
   "outputs": [
    {
     "name": "stdout",
     "output_type": "stream",
     "text": [
      "count training cat image 1000\n",
      "count training dog image 1000\n",
      "count validation cat image 500\n",
      "count validation dog image 500\n",
      "count test cat image 500\n",
      "count test dog image 500\n"
     ]
    }
   ],
   "source": [
    "print('count training cat image', len(os.listdir(train_cats_dir)))\n",
    "print('count training dog image', len(os.listdir(train_dogs_dir)))\n",
    "print('count validation cat image', len(os.listdir(validation_cats_dir)))\n",
    "print('count validation dog image', len(os.listdir(validation_dogs_dir)))\n",
    "print('count test cat image', len(os.listdir(test_cats_dir)))\n",
    "print('count test dog image', len(os.listdir(test_dogs_dir)))"
   ]
  },
  {
   "cell_type": "markdown",
   "metadata": {},
   "source": [
    "# Make model"
   ]
  },
  {
   "cell_type": "code",
   "execution_count": 6,
   "metadata": {},
   "outputs": [
    {
     "name": "stderr",
     "output_type": "stream",
     "text": [
      "Using TensorFlow backend.\n"
     ]
    }
   ],
   "source": [
    "from keras import layers\n",
    "from keras import models"
   ]
  },
  {
   "cell_type": "code",
   "execution_count": 7,
   "metadata": {},
   "outputs": [
    {
     "name": "stdout",
     "output_type": "stream",
     "text": [
      "_________________________________________________________________\n",
      "Layer (type)                 Output Shape              Param #   \n",
      "=================================================================\n",
      "conv2d_1 (Conv2D)            (None, 148, 148, 32)      896       \n",
      "_________________________________________________________________\n",
      "max_pooling2d_1 (MaxPooling2 (None, 74, 74, 32)        0         \n",
      "_________________________________________________________________\n",
      "conv2d_2 (Conv2D)            (None, 72, 72, 64)        18496     \n",
      "_________________________________________________________________\n",
      "max_pooling2d_2 (MaxPooling2 (None, 36, 36, 64)        0         \n",
      "_________________________________________________________________\n",
      "conv2d_3 (Conv2D)            (None, 34, 34, 128)       73856     \n",
      "_________________________________________________________________\n",
      "max_pooling2d_3 (MaxPooling2 (None, 17, 17, 128)       0         \n",
      "_________________________________________________________________\n",
      "conv2d_4 (Conv2D)            (None, 15, 15, 128)       147584    \n",
      "_________________________________________________________________\n",
      "max_pooling2d_4 (MaxPooling2 (None, 7, 7, 128)         0         \n",
      "_________________________________________________________________\n",
      "flatten_1 (Flatten)          (None, 6272)              0         \n",
      "_________________________________________________________________\n",
      "dense_1 (Dense)              (None, 512)               3211776   \n",
      "_________________________________________________________________\n",
      "dense_2 (Dense)              (None, 1)                 513       \n",
      "=================================================================\n",
      "Total params: 3,453,121\n",
      "Trainable params: 3,453,121\n",
      "Non-trainable params: 0\n",
      "_________________________________________________________________\n"
     ]
    }
   ],
   "source": [
    "model = models.Sequential()\n",
    "model.add(layers.Conv2D(32, (3, 3), activation='relu', input_shape=(150, 150, 3)))\n",
    "model.add(layers.MaxPooling2D(2, 2))\n",
    "model.add(layers.Conv2D(64, (3, 3), activation='relu'))\n",
    "model.add(layers.MaxPooling2D(2, 2))\n",
    "model.add(layers.Conv2D(128, (3, 3), activation='relu'))\n",
    "model.add(layers.MaxPooling2D(2, 2))\n",
    "model.add(layers.Conv2D(128, (3, 3), activation='relu'))\n",
    "model.add(layers.MaxPooling2D(2, 2))\n",
    "model.add(layers.Flatten())\n",
    "model.add(layers.Dense(512, activation = 'relu'))\n",
    "model.add(layers.Dense(1, activation = 'sigmoid'))\n",
    "model.summary()"
   ]
  },
  {
   "cell_type": "markdown",
   "metadata": {},
   "source": [
    "# Optimize"
   ]
  },
  {
   "cell_type": "code",
   "execution_count": 8,
   "metadata": {},
   "outputs": [],
   "source": [
    "from keras import optimizers"
   ]
  },
  {
   "cell_type": "code",
   "execution_count": 9,
   "metadata": {},
   "outputs": [],
   "source": [
    "model.compile(loss = 'binary_crossentropy', optimizer = optimizers.RMSprop(lr=1e-4), metrics=['acc'])"
   ]
  },
  {
   "cell_type": "markdown",
   "metadata": {},
   "source": [
    "# Data preprocessing"
   ]
  },
  {
   "cell_type": "code",
   "execution_count": 10,
   "metadata": {},
   "outputs": [
    {
     "name": "stdout",
     "output_type": "stream",
     "text": [
      "Found 2000 images belonging to 2 classes.\n",
      "Found 1000 images belonging to 2 classes.\n"
     ]
    }
   ],
   "source": [
    "from keras.preprocessing.image import ImageDataGenerator\n",
    "\n",
    "train_datagen = ImageDataGenerator(rescale=1./255)\n",
    "test_datagen = ImageDataGenerator(rescale=1./255)\n",
    "\n",
    "train_generator = train_datagen.flow_from_directory(train_dir, target_size=(150,150), batch_size = 20, class_mode ='binary')\n",
    "\n",
    "validation_generator = test_datagen.flow_from_directory(validation_dir, target_size=(150,150), batch_size=20, class_mode = 'binary')"
   ]
  },
  {
   "cell_type": "markdown",
   "metadata": {},
   "source": [
    "# Training"
   ]
  },
  {
   "cell_type": "code",
   "execution_count": 11,
   "metadata": {
    "scrolled": true
   },
   "outputs": [
    {
     "name": "stdout",
     "output_type": "stream",
     "text": [
      "Epoch 1/30\n",
      "100/100 [==============================] - 140s 1s/step - loss: 0.6907 - acc: 0.5325 - val_loss: 0.6726 - val_acc: 0.5690\n",
      "Epoch 2/30\n",
      "100/100 [==============================] - 142s 1s/step - loss: 0.6656 - acc: 0.6020 - val_loss: 0.6481 - val_acc: 0.6090\n",
      "Epoch 3/30\n",
      "100/100 [==============================] - 143s 1s/step - loss: 0.6215 - acc: 0.6570 - val_loss: 0.6353 - val_acc: 0.6340\n",
      "Epoch 4/30\n",
      "100/100 [==============================] - 142s 1s/step - loss: 0.5824 - acc: 0.6865 - val_loss: 0.6124 - val_acc: 0.6480\n",
      "Epoch 5/30\n",
      "100/100 [==============================] - 142s 1s/step - loss: 0.5461 - acc: 0.7200 - val_loss: 0.6274 - val_acc: 0.6260\n",
      "Epoch 6/30\n",
      "100/100 [==============================] - 141s 1s/step - loss: 0.5241 - acc: 0.7325 - val_loss: 0.5965 - val_acc: 0.6570\n",
      "Epoch 7/30\n",
      "100/100 [==============================] - 141s 1s/step - loss: 0.4952 - acc: 0.7630 - val_loss: 0.5750 - val_acc: 0.6920\n",
      "Epoch 8/30\n",
      "100/100 [==============================] - 142s 1s/step - loss: 0.4712 - acc: 0.7730 - val_loss: 0.5670 - val_acc: 0.6970\n",
      "Epoch 9/30\n",
      "100/100 [==============================] - 141s 1s/step - loss: 0.4438 - acc: 0.7970 - val_loss: 0.6070 - val_acc: 0.6810\n",
      "Epoch 10/30\n",
      "100/100 [==============================] - 141s 1s/step - loss: 0.4259 - acc: 0.8035 - val_loss: 0.5965 - val_acc: 0.7000\n",
      "Epoch 11/30\n",
      "100/100 [==============================] - 139s 1s/step - loss: 0.3999 - acc: 0.8165 - val_loss: 0.5890 - val_acc: 0.7020\n",
      "Epoch 12/30\n",
      "100/100 [==============================] - 143s 1s/step - loss: 0.3752 - acc: 0.8310 - val_loss: 0.5931 - val_acc: 0.7070\n",
      "Epoch 13/30\n",
      "100/100 [==============================] - 141s 1s/step - loss: 0.3471 - acc: 0.8460 - val_loss: 0.6351 - val_acc: 0.6940\n",
      "Epoch 14/30\n",
      "100/100 [==============================] - 140s 1s/step - loss: 0.3295 - acc: 0.8595 - val_loss: 0.5850 - val_acc: 0.7190\n",
      "Epoch 15/30\n",
      "100/100 [==============================] - 138s 1s/step - loss: 0.2996 - acc: 0.8750 - val_loss: 0.6218 - val_acc: 0.7110\n",
      "Epoch 16/30\n",
      "100/100 [==============================] - 140s 1s/step - loss: 0.2765 - acc: 0.8810 - val_loss: 0.6346 - val_acc: 0.7100\n",
      "Epoch 17/30\n",
      "100/100 [==============================] - 141s 1s/step - loss: 0.2611 - acc: 0.8915 - val_loss: 0.6781 - val_acc: 0.7000\n",
      "Epoch 18/30\n",
      "100/100 [==============================] - 140s 1s/step - loss: 0.2366 - acc: 0.9055 - val_loss: 0.6618 - val_acc: 0.7000\n",
      "Epoch 19/30\n",
      "100/100 [==============================] - 142s 1s/step - loss: 0.2147 - acc: 0.9095 - val_loss: 0.7810 - val_acc: 0.7020\n",
      "Epoch 20/30\n",
      "100/100 [==============================] - 138s 1s/step - loss: 0.1905 - acc: 0.9285 - val_loss: 0.7164 - val_acc: 0.7260\n",
      "Epoch 21/30\n",
      "100/100 [==============================] - 141s 1s/step - loss: 0.1724 - acc: 0.9375 - val_loss: 0.7448 - val_acc: 0.7140\n",
      "Epoch 22/30\n",
      "100/100 [==============================] - 138s 1s/step - loss: 0.1489 - acc: 0.9495 - val_loss: 0.7400 - val_acc: 0.7150\n",
      "Epoch 23/30\n",
      "100/100 [==============================] - 140s 1s/step - loss: 0.1324 - acc: 0.9505 - val_loss: 0.8079 - val_acc: 0.7330\n",
      "Epoch 24/30\n",
      "100/100 [==============================] - 142s 1s/step - loss: 0.1195 - acc: 0.9635 - val_loss: 0.8077 - val_acc: 0.7240\n",
      "Epoch 25/30\n",
      "100/100 [==============================] - 140s 1s/step - loss: 0.0985 - acc: 0.9680 - val_loss: 0.9163 - val_acc: 0.7120\n",
      "Epoch 26/30\n",
      "100/100 [==============================] - 139s 1s/step - loss: 0.0939 - acc: 0.9695 - val_loss: 1.1015 - val_acc: 0.6960\n",
      "Epoch 27/30\n",
      "100/100 [==============================] - 140s 1s/step - loss: 0.0783 - acc: 0.9795 - val_loss: 0.8616 - val_acc: 0.7130\n",
      "Epoch 28/30\n",
      "100/100 [==============================] - 139s 1s/step - loss: 0.0679 - acc: 0.9790 - val_loss: 0.9419 - val_acc: 0.7030\n",
      "Epoch 29/30\n",
      "100/100 [==============================] - 114s 1s/step - loss: 0.0584 - acc: 0.9840 - val_loss: 1.0466 - val_acc: 0.7220\n",
      "Epoch 30/30\n",
      "100/100 [==============================] - 104s 1s/step - loss: 0.0514 - acc: 0.9880 - val_loss: 1.0863 - val_acc: 0.7140\n"
     ]
    }
   ],
   "source": [
    "from IPython.display import display, Image\n",
    "# from PIL import Image\n",
    "\n",
    "history = model.fit_generator( \n",
    "    train_generator, \n",
    "    steps_per_epoch=100, \n",
    "    epochs=30, \n",
    "    validation_data = validation_generator, \n",
    "    validation_steps=50)"
   ]
  },
  {
   "cell_type": "markdown",
   "metadata": {},
   "source": [
    "# Save model"
   ]
  },
  {
   "cell_type": "code",
   "execution_count": 12,
   "metadata": {},
   "outputs": [],
   "source": [
    "model.save('./model/cats_and_dogs_small_1.h5')"
   ]
  },
  {
   "cell_type": "markdown",
   "metadata": {},
   "source": [
    "# Graph"
   ]
  },
  {
   "cell_type": "code",
   "execution_count": 13,
   "metadata": {},
   "outputs": [
    {
     "data": {
      "image/png": "[encoded data removed]",
      "text/plain": [
       "<Figure size 432x288 with 1 Axes>"
      ]
     },
     "metadata": {
      "needs_background": "light"
     },
     "output_type": "display_data"
    },
    {
     "data": {
      "image/png": "[encoded data removed]",
      "text/plain": [
       "<Figure size 432x288 with 1 Axes>"
      ]
     },
     "metadata": {
      "needs_background": "light"
     },
     "output_type": "display_data"
    }
   ],
   "source": [
    "import matplotlib.pyplot as plt\n",
    "\n",
    "acc = history.history['acc']\n",
    "val_acc = history.history['val_acc']\n",
    "loss = history.history['loss']\n",
    "val_loss = history.history['val_loss']\n",
    "\n",
    "epochs = range(1, len(acc) + 1)\n",
    "\n",
    "plt.plot(epochs, acc, 'bo', label = 'Training acc')\n",
    "plt.plot(epochs, val_acc, 'b', label = 'Validation acc')\n",
    "plt.title('Training and validation accuracy')\n",
    "plt.legend()\n",
    "\n",
    "plt.figure()\n",
    "\n",
    "plt.plot(epochs, loss, 'bo', label = 'Training loss')\n",
    "plt.plot(epochs, val_loss, 'b', label = 'Validation loss')\n",
    "plt.title('Training and validation loss')\n",
    "plt.legend()\n",
    "\n",
    "plt.show()"
   ]
  },
  {
   "cell_type": "markdown",
   "metadata": {},
   "source": [
    "# Evaluate model"
   ]
  },
  {
   "cell_type": "code",
   "execution_count": 14,
   "metadata": {},
   "outputs": [
    {
     "name": "stdout",
     "output_type": "stream",
     "text": [
      "Found 1000 images belonging to 2 classes.\n"
     ]
    }
   ],
   "source": [
    "test_generator = test_datagen.flow_from_directory(\n",
    "    test_dir, target_size=(150,150), batch_size = 20, class_mode ='binary')"
   ]
  },
  {
   "cell_type": "code",
   "execution_count": 15,
   "metadata": {},
   "outputs": [
    {
     "name": "stdout",
     "output_type": "stream",
     "text": [
      "50/50 [==============================] - 22s 436ms/step\n",
      "test loss :  1.018093638420105\n",
      "test accuracy :  0.7229999995231629\n"
     ]
    }
   ],
   "source": [
    "test_loss, test_acc = model.evaluate_generator(test_generator, verbose=1)\n",
    "print('test loss : ', test_loss)\n",
    "print('test accuracy : ', test_acc)"
   ]
  },
  {
   "cell_type": "markdown",
   "metadata": {},
   "source": [
    "# Data multiplication & Drop out"
   ]
  },
  {
   "cell_type": "code",
   "execution_count": 16,
   "metadata": {},
   "outputs": [
    {
     "name": "stdout",
     "output_type": "stream",
     "text": [
      "Found 2000 images belonging to 2 classes.\n",
      "Found 1000 images belonging to 2 classes.\n"
     ]
    }
   ],
   "source": [
    "train_datagen = ImageDataGenerator(\n",
    "    rescale=1./255,\n",
    "    rotation_range=40,\n",
    "    width_shift_range=0.2,\n",
    "    height_shift_range=0.2,\n",
    "    shear_range=0.2,\n",
    "    horizontal_flip=True )\n",
    "test_datagen = ImageDataGenerator(rescale=1./255)\n",
    "\n",
    "train_generator = train_datagen.flow_from_directory(\n",
    "    train_dir,\n",
    "    target_size=(150,150),\n",
    "    batch_size = 32,\n",
    "    class_mode ='binary')\n",
    "\n",
    "validation_generator = test_datagen.flow_from_directory(\n",
    "    validation_dir, \n",
    "    target_size=(150,150), \n",
    "    batch_size=32, \n",
    "    class_mode = 'binary')"
   ]
  },
  {
   "cell_type": "markdown",
   "metadata": {},
   "source": [
    "# Training"
   ]
  },
  {
   "cell_type": "code",
   "execution_count": 17,
   "metadata": {},
   "outputs": [
    {
     "name": "stdout",
     "output_type": "stream",
     "text": [
      "Epoch 1/100\n",
      "100/100 [==============================] - 226s 2s/step - loss: 0.6994 - acc: 0.6691 - val_loss: 0.5473 - val_acc: 0.7253\n",
      "Epoch 2/100\n",
      "100/100 [==============================] - 224s 2s/step - loss: 0.5737 - acc: 0.6984 - val_loss: 0.5211 - val_acc: 0.7443\n",
      "Epoch 3/100\n",
      "100/100 [==============================] - 228s 2s/step - loss: 0.5618 - acc: 0.7062 - val_loss: 0.5061 - val_acc: 0.7456\n",
      "Epoch 4/100\n",
      "100/100 [==============================] - 226s 2s/step - loss: 0.5362 - acc: 0.7291 - val_loss: 0.5265 - val_acc: 0.7411\n",
      "Epoch 5/100\n",
      "100/100 [==============================] - 226s 2s/step - loss: 0.5427 - acc: 0.7178 - val_loss: 0.5080 - val_acc: 0.7386\n",
      "Epoch 6/100\n",
      "100/100 [==============================] - 229s 2s/step - loss: 0.5272 - acc: 0.7278 - val_loss: 0.5713 - val_acc: 0.7418\n",
      "Epoch 7/100\n",
      "100/100 [==============================] - 228s 2s/step - loss: 0.5076 - acc: 0.7519 - val_loss: 0.4812 - val_acc: 0.7563\n",
      "Epoch 8/100\n",
      "100/100 [==============================] - 227s 2s/step - loss: 0.5084 - acc: 0.7434 - val_loss: 0.5074 - val_acc: 0.7500\n",
      "Epoch 9/100\n",
      "100/100 [==============================] - 226s 2s/step - loss: 0.5131 - acc: 0.7416 - val_loss: 0.5152 - val_acc: 0.7418\n",
      "Epoch 10/100\n",
      "100/100 [==============================] - 224s 2s/step - loss: 0.5111 - acc: 0.7431 - val_loss: 0.5308 - val_acc: 0.7367\n",
      "Epoch 11/100\n",
      "100/100 [==============================] - 228s 2s/step - loss: 0.5036 - acc: 0.7569 - val_loss: 0.5811 - val_acc: 0.7094\n",
      "Epoch 12/100\n",
      "100/100 [==============================] - 229s 2s/step - loss: 0.5026 - acc: 0.7491 - val_loss: 0.4713 - val_acc: 0.7614\n",
      "Epoch 13/100\n",
      "100/100 [==============================] - 226s 2s/step - loss: 0.4946 - acc: 0.7566 - val_loss: 0.4946 - val_acc: 0.7640\n",
      "Epoch 14/100\n",
      "100/100 [==============================] - 227s 2s/step - loss: 0.4838 - acc: 0.7597 - val_loss: 0.4661 - val_acc: 0.7811\n",
      "Epoch 15/100\n",
      "100/100 [==============================] - 227s 2s/step - loss: 0.4911 - acc: 0.7594 - val_loss: 0.4735 - val_acc: 0.7576\n",
      "Epoch 16/100\n",
      "100/100 [==============================] - 228s 2s/step - loss: 0.4835 - acc: 0.7722 - val_loss: 0.5654 - val_acc: 0.7189\n",
      "Epoch 17/100\n",
      "100/100 [==============================] - 227s 2s/step - loss: 0.4792 - acc: 0.7781 - val_loss: 0.4921 - val_acc: 0.7703\n",
      "Epoch 18/100\n",
      "100/100 [==============================] - 224s 2s/step - loss: 0.4743 - acc: 0.7712 - val_loss: 0.4499 - val_acc: 0.7811\n",
      "Epoch 19/100\n",
      "100/100 [==============================] - 225s 2s/step - loss: 0.4742 - acc: 0.7694 - val_loss: 0.4595 - val_acc: 0.7779\n",
      "Epoch 20/100\n",
      "100/100 [==============================] - 229s 2s/step - loss: 0.4571 - acc: 0.7794 - val_loss: 0.4868 - val_acc: 0.7798\n",
      "Epoch 21/100\n",
      "100/100 [==============================] - 229s 2s/step - loss: 0.4784 - acc: 0.7747 - val_loss: 0.4755 - val_acc: 0.7824\n",
      "Epoch 22/100\n",
      "100/100 [==============================] - 226s 2s/step - loss: 0.4694 - acc: 0.7791 - val_loss: 0.6131 - val_acc: 0.7221\n",
      "Epoch 23/100\n",
      "100/100 [==============================] - 230s 2s/step - loss: 0.4704 - acc: 0.7738 - val_loss: 0.4806 - val_acc: 0.7690\n",
      "Epoch 24/100\n",
      "100/100 [==============================] - 176s 2s/step - loss: 0.4602 - acc: 0.7816 - val_loss: 0.4716 - val_acc: 0.7862\n",
      "Epoch 25/100\n",
      "100/100 [==============================] - 163s 2s/step - loss: 0.4621 - acc: 0.7787 - val_loss: 0.5130 - val_acc: 0.7602\n",
      "Epoch 26/100\n",
      "100/100 [==============================] - 163s 2s/step - loss: 0.4426 - acc: 0.7906 - val_loss: 0.4712 - val_acc: 0.7931\n",
      "Epoch 27/100\n",
      "100/100 [==============================] - 162s 2s/step - loss: 0.4423 - acc: 0.7909 - val_loss: 0.4927 - val_acc: 0.7659\n",
      "Epoch 28/100\n",
      "100/100 [==============================] - 162s 2s/step - loss: 0.4490 - acc: 0.7828 - val_loss: 0.4344 - val_acc: 0.7925\n",
      "Epoch 29/100\n",
      "100/100 [==============================] - 163s 2s/step - loss: 0.4548 - acc: 0.7916 - val_loss: 0.5017 - val_acc: 0.7640\n",
      "Epoch 30/100\n",
      "100/100 [==============================] - 162s 2s/step - loss: 0.4335 - acc: 0.8003 - val_loss: 0.4860 - val_acc: 0.7754\n",
      "Epoch 31/100\n",
      "100/100 [==============================] - 163s 2s/step - loss: 0.4401 - acc: 0.7934 - val_loss: 0.5140 - val_acc: 0.7690\n",
      "Epoch 32/100\n",
      "100/100 [==============================] - 163s 2s/step - loss: 0.4364 - acc: 0.7941 - val_loss: 0.4536 - val_acc: 0.7874\n",
      "Epoch 33/100\n",
      "100/100 [==============================] - 163s 2s/step - loss: 0.4428 - acc: 0.7966 - val_loss: 0.4495 - val_acc: 0.7887\n",
      "Epoch 34/100\n",
      "100/100 [==============================] - 162s 2s/step - loss: 0.4340 - acc: 0.8038 - val_loss: 0.4755 - val_acc: 0.7792\n",
      "Epoch 35/100\n",
      "100/100 [==============================] - 164s 2s/step - loss: 0.4249 - acc: 0.7991 - val_loss: 0.4386 - val_acc: 0.8090\n",
      "Epoch 36/100\n",
      "100/100 [==============================] - 162s 2s/step - loss: 0.4380 - acc: 0.8010 - val_loss: 0.4437 - val_acc: 0.8084\n",
      "Epoch 37/100\n",
      "100/100 [==============================] - 163s 2s/step - loss: 0.4294 - acc: 0.7953 - val_loss: 0.4382 - val_acc: 0.7982\n",
      "Epoch 38/100\n",
      "100/100 [==============================] - 163s 2s/step - loss: 0.4161 - acc: 0.8000 - val_loss: 0.4395 - val_acc: 0.8014\n",
      "Epoch 39/100\n",
      "100/100 [==============================] - 162s 2s/step - loss: 0.4298 - acc: 0.8006 - val_loss: 0.4552 - val_acc: 0.7811\n",
      "Epoch 40/100\n",
      "100/100 [==============================] - 164s 2s/step - loss: 0.4151 - acc: 0.8078 - val_loss: 0.5223 - val_acc: 0.7627\n",
      "Epoch 41/100\n",
      "100/100 [==============================] - 163s 2s/step - loss: 0.4099 - acc: 0.8150 - val_loss: 0.4363 - val_acc: 0.7900\n",
      "Epoch 42/100\n",
      "100/100 [==============================] - 162s 2s/step - loss: 0.4011 - acc: 0.8156 - val_loss: 0.4574 - val_acc: 0.8046\n",
      "Epoch 44/100\n",
      "100/100 [==============================] - 163s 2s/step - loss: 0.4196 - acc: 0.8056 - val_loss: 0.4685 - val_acc: 0.7862\n",
      "Epoch 45/100\n",
      "100/100 [==============================] - 163s 2s/step - loss: 0.4047 - acc: 0.8156 - val_loss: 0.5327 - val_acc: 0.7766\n",
      "Epoch 46/100\n",
      "100/100 [==============================] - 163s 2s/step - loss: 0.4015 - acc: 0.8175 - val_loss: 0.4531 - val_acc: 0.7881\n",
      "Epoch 47/100\n",
      "100/100 [==============================] - 162s 2s/step - loss: 0.4041 - acc: 0.8109 - val_loss: 0.4440 - val_acc: 0.8090\n",
      "Epoch 48/100\n",
      "100/100 [==============================] - 163s 2s/step - loss: 0.4114 - acc: 0.8119 - val_loss: 0.4297 - val_acc: 0.7963\n",
      "Epoch 49/100\n",
      "100/100 [==============================] - 163s 2s/step - loss: 0.4037 - acc: 0.8134 - val_loss: 0.4728 - val_acc: 0.7855\n",
      "Epoch 50/100\n",
      "100/100 [==============================] - 162s 2s/step - loss: 0.3923 - acc: 0.8231 - val_loss: 0.4660 - val_acc: 0.7906\n",
      "Epoch 51/100\n",
      "100/100 [==============================] - 162s 2s/step - loss: 0.4217 - acc: 0.8053 - val_loss: 0.4702 - val_acc: 0.7881\n",
      "Epoch 52/100\n",
      "100/100 [==============================] - 163s 2s/step - loss: 0.3780 - acc: 0.8253 - val_loss: 0.4663 - val_acc: 0.7830\n",
      "Epoch 53/100\n",
      "100/100 [==============================] - 163s 2s/step - loss: 0.3835 - acc: 0.8300 - val_loss: 0.4545 - val_acc: 0.7938\n",
      "Epoch 54/100\n",
      "100/100 [==============================] - 162s 2s/step - loss: 0.3917 - acc: 0.8247 - val_loss: 0.4371 - val_acc: 0.8039\n",
      "Epoch 55/100\n",
      "100/100 [==============================] - 163s 2s/step - loss: 0.3983 - acc: 0.8219 - val_loss: 0.4364 - val_acc: 0.8058\n",
      "Epoch 56/100\n",
      "100/100 [==============================] - 162s 2s/step - loss: 0.3772 - acc: 0.8306 - val_loss: 0.4555 - val_acc: 0.7963\n",
      "Epoch 57/100\n",
      "100/100 [==============================] - 163s 2s/step - loss: 0.3799 - acc: 0.8272 - val_loss: 0.4479 - val_acc: 0.8008\n",
      "Epoch 58/100\n",
      "100/100 [==============================] - 163s 2s/step - loss: 0.3886 - acc: 0.8244 - val_loss: 0.5080 - val_acc: 0.7824\n",
      "Epoch 59/100\n",
      "100/100 [==============================] - 163s 2s/step - loss: 0.3812 - acc: 0.8225 - val_loss: 0.4661 - val_acc: 0.7970\n",
      "Epoch 60/100\n",
      "100/100 [==============================] - 164s 2s/step - loss: 0.3857 - acc: 0.8216 - val_loss: 0.4482 - val_acc: 0.7963\n",
      "Epoch 61/100\n",
      "100/100 [==============================] - 163s 2s/step - loss: 0.3737 - acc: 0.8391 - val_loss: 0.4588 - val_acc: 0.8020\n",
      "Epoch 62/100\n",
      "100/100 [==============================] - 164s 2s/step - loss: 0.3707 - acc: 0.8381 - val_loss: 0.4543 - val_acc: 0.7970\n"
     ]
    },
    {
     "name": "stdout",
     "output_type": "stream",
     "text": [
      "Epoch 63/100\n",
      "100/100 [==============================] - 163s 2s/step - loss: 0.3794 - acc: 0.8350 - val_loss: 0.6318 - val_acc: 0.7519\n",
      "Epoch 64/100\n",
      "100/100 [==============================] - 163s 2s/step - loss: 0.3678 - acc: 0.8350 - val_loss: 0.5752 - val_acc: 0.7893\n",
      "Epoch 65/100\n",
      "100/100 [==============================] - 163s 2s/step - loss: 0.3594 - acc: 0.8391 - val_loss: 0.4416 - val_acc: 0.8071\n",
      "Epoch 66/100\n",
      "100/100 [==============================] - 164s 2s/step - loss: 0.3967 - acc: 0.8131 - val_loss: 0.4497 - val_acc: 0.7912\n",
      "Epoch 67/100\n",
      "100/100 [==============================] - 163s 2s/step - loss: 0.3637 - acc: 0.8353 - val_loss: 0.4544 - val_acc: 0.7970\n",
      "Epoch 68/100\n",
      "100/100 [==============================] - 162s 2s/step - loss: 0.3767 - acc: 0.8322 - val_loss: 0.4359 - val_acc: 0.7970\n",
      "Epoch 69/100\n",
      "100/100 [==============================] - 164s 2s/step - loss: 0.3773 - acc: 0.8353 - val_loss: 0.4292 - val_acc: 0.8103\n",
      "Epoch 70/100\n",
      "100/100 [==============================] - 163s 2s/step - loss: 0.3634 - acc: 0.8437 - val_loss: 0.5487 - val_acc: 0.7576\n",
      "Epoch 71/100\n",
      "100/100 [==============================] - 163s 2s/step - loss: 0.3765 - acc: 0.8347 - val_loss: 0.4897 - val_acc: 0.7843\n",
      "Epoch 72/100\n",
      "100/100 [==============================] - 164s 2s/step - loss: 0.3615 - acc: 0.8316 - val_loss: 0.4683 - val_acc: 0.7893\n",
      "Epoch 73/100\n",
      "100/100 [==============================] - 163s 2s/step - loss: 0.3682 - acc: 0.8362 - val_loss: 0.4543 - val_acc: 0.7963\n",
      "Epoch 74/100\n",
      "100/100 [==============================] - 163s 2s/step - loss: 0.3547 - acc: 0.8459 - val_loss: 0.5055 - val_acc: 0.7912\n",
      "Epoch 75/100\n",
      "100/100 [==============================] - 164s 2s/step - loss: 0.3657 - acc: 0.8419 - val_loss: 0.5374 - val_acc: 0.7887\n",
      "Epoch 76/100\n",
      "100/100 [==============================] - 164s 2s/step - loss: 0.3441 - acc: 0.8434 - val_loss: 0.4909 - val_acc: 0.7938\n",
      "Epoch 77/100\n",
      "100/100 [==============================] - 163s 2s/step - loss: 0.3699 - acc: 0.8291 - val_loss: 0.6552 - val_acc: 0.7411\n",
      "Epoch 78/100\n",
      "100/100 [==============================] - 163s 2s/step - loss: 0.3565 - acc: 0.8456 - val_loss: 0.4640 - val_acc: 0.7900\n",
      "Epoch 79/100\n",
      "100/100 [==============================] - 163s 2s/step - loss: 0.3619 - acc: 0.8394 - val_loss: 0.5165 - val_acc: 0.7792\n",
      "Epoch 80/100\n",
      "100/100 [==============================] - 163s 2s/step - loss: 0.3513 - acc: 0.8447 - val_loss: 0.5403 - val_acc: 0.7868\n",
      "Epoch 81/100\n",
      "100/100 [==============================] - 163s 2s/step - loss: 0.3526 - acc: 0.8488 - val_loss: 0.5348 - val_acc: 0.7652\n",
      "Epoch 82/100\n",
      "100/100 [==============================] - 163s 2s/step - loss: 0.3486 - acc: 0.8475 - val_loss: 0.4160 - val_acc: 0.8052\n",
      "Epoch 83/100\n",
      "100/100 [==============================] - 164s 2s/step - loss: 0.3556 - acc: 0.8419 - val_loss: 0.4902 - val_acc: 0.7887\n",
      "Epoch 84/100\n",
      "100/100 [==============================] - 162s 2s/step - loss: 0.3520 - acc: 0.8494 - val_loss: 0.6020 - val_acc: 0.7608\n",
      "Epoch 85/100\n",
      "100/100 [==============================] - 163s 2s/step - loss: 0.3423 - acc: 0.8503 - val_loss: 0.4960 - val_acc: 0.7868\n",
      "Epoch 86/100\n",
      "100/100 [==============================] - 163s 2s/step - loss: 0.3465 - acc: 0.8481 - val_loss: 0.4873 - val_acc: 0.7906\n",
      "Epoch 87/100\n",
      "100/100 [==============================] - 164s 2s/step - loss: 0.3373 - acc: 0.8506 - val_loss: 0.5145 - val_acc: 0.7970\n",
      "Epoch 88/100\n",
      "100/100 [==============================] - 163s 2s/step - loss: 0.3449 - acc: 0.8447 - val_loss: 0.5067 - val_acc: 0.7931\n",
      "Epoch 89/100\n",
      "100/100 [==============================] - 163s 2s/step - loss: 0.3355 - acc: 0.8534 - val_loss: 0.7392 - val_acc: 0.7272\n",
      "Epoch 90/100\n",
      "100/100 [==============================] - 163s 2s/step - loss: 0.3462 - acc: 0.8497 - val_loss: 0.5657 - val_acc: 0.7747\n",
      "Epoch 92/100\n",
      "100/100 [==============================] - 163s 2s/step - loss: 0.3371 - acc: 0.8566 - val_loss: 0.5134 - val_acc: 0.7944\n",
      "Epoch 93/100\n",
      "100/100 [==============================] - 163s 2s/step - loss: 0.3464 - acc: 0.8522 - val_loss: 0.4718 - val_acc: 0.8077\n",
      "Epoch 94/100\n",
      "100/100 [==============================] - 163s 2s/step - loss: 0.3542 - acc: 0.8409 - val_loss: 0.5606 - val_acc: 0.7633\n",
      "Epoch 95/100\n",
      "100/100 [==============================] - 164s 2s/step - loss: 0.3360 - acc: 0.8537 - val_loss: 0.5732 - val_acc: 0.7836\n",
      "Epoch 96/100\n",
      "100/100 [==============================] - 163s 2s/step - loss: 0.3362 - acc: 0.8578 - val_loss: 0.4755 - val_acc: 0.8128\n",
      "Epoch 97/100\n",
      "100/100 [==============================] - 163s 2s/step - loss: 0.3330 - acc: 0.8522 - val_loss: 0.5015 - val_acc: 0.7931\n",
      "Epoch 98/100\n",
      "100/100 [==============================] - 164s 2s/step - loss: 0.3302 - acc: 0.8631 - val_loss: 0.4685 - val_acc: 0.8179\n",
      "Epoch 99/100\n",
      "100/100 [==============================] - 162s 2s/step - loss: 0.3168 - acc: 0.8637 - val_loss: 0.5828 - val_acc: 0.7995\n",
      "Epoch 100/100\n",
      "100/100 [==============================] - 163s 2s/step - loss: 0.3284 - acc: 0.8631 - val_loss: 0.4996 - val_acc: 0.7931\n"
     ]
    }
   ],
   "source": [
    "history = model.fit_generator( \n",
    "    train_generator, \n",
    "    steps_per_epoch=100, \n",
    "    epochs=100, \n",
    "    validation_data = validation_generator, \n",
    "    validation_steps=50)"
   ]
  },
  {
   "cell_type": "markdown",
   "metadata": {},
   "source": [
    "# Save model"
   ]
  },
  {
   "cell_type": "code",
   "execution_count": 18,
   "metadata": {},
   "outputs": [],
   "source": [
    "model.save('./model/cats_and_dogs_small_2.h5')"
   ]
  },
  {
   "cell_type": "markdown",
   "metadata": {},
   "source": [
    "# Graph"
   ]
  },
  {
   "cell_type": "code",
   "execution_count": 19,
   "metadata": {},
   "outputs": [
    {
     "data": {
      "image/png": "[encoded data removed]",
      "text/plain": [
       "<Figure size 432x288 with 1 Axes>"
      ]
     },
     "metadata": {
      "needs_background": "light"
     },
     "output_type": "display_data"
    },
    {
     "data": {
      "image/png": "[encoded data removed]",
      "text/plain": [
       "<Figure size 432x288 with 1 Axes>"
      ]
     },
     "metadata": {
      "needs_background": "light"
     },
     "output_type": "display_data"
    }
   ],
   "source": [
    "acc = history.history['acc']\n",
    "val_acc = history.history['val_acc']\n",
    "loss = history.history['loss']\n",
    "val_loss = history.history['val_loss']\n",
    "\n",
    "epochs = range(1, len(acc) + 1)\n",
    "\n",
    "plt.plot(epochs, acc, 'bo', label = 'Training acc')\n",
    "plt.plot(epochs, val_acc, 'b', label = 'Validation acc')\n",
    "plt.title('Training and validation accuracy')\n",
    "plt.legend()\n",
    "\n",
    "plt.figure()\n",
    "\n",
    "plt.plot(epochs, loss, 'bo', label = 'Training loss')\n",
    "plt.plot(epochs, val_loss, 'b', label = 'Validation loss')\n",
    "plt.title('Training and validation loss')\n",
    "plt.legend()\n",
    "\n",
    "plt.show()"
   ]
  },
  {
   "cell_type": "markdown",
   "metadata": {},
   "source": [
    "# Evaluate model"
   ]
  },
  {
   "cell_type": "code",
   "execution_count": 20,
   "metadata": {},
   "outputs": [
    {
     "name": "stdout",
     "output_type": "stream",
     "text": [
      "Found 1000 images belonging to 2 classes.\n"
     ]
    }
   ],
   "source": [
    "test_generator = test_datagen.flow_from_directory(\n",
    "    test_dir, target_size=(150,150), batch_size = 32, class_mode ='binary')"
   ]
  },
  {
   "cell_type": "code",
   "execution_count": 21,
   "metadata": {},
   "outputs": [
    {
     "name": "stdout",
     "output_type": "stream",
     "text": [
      "32/32 [==============================] - 16s 494ms/step\n",
      "test loss :  0.5093520379066467\n",
      "test accuracy :  0.785\n"
     ]
    }
   ],
   "source": [
    "test_loss, test_acc = model.evaluate_generator(test_generator, verbose=1)\n",
    "print('test loss : ', test_loss)\n",
    "print('test accuracy : ', test_acc)"
   ]
  }
 ],
 "metadata": {
  "kernelspec": {
   "display_name": "Python [conda env:yong_ju] *",
   "language": "python",
   "name": "conda-env-yong_ju-py"
  },
  "language_info": {
   "codemirror_mode": {
    "name": "ipython",
    "version": 3
   },
   "file_extension": ".py",
   "mimetype": "text/x-python",
   "name": "python",
   "nbconvert_exporter": "python",
   "pygments_lexer": "ipython3",
   "version": "3.6.10"
  }
 },
 "nbformat": 4,
 "nbformat_minor": 4
}
