{
 "cells": [
  {
   "cell_type": "code",
   "execution_count": 1,
   "metadata": {},
   "outputs": [
    {
     "name": "stderr",
     "output_type": "stream",
     "text": [
      "Using TensorFlow backend.\n"
     ]
    }
   ],
   "source": [
    "import keras\n",
    "from keras.layers import Embedding\n",
    "from keras.datasets import imdb\n",
    "from keras import preprocessing\n",
    "from keras.models import Sequential\n",
    "from keras.layers import Flatten, Dense, Embedding"
   ]
  },
  {
   "cell_type": "code",
   "execution_count": 2,
   "metadata": {},
   "outputs": [],
   "source": [
    "max_features = 10000\n",
    "maxlen = 20\n",
    "\n",
    "(x_train, y_train), (x_test, y_test) = imdb.load_data(num_words=max_features)"
   ]
  },
  {
   "cell_type": "code",
   "execution_count": 3,
   "metadata": {},
   "outputs": [
    {
     "name": "stdout",
     "output_type": "stream",
     "text": [
      "Model: \"sequential_1\"\n",
      "_________________________________________________________________\n",
      "Layer (type)                 Output Shape              Param #   \n",
      "=================================================================\n",
      "embedding_1 (Embedding)      (None, 20, 8)             80000     \n",
      "_________________________________________________________________\n",
      "flatten_1 (Flatten)          (None, 160)               0         \n",
      "_________________________________________________________________\n",
      "dense_1 (Dense)              (None, 1)                 161       \n",
      "=================================================================\n",
      "Total params: 80,161\n",
      "Trainable params: 80,161\n",
      "Non-trainable params: 0\n",
      "_________________________________________________________________\n"
     ]
    }
   ],
   "source": [
    "x_train = preprocessing.sequence.pad_sequences(x_train, maxlen=maxlen)\n",
    "x_test = preprocessing.sequence.pad_sequences(x_test, maxlen=maxlen)\n",
    "\n",
    "model = Sequential()\n",
    "model.add(Embedding(10000, 8, input_length=maxlen))\n",
    "\n",
    "model.add(Flatten())\n",
    "\n",
    "model.add(Dense(1, activation='sigmoid'))\n",
    "model.compile(optimizer='rmsprop', loss='binary_crossentropy', metrics=['acc'])\n",
    "model.summary()"
   ]
  },
  {
   "cell_type": "code",
   "execution_count": 4,
   "metadata": {},
   "outputs": [
    {
     "name": "stderr",
     "output_type": "stream",
     "text": [
      "C:\\Users\\didix\\Anaconda3\\lib\\site-packages\\tensorflow_core\\python\\framework\\indexed_slices.py:424: UserWarning: Converting sparse IndexedSlices to a dense Tensor of unknown shape. This may consume a large amount of memory.\n",
      "  \"Converting sparse IndexedSlices to a dense Tensor of unknown shape. \"\n"
     ]
    },
    {
     "name": "stdout",
     "output_type": "stream",
     "text": [
      "Train on 20000 samples, validate on 5000 samples\n",
      "Epoch 1/10\n",
      "20000/20000 [==============================] - 2s 102us/step - loss: 0.6653 - acc: 0.6378 - val_loss: 0.6131 - val_acc: 0.6968\n",
      "Epoch 2/10\n",
      "20000/20000 [==============================] - 2s 81us/step - loss: 0.5383 - acc: 0.7506 - val_loss: 0.5251 - val_acc: 0.7322\n",
      "Epoch 3/10\n",
      "20000/20000 [==============================] - 2s 81us/step - loss: 0.4612 - acc: 0.7862 - val_loss: 0.5018 - val_acc: 0.7426\n",
      "Epoch 4/10\n",
      "20000/20000 [==============================] - 2s 78us/step - loss: 0.4227 - acc: 0.8101 - val_loss: 0.4940 - val_acc: 0.7522\n",
      "Epoch 5/10\n",
      "20000/20000 [==============================] - 2s 79us/step - loss: 0.3961 - acc: 0.8242 - val_loss: 0.4936 - val_acc: 0.7564\n",
      "Epoch 6/10\n",
      "20000/20000 [==============================] - 2s 82us/step - loss: 0.3739 - acc: 0.8360 - val_loss: 0.4972 - val_acc: 0.7554\n",
      "Epoch 7/10\n",
      "20000/20000 [==============================] - 2s 80us/step - loss: 0.3535 - acc: 0.8485 - val_loss: 0.5022 - val_acc: 0.7558\n",
      "Epoch 8/10\n",
      "20000/20000 [==============================] - 2s 80us/step - loss: 0.3345 - acc: 0.8577 - val_loss: 0.5105 - val_acc: 0.7534\n",
      "Epoch 9/10\n",
      "20000/20000 [==============================] - 2s 78us/step - loss: 0.3164 - acc: 0.8690 - val_loss: 0.5161 - val_acc: 0.7514\n",
      "Epoch 10/10\n",
      "20000/20000 [==============================] - 2s 81us/step - loss: 0.2990 - acc: 0.8771 - val_loss: 0.5256 - val_acc: 0.7466\n"
     ]
    }
   ],
   "source": [
    "history = model.fit(x_train, y_train,\n",
    "                    epochs=10,\n",
    "                    batch_size=32,\n",
    "                    validation_split=0.2)"
   ]
  }
 ],
 "metadata": {
  "kernelspec": {
   "display_name": "Python 3",
   "language": "python",
   "name": "python3"
  },
  "language_info": {
   "codemirror_mode": {
    "name": "ipython",
    "version": 3
   },
   "file_extension": ".py",
   "mimetype": "text/x-python",
   "name": "python",
   "nbconvert_exporter": "python",
   "pygments_lexer": "ipython3",
   "version": "3.7.4"
  }
 },
 "nbformat": 4,
 "nbformat_minor": 2
}
