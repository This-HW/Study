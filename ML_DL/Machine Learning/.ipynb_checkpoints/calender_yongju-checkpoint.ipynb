{
 "cells": [
  {
   "cell_type": "code",
   "execution_count": 1,
   "metadata": {},
   "outputs": [
    {
     "name": "stdout",
     "output_type": "stream",
     "text": [
      "월을 입력하세요(1~12):11\n",
      "\n",
      "\n",
      "\n",
      "                                 11 월\n",
      "\n",
      "\n",
      "       일        월        화        수        목        금        토 \n",
      "\n",
      "                                                          1         2 \n",
      "\n",
      "        3         4         5         6         7         8         9 \n",
      "\n",
      "       10        11        12        13        14        15        16 \n",
      "\n",
      "       17        18        19        20        21        22        23 \n",
      "\n",
      "       24        25        26        27        28        29        30 "
     ]
    }
   ],
   "source": [
    "#### 2019 calender maker\n",
    "\n",
    "\n",
    "month=eval(input('월을 입력하세요(1~12):'))\n",
    "print(\"\\n\\n\")\n",
    "print(\"%35d 월\\n\\n\" %month)\n",
    "m_num = [31, 28, 31, 30, 31, 30, 31, 31, 30, 31, 30, 31]\n",
    "sum=0\n",
    "count=0\n",
    "month-=1\n",
    "for i in m_num:\n",
    "    if(count >= month): break;\n",
    "    sum+=i\n",
    "    count=count+1\n",
    "\n",
    "st = (2 + sum)%7\n",
    "\n",
    "\n",
    "li=[\"일\", \"월\", \"화\", \"수\", \"목\", \"금\", \"토\"]\n",
    "\n",
    "for i in li:\n",
    "    print('%8s'%i, end= \" \")\n",
    "print(\"\\n\")\n",
    "\n",
    "days = range(0,m_num[month])\n",
    "week = [0,1,2,3,4,5,6]\n",
    "a=0\n",
    "\n",
    "\n",
    "while a<st :\n",
    "    a+=1\n",
    "    print(\"         \", end=\" \")\n",
    "\n",
    "for i in days :\n",
    "    if (i>=1) & ((i+st)%7==0) : print(\"\\n\")\n",
    "    print('%9d' %(i+1), end=' ')\n",
    "    \n",
    "    "
   ]
  },
  {
   "cell_type": "code",
   "execution_count": null,
   "metadata": {},
   "outputs": [],
   "source": []
  }
 ],
 "metadata": {
  "kernelspec": {
   "display_name": "Python 3",
   "language": "python",
   "name": "python3"
  },
  "language_info": {
   "codemirror_mode": {
    "name": "ipython",
    "version": 3
   },
   "file_extension": ".py",
   "mimetype": "text/x-python",
   "name": "python",
   "nbconvert_exporter": "python",
   "pygments_lexer": "ipython3",
   "version": "3.7.4"
  }
 },
 "nbformat": 4,
 "nbformat_minor": 2
}
