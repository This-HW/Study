{
 "cells": [
  {
   "cell_type": "code",
   "execution_count": 1,
   "metadata": {},
   "outputs": [
    {
     "data": {
      "text/plain": [
       "1"
      ]
     },
     "execution_count": 1,
     "metadata": {},
     "output_type": "execute_result"
    }
   ],
   "source": [
    "10%3"
   ]
  },
  {
   "cell_type": "code",
   "execution_count": 2,
   "metadata": {},
   "outputs": [
    {
     "name": "stdout",
     "output_type": "stream",
     "text": [
      "6\n"
     ]
    }
   ],
   "source": [
    "number = 123456\n",
    "split_number = number % 10\n",
    "print(split_number)\n",
    "#각 자리수 분리해서 더한뒤에 출력하시오\n"
   ]
  },
  {
   "cell_type": "code",
   "execution_count": 4,
   "metadata": {},
   "outputs": [
    {
     "ename": "NameError",
     "evalue": "name 'sum_digit' is not defined",
     "output_type": "error",
     "traceback": [
      "\u001b[1;31m---------------------------------------------------------------------------\u001b[0m",
      "\u001b[1;31mNameError\u001b[0m                                 Traceback (most recent call last)",
      "\u001b[1;32m<ipython-input-4-6ca2544562e3>\u001b[0m in \u001b[0;36m<module>\u001b[1;34m\u001b[0m\n\u001b[1;32m----> 1\u001b[1;33m \u001b[0msum_digit\u001b[0m\u001b[1;33m(\u001b[0m\u001b[1;36m123456\u001b[0m\u001b[1;33m)\u001b[0m\u001b[1;33m\u001b[0m\u001b[1;33m\u001b[0m\u001b[0m\n\u001b[0m",
      "\u001b[1;31mNameError\u001b[0m: name 'sum_digit' is not defined"
     ]
    }
   ],
   "source": [
    "sum_digit(123456)"
   ]
  },
  {
   "cell_type": "code",
   "execution_count": 13,
   "metadata": {},
   "outputs": [],
   "source": [
    "def sum_digit(num):\n",
    "    result = 0\n",
    "    for i in str(num):\n",
    "        result = result + int(i)\n",
    "    return result\n",
    "    "
   ]
  },
  {
   "cell_type": "code",
   "execution_count": 15,
   "metadata": {},
   "outputs": [
    {
     "name": "stdout",
     "output_type": "stream",
     "text": [
      "결과 : 21\n"
     ]
    }
   ],
   "source": [
    "print(\"결과 : {}\".format(sum_digit(123456)));"
   ]
  },
  {
   "cell_type": "code",
   "execution_count": 22,
   "metadata": {},
   "outputs": [],
   "source": [
    "def num_sum(num):\n",
    "    sum = 0\n",
    "    for i in range(1,num+1):\n",
    "        sum=sum+i\n",
    "    return sum"
   ]
  },
  {
   "cell_type": "code",
   "execution_count": 23,
   "metadata": {},
   "outputs": [
    {
     "data": {
      "text/plain": [
       "55"
      ]
     },
     "execution_count": 23,
     "metadata": {},
     "output_type": "execute_result"
    }
   ],
   "source": [
    "num_sum(10)"
   ]
  },
  {
   "cell_type": "code",
   "execution_count": 1,
   "metadata": {},
   "outputs": [
    {
     "name": "stdout",
     "output_type": "stream",
     "text": [
      "1 * 1 = 1\n",
      "1 * 2 = 2\n",
      "1 * 3 = 3\n",
      "1 * 4 = 4\n",
      "1 * 5 = 5\n",
      "1 * 6 = 6\n",
      "1 * 7 = 7\n",
      "1 * 8 = 8\n",
      "1 * 9 = 9\n",
      "2 * 1 = 2\n",
      "2 * 2 = 4\n",
      "2 * 3 = 6\n",
      "2 * 4 = 8\n",
      "2 * 5 = 10\n",
      "2 * 6 = 12\n",
      "2 * 7 = 14\n",
      "2 * 8 = 16\n",
      "2 * 9 = 18\n",
      "3 * 1 = 3\n",
      "3 * 2 = 6\n",
      "3 * 3 = 9\n",
      "3 * 4 = 12\n",
      "3 * 5 = 15\n",
      "3 * 6 = 18\n",
      "3 * 7 = 21\n",
      "3 * 8 = 24\n",
      "3 * 9 = 27\n",
      "4 * 1 = 4\n",
      "4 * 2 = 8\n",
      "4 * 3 = 12\n",
      "4 * 4 = 16\n",
      "4 * 5 = 20\n",
      "4 * 6 = 24\n",
      "4 * 7 = 28\n",
      "4 * 8 = 32\n",
      "4 * 9 = 36\n",
      "5 * 1 = 5\n",
      "5 * 2 = 10\n",
      "5 * 3 = 15\n",
      "5 * 4 = 20\n",
      "5 * 5 = 25\n",
      "5 * 6 = 30\n",
      "5 * 7 = 35\n",
      "5 * 8 = 40\n",
      "5 * 9 = 45\n",
      "6 * 1 = 6\n",
      "6 * 2 = 12\n",
      "6 * 3 = 18\n",
      "6 * 4 = 24\n",
      "6 * 5 = 30\n",
      "6 * 6 = 36\n",
      "6 * 7 = 42\n",
      "6 * 8 = 48\n",
      "6 * 9 = 54\n",
      "7 * 1 = 7\n",
      "7 * 2 = 14\n",
      "7 * 3 = 21\n",
      "7 * 4 = 28\n",
      "7 * 5 = 35\n",
      "7 * 6 = 42\n",
      "7 * 7 = 49\n",
      "7 * 8 = 56\n",
      "7 * 9 = 63\n",
      "8 * 1 = 8\n",
      "8 * 2 = 16\n",
      "8 * 3 = 24\n",
      "8 * 4 = 32\n",
      "8 * 5 = 40\n",
      "8 * 6 = 48\n",
      "8 * 7 = 56\n",
      "8 * 8 = 64\n",
      "8 * 9 = 72\n",
      "9 * 1 = 9\n",
      "9 * 2 = 18\n",
      "9 * 3 = 27\n",
      "9 * 4 = 36\n",
      "9 * 5 = 45\n",
      "9 * 6 = 54\n",
      "9 * 7 = 63\n",
      "9 * 8 = 72\n",
      "9 * 9 = 81\n"
     ]
    }
   ],
   "source": [
    "for m in range(1,10):\n",
    "    for k in range(1,10):\n",
    "        print(m,'*',k,'=',m*k)"
   ]
  },
  {
   "cell_type": "code",
   "execution_count": 4,
   "metadata": {},
   "outputs": [
    {
     "name": "stdout",
     "output_type": "stream",
     "text": [
      "2028 년은 윤년입니다.\n"
     ]
    }
   ],
   "source": [
    "year = 2028\n",
    "if((year%4==0 and year%100 !=0) or year%400 == 0):\n",
    "    print(year,\"년은 윤년입니다.\")\n",
    "else:\n",
    "        print(year, \"년은 윤년이 아닙니다.\")"
   ]
  },
  {
   "cell_type": "code",
   "execution_count": null,
   "metadata": {},
   "outputs": [],
   "source": [
    "import datetime\n",
    "\n",
    "\n",
    "\n",
    "def getMonthName(month):\n",
    "\n",
    "    li=['January','February','March','April','May','June',\n",
    "\n",
    "        'July','August','Setember','October','November','December']\n",
    "\n",
    "    monthName=li[month-1]\n",
    "\n",
    "    return monthName\n",
    "\n",
    "\n",
    "\n",
    "def title(year,month):\n",
    "\n",
    "    print('    ',getMonthName(month),' ',year)\n",
    "\n",
    "    print('-'*50)\n",
    "\n",
    "    print('일  월  화  수  목  금  토')\n",
    "\n",
    "    \n",
    "def getStartDay(year,month):\n",
    "\n",
    "    d=datetime.date(year,month,1)\n",
    "\n",
    "    return d.weekday()#월요일 0\n",
    "\n",
    "\n",
    "def getLastDay(year,month):\n",
    "\n",
    "    if month==12:\n",
    "\n",
    "       year=year+1\n",
    "\n",
    "       month=1\n",
    "\n",
    "    else:\n",
    "\n",
    "       month=month+1\n",
    "\n",
    "    d=datetime.date(year,month,1)  \n",
    "\n",
    "    t=datetime.timedelta(days=1)\n",
    "\n",
    "    k=d-t\n",
    "\n",
    "    return k.day\n",
    "\n",
    "\n",
    "\n",
    "    \n",
    "\n",
    "def body(year,month):\n",
    "\n",
    "    startday=getStartDay(year,month)\n",
    "\n",
    "    lastday=getLastDay(year,month)\n",
    "\n",
    "    if startday==6:\n",
    "\n",
    "        s=1\n",
    "\n",
    "    else:\n",
    "\n",
    "        s=startday+2\n",
    "\n",
    "    c=0\n",
    "\n",
    "    m=0\n",
    "\n",
    " \n",
    "\n",
    "    for k in range(6):\n",
    "\n",
    "        for i in range(7):\n",
    "\n",
    "            c=c+1\n",
    "\n",
    "            if c<s:\n",
    "\n",
    "                print('{:>2}'.format(' '),end='  ')\n",
    "\n",
    "            else:\n",
    "\n",
    "                if lastday>m:\n",
    "\n",
    "                    m=m+1\n",
    "\n",
    "                    print('{:>2}'.format(m),end='  ')\n",
    "\n",
    "        print()\n",
    "\n",
    "    \n",
    "\n",
    "def Dal(year,month):\n",
    "\n",
    "    title(year,month)\n",
    "\n",
    "    body(year,month)\n",
    "\n",
    "    \n",
    "    \n",
    "def main():\n",
    "\n",
    "    year=eval(input('연도를 입력하세요(ex. YYYY):'))\n",
    "\n",
    "    month=eval(input('월을 입력하세요(1~12):'))\n",
    "\n",
    "    Dal(year,month)\n",
    "\n",
    "\n",
    "\n",
    "main()\n",
    "\n"
   ]
  },
  {
   "cell_type": "code",
   "execution_count": 54,
   "metadata": {},
   "outputs": [
    {
     "name": "stdout",
     "output_type": "stream",
     "text": [
      "월을 입력하세요(1~12):12\n",
      "\n",
      "\n",
      "\n",
      "                                 12 월\n",
      "\n",
      "\n",
      "       일        월        화        수        목        금        토 \n",
      "\n",
      "        1         2         3         4         5         6         7 \n",
      "\n",
      "        8         9        10        11        12        13        14 \n",
      "\n",
      "       15        16        17        18        19        20        21 \n",
      "\n",
      "       22        23        24        25        26        27        28 \n",
      "\n",
      "       29        30        31 "
     ]
    }
   ],
   "source": [
    "#### 2019 calender maker\n",
    "\n",
    "\n",
    "month=eval(input('월을 입력하세요(1~12):'))\n",
    "print(\"\\n\\n\")\n",
    "print(\"%35d 월\\n\\n\" %month)\n",
    "m_num = [31, 28, 31, 30, 31, 30, 31, 31, 30, 31, 30, 31]\n",
    "sum=0\n",
    "count=0\n",
    "month-=1\n",
    "for i in m_num:\n",
    "    if(count >= month): break;\n",
    "    sum+=i\n",
    "    count=count+1\n",
    "\n",
    "st = (2 + sum)%7\n",
    "\n",
    "\n",
    "li=[\"일\", \"월\", \"화\", \"수\", \"목\", \"금\", \"토\"]\n",
    "\n",
    "for i in li:\n",
    "    print('%8s'%i, end= \" \")\n",
    "print(\"\\n\")\n",
    "\n",
    "days = range(0,m_num[month])\n",
    "week = [0,1,2,3,4,5,6]\n",
    "a=0\n",
    "\n",
    "\n",
    "while a<st :\n",
    "    a+=1\n",
    "    print(\"         \", end=\" \")\n",
    "\n",
    "for i in days :\n",
    "    if (i>=1) & ((i+st)%7==0) : print(\"\\n\")\n",
    "    print('%9d' %(i+1), end=' ')\n",
    "    \n",
    "    \n",
    "    "
   ]
  },
  {
   "cell_type": "code",
   "execution_count": null,
   "metadata": {},
   "outputs": [],
   "source": []
  },
  {
   "cell_type": "code",
   "execution_count": null,
   "metadata": {},
   "outputs": [],
   "source": []
  }
 ],
 "metadata": {
  "kernelspec": {
   "display_name": "Python 3",
   "language": "python",
   "name": "python3"
  },
  "language_info": {
   "codemirror_mode": {
    "name": "ipython",
    "version": 3
   },
   "file_extension": ".py",
   "mimetype": "text/x-python",
   "name": "python",
   "nbconvert_exporter": "python",
   "pygments_lexer": "ipython3",
   "version": "3.7.4"
  }
 },
 "nbformat": 4,
 "nbformat_minor": 2
}
