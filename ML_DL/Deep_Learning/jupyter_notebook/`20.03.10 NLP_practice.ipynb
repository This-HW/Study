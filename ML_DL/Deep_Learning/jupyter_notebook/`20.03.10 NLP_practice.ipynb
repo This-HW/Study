{
 "cells": [
  {
   "cell_type": "code",
   "execution_count": 1,
   "metadata": {
    "scrolled": true
   },
   "outputs": [
    {
     "name": "stderr",
     "output_type": "stream",
     "text": [
      "c:\\users\\didix\\anaconda3\\envs\\py36\\lib\\site-packages\\tensorflow\\python\\framework\\dtypes.py:517: FutureWarning: Passing (type, 1) or '1type' as a synonym of type is deprecated; in a future version of numpy, it will be understood as (type, (1,)) / '(1,)type'.\n",
      "  _np_qint8 = np.dtype([(\"qint8\", np.int8, 1)])\n",
      "c:\\users\\didix\\anaconda3\\envs\\py36\\lib\\site-packages\\tensorflow\\python\\framework\\dtypes.py:518: FutureWarning: Passing (type, 1) or '1type' as a synonym of type is deprecated; in a future version of numpy, it will be understood as (type, (1,)) / '(1,)type'.\n",
      "  _np_quint8 = np.dtype([(\"quint8\", np.uint8, 1)])\n",
      "c:\\users\\didix\\anaconda3\\envs\\py36\\lib\\site-packages\\tensorflow\\python\\framework\\dtypes.py:519: FutureWarning: Passing (type, 1) or '1type' as a synonym of type is deprecated; in a future version of numpy, it will be understood as (type, (1,)) / '(1,)type'.\n",
      "  _np_qint16 = np.dtype([(\"qint16\", np.int16, 1)])\n",
      "c:\\users\\didix\\anaconda3\\envs\\py36\\lib\\site-packages\\tensorflow\\python\\framework\\dtypes.py:520: FutureWarning: Passing (type, 1) or '1type' as a synonym of type is deprecated; in a future version of numpy, it will be understood as (type, (1,)) / '(1,)type'.\n",
      "  _np_quint16 = np.dtype([(\"quint16\", np.uint16, 1)])\n",
      "c:\\users\\didix\\anaconda3\\envs\\py36\\lib\\site-packages\\tensorflow\\python\\framework\\dtypes.py:521: FutureWarning: Passing (type, 1) or '1type' as a synonym of type is deprecated; in a future version of numpy, it will be understood as (type, (1,)) / '(1,)type'.\n",
      "  _np_qint32 = np.dtype([(\"qint32\", np.int32, 1)])\n",
      "c:\\users\\didix\\anaconda3\\envs\\py36\\lib\\site-packages\\tensorflow\\python\\framework\\dtypes.py:526: FutureWarning: Passing (type, 1) or '1type' as a synonym of type is deprecated; in a future version of numpy, it will be understood as (type, (1,)) / '(1,)type'.\n",
      "  np_resource = np.dtype([(\"resource\", np.ubyte, 1)])\n",
      "Using TensorFlow backend.\n"
     ]
    }
   ],
   "source": [
    "import tensorflow as tf\n",
    "import keras\n",
    "import numpy as np\n",
    "import pandas as pd\n",
    "import re\n",
    "from datetime import datetime\n",
    "# import konlpy\n",
    "from eunjeon import Mecab\n",
    "from matplotlib import pyplot as plt"
   ]
  },
  {
   "cell_type": "code",
   "execution_count": 2,
   "metadata": {},
   "outputs": [],
   "source": [
    "mecab = Mecab()"
   ]
  },
  {
   "cell_type": "code",
   "execution_count": 3,
   "metadata": {},
   "outputs": [],
   "source": [
    "data = pd.read_csv(\"data/train.csv\", encoding=\"euc-kr\")"
   ]
  },
  {
   "cell_type": "code",
   "execution_count": 4,
   "metadata": {},
   "outputs": [],
   "source": [
    "data.head()\n",
    "pd.options.display.max_rows = 1000"
   ]
  },
  {
   "cell_type": "code",
   "execution_count": 5,
   "metadata": {},
   "outputs": [
    {
     "name": "stdout",
     "output_type": "stream",
     "text": [
      "Data length: 295945\n",
      "Data shape (295945, 4)\n"
     ]
    }
   ],
   "source": [
    "print(\"Data length: {}\".format(len(data)))\n",
    "print(\"Data shape {}\".format(data.shape))\n",
    "df = data"
   ]
  },
  {
   "cell_type": "code",
   "execution_count": 6,
   "metadata": {},
   "outputs": [],
   "source": [
    "def after_effect(arr):\n",
    "    words_in_brackets = ['광고']\n",
    "    ret = []\n",
    "    idx = 0\n",
    "    while idx < len(arr):\n",
    "        if arr[idx] == '(' and idx + 2 < len(arr) and arr[idx + 2] == ')':\n",
    "            if arr[idx + 1] in '일월화수목금토':\n",
    "                if len(ret) > 0 and ret[-1] == 'X':\n",
    "                    ret.pop()\n",
    "                    ret.append('X일')\n",
    "                ret.append('(요일)')\n",
    "                idx += 2\n",
    "            elif arr[idx + 1] in words_in_brackets:\n",
    "                ret.append('(' + arr[idx + 1] + ')')\n",
    "                idx += 2\n",
    "            else:\n",
    "                buff = re.sub('[0-9.X]+', 'X', arr[idx])\n",
    "                buff = re.sub('[-]+', '-', buff)\n",
    "                buff = re.sub('[X]+', 'X', buff)\n",
    "                ret.append(buff)\n",
    "        else:\n",
    "            buff = re.sub('[0-9.X]+', 'X', arr[idx])\n",
    "            buff = re.sub('[-]+', '-', buff)\n",
    "            buff = re.sub('[X]+', 'X', buff)\n",
    "            ret.append(buff)\n",
    "        idx += 1\n",
    "    return ret"
   ]
  },
  {
   "cell_type": "code",
   "execution_count": 7,
   "metadata": {},
   "outputs": [],
   "source": [
    "def parse_sentence(sentence):\n",
    "    prev_word, prev_pos = '', ''\n",
    "    nouns = []\n",
    "    words = []\n",
    "    adverbs = []\n",
    "    etc = []\n",
    "    buff = ''\n",
    "    ret = []\n",
    "    condition = False\n",
    "    idx, condidx = 0, 0\n",
    "    \n",
    "    for word, pos in mecab.pos(sentence):\n",
    "        # S인 경우 '() 각각 있는 경우 나누어서 여러개의 S로 처리'\n",
    "        if pos in ('SF') or pos[:1] in ('J'):\n",
    "            # 은/는/이/가/. 등\n",
    "            prev_word, prev_pos = '', ''\n",
    "            continue\n",
    "\n",
    "        if pos[:1] == 'N' and prev_pos[:1] == 'S':\n",
    "            # 1억, 1천만원 등\n",
    "            word = re.sub('[억천만]', '', word)\n",
    "            if len(word) == 0:\n",
    "                continue\n",
    "\n",
    "#         if pos[:1] == 'S':\n",
    "#             word = re.sub('[(:)]', '', word)\n",
    "#             word = re.sub('[0-9.X]+', 'X', word)\n",
    "\n",
    "        # 조건절 판단\n",
    "        if prev_pos[-3:] == 'ETM' and word in ['분','고객','개인','사업자','이','대상','당신','직원','VIP', '자','분도','전문직','신용자','외국인','본인','임직원','부모','회계사','귀하','투자자','분과']:\n",
    "            condition = True  \n",
    "        elif pos[:1] == 'N':\n",
    "            if word[:2] in ('경우', '필요', '라면', '다면'): # 경우, 필요 단어 등장 시 조건절로 판단\n",
    "                condition = True\n",
    "        elif pos[-2:] == 'EC':\n",
    "            # 여도, 라도, 라면, 면\n",
    "            if word[-1:] in ('면', '도') or word[-2:] in ('도록'):\n",
    "                condition = True\n",
    "\n",
    "        if pos[:1] == 'E':\n",
    "            buff += word\n",
    "        #elif pos[:1] == 'N' and prev_pos[:1] == 'N' and len(word) == 1:\n",
    "        #    buff += word\n",
    "        elif pos[:1] == 'S' and prev_pos[:1] == 'S' and word[:1] in 'X0123456789%.-': #('%', '.', '-'):\n",
    "            pos_x = re.search('[0-9X]', buff)\n",
    "            pos_x = pos_x.span()[0] if pos_x is not None else len(buff)\n",
    "            if pos_x > 0:\n",
    "                words.append(buff[:pos_x])\n",
    "                buff = buff[pos_x:]\n",
    "            \n",
    "            # 중간에 %가 있는 경우\n",
    "            if len(buff) > 0:\n",
    "                pos_pct = re.search('%', buff)\n",
    "                pos_pct = (pos_pct.span()[0] + 1) if pos_pct is not None else 0\n",
    "                if pos_pct > 0:\n",
    "                    words.append(buff[:pos_pct])\n",
    "                    buff = buff[pos_pct:]\n",
    "                \n",
    "            buff += word\n",
    "\n",
    "        elif pos[:1] in ('N', 'S') and prev_pos[:1] == 'S' and len(buff) > 0:\n",
    "            # 숫자 앞에 문자가 있는 경우\n",
    "            pos_x = re.search('[0-9X]', buff)\n",
    "            pos_x = pos_x.span()[0] if pos_x is not None else len(buff)\n",
    "            if pos_x > 0:\n",
    "                words.append(buff[:pos_x])\n",
    "                buff = buff[pos_x:]\n",
    "\n",
    "            # 중간에 %가 있는 경우\n",
    "            if len(buff) > 0:\n",
    "                pos_pct = re.search('%', buff)\n",
    "                pos_pct = (pos_pct.span()[0] + 1) if pos_pct is not None else 0\n",
    "                if pos_pct > 0:\n",
    "                    words.append(buff[:pos_pct])\n",
    "                    buff = buff[pos_pct:]\n",
    "\n",
    "            if word in ('시', '분', '초', '시간'):\n",
    "                buff = re.sub('시', '', buff)\n",
    "                buff += '시'\n",
    "            elif word in ('년', '월', '일', '개월'):\n",
    "                buff = re.sub('일', '', buff)\n",
    "                buff += '일'\n",
    "            elif word in ('원'):\n",
    "                buff = re.sub('원', '', buff)\n",
    "                buff += '원'\n",
    "                prev_word, prev_pos = word, pos\n",
    "            elif word in ('배'):\n",
    "                buff += '%'\n",
    "                prev_word, prev_pos = word, pos\n",
    "            elif word in ('kg', 'pt', '형'):\n",
    "                buff += '단위'\n",
    "                prev_word, prev_pos = word, 'N' #pos\n",
    "            elif word in ('건', '종', '대'):\n",
    "                buff += '개'\n",
    "                prev_word, prev_pos = word, pos\n",
    "            else:\n",
    "                if len(buff) > 0:\n",
    "                    words.append(buff)\n",
    "                buff = word\n",
    "        else:\n",
    "            if len(buff) > 0:\n",
    "                # 중간에 %가 있는 경우\n",
    "                if len(buff) > 0:\n",
    "                    pos_pct = re.search('%', buff)\n",
    "                    pos_pct = (pos_pct.span()[0] + 1) if pos_pct is not None else 0\n",
    "                    if pos_pct > 0:\n",
    "                        words.append(buff[:pos_pct])\n",
    "                        buff = buff[pos_pct:]\n",
    "                if True: #buff != 'X':\n",
    "                    words.append(buff)\n",
    "                    # M, N 경우만 저장해보자\n",
    "                    if prev_pos[:1] in ('N'):  # 'M', \n",
    "                        nouns.append(buff)\n",
    "                    elif prev_pos[:1] in ('M'):\n",
    "                        adverbs.append(buff)\n",
    "            buff = word\n",
    "            prev_word, prev_pos = word, pos\n",
    "\n",
    "        if pos[-2:] in ('EF'): # and word[0][-1:] in ['요', '다']:\n",
    "            # words가 꼭 명사를 뜻하는 게 아니고 특색있는 키워드 모두를 포함\n",
    "            if len(buff) > 0:\n",
    "                words.append(buff)\n",
    "            buff = ''\n",
    "            # 문장의 끝을 구분\n",
    "            #words.append('(절취선)')\n",
    "            \n",
    "            words = after_effect(words)\n",
    "            ret.append([word, condition, words, nouns, adverbs])\n",
    "            idx += 1\n",
    "            if condition: condidx += 1\n",
    "            nouns = []\n",
    "            words = []\n",
    "            adverbs = []\n",
    "            condition = False\n",
    "    if len(buff) > 0:\n",
    "        words.append(buff)\n",
    "    if len(words) > 0:\n",
    "        words = after_effect(words)\n",
    "        ret.append([word, condition, words, nouns, adverbs])\n",
    "        idx += 1\n",
    "        if condition: condidx += 1\n",
    "    etc.append(condidx / idx)\n",
    "    return ret, etc"
   ]
  },
  {
   "cell_type": "code",
   "execution_count": 8,
   "metadata": {},
   "outputs": [
    {
     "name": "stdout",
     "output_type": "stream",
     "text": [
      "2020-03-10 18:17:39.568581 0\n",
      "2020-03-10 18:19:18.794197 100000\n",
      "2020-03-10 18:21:14.262098 200000\n"
     ]
    }
   ],
   "source": [
    "smishings = []\n",
    "normals = []\n",
    "idx = 0\n",
    "for idx, item in df.iterrows():\n",
    "    #print(item.text)\n",
    "    splited, etc = parse_sentence(item.text)\n",
    "    etc.append(np.log(len(item.text))/8)  # 문장 전체의 길이\n",
    "    etc.append(np.log(len(splited))/4)  # 문장의 개수\n",
    "    splited.append(etc)\n",
    "    splited.append(item.id)\n",
    "    #splited = m.parse(item.text).split()\n",
    "    if item.smishing == 1:\n",
    "        smishings.append(splited)\n",
    "    else:\n",
    "        normals.append(splited)\n",
    "    if idx % 100000 == 0:\n",
    "        print(datetime.now(), idx)\n",
    "    idx += 1\n",
    "#     if idx > 20000:\n",
    "#         break"
   ]
  },
  {
   "cell_type": "code",
   "execution_count": 9,
   "metadata": {},
   "outputs": [
    {
     "name": "stdout",
     "output_type": "stream",
     "text": [
      "normals length : 277242\n",
      "smishings length : 18703\n"
     ]
    }
   ],
   "source": [
    "print(f'normals length : {len(normals)}')\n",
    "print(f'smishings length : {len(smishings)}')"
   ]
  },
  {
   "cell_type": "code",
   "execution_count": 11,
   "metadata": {},
   "outputs": [
    {
     "name": "stdout",
     "output_type": "stream",
     "text": [
      "normals :  [[['입니다', False, ['X', '행성', '산', 'X', '팀장', '입니다'], ['XXX', '행성'], []], ['세요', False, ['행복', '한', '주말', '되세요'], ['행복', '주말'], []], [0.0, 0.3972567287934932, 0.17328679513998632], 0]]\n",
      "smishing :  [[['합니다', False, ['(광고)', 'XBaX', '고객', '님', '들', '뒤', 'X', '언제나', 'X', '새로운', '마음가짐', '새롭게', '준비', '합니다'], ['뒤', '마음가짐', '준비'], ['언제나']], ['드립니다', False, ['당', '행', '상품', '자격', '기준', '심사', '기준', '완화', '되어', '상품', '대해', '간단', '하게', '상품', '정보', '전달', '드립니다'], ['당', '상품', '자격', '기준', '심사', '기준', '완화', '상품', '상품', '정보', '전달'], []], ['습니다', True, ['수신', '희망', '하지', '않으실', '경우', '거부', '라는', '답장', '주시면', 'KISA', '수신', '거부', '목록', '등록', '시켜', '두', '번', '다시', '발송', '되지', '않도록', '조치', '취해', '드리겠습니다'], ['수신', '희망', '경우', '거부', '답장', '목록', '등록', '번', '발송', '조치'], ['두', '다시']], ['습니다', True, ['신청', '방법', ':', 'X-X-X', '터치', '하셔서', '문자', '상담', '또는', 'X시', '상담', '이라고', '답장', '보내', '주시거나', '전화', '주시면', '친절', '하고', '안전', '한', '상담', '도움', '드리겠습니다'], ['신청', '방법', '문자', '상담', '답장', '전화', '친절', '안전', '상담', '도움'], ['또는']], ['드립니다', False, ['카카오톡', '상담', '서비스', '시행', '중', 'citibankloan', '친구', '추가', '후', '상담', '신청', '이런', '분', '들', '권해', '드립니다'], ['카카오톡', '상담', '서비스', '시행', '중', '분', '들'], ['이런']], ['드립니다', False, ['X', '시중', '은행', '권', '기존', '한도', '모두', '사용', '중', '이신', '분', 'X', 'X기', '대출', '원리금', '균등', '방식', '인해', '월', '불', '입금액', '부담', '스러우신', '분', 'X', 'X', '총', '채무', '금액', '작으나', '채무', '건수', '많아서', '관리', '안', '되시는', 'X', '고객', '님', '들', '말씀', '드립니다'], ['1', '시중', '은행', '권', '기존', '한도', '사용', '중', '분', '2기', '대출', '원리금', '균등', '방식', '월', '입금액', '부담', '분', '3', '채무', '금액', '채무', '건수', '관리', '들', '말씀'], ['모두', '총', '안']], ['습니다', True, ['높은', '금리', '때문', '힘들다고', '느끼셨을', '때', '대출', '필요', '하실', '때', '언제나', 'X', '고객', '님', '들', '뒤', '든든', '한', '파트너', '도와', '드리겠습니다'], ['금리', '때문', '때', '대출', '필요', '때', '뒤', '파트너'], ['언제나']], ['XXX', True, ['당', '행', '상품', '특징', 'X', '당', '행', '거래', '없으셔도', '진행', '가능', 'X', 'X', '시중', '은행', '권', '높은', '한도', 'X', 'X', '자체', '등급', '판단', '하므로', '낮은', '신용자', '진행', '가능', 'X', 'X', '부채', '많다면', '부채', '통합', '상품', '전환', '가능', 'X', 'X', '원리금', '균등', '방식', '이자', '납입', '하는', '만기', '일시', '전환', '가능', 'X', 'X', '가상', '조회', '통해', '한도', '및', '금리', '한', '번', '확인', '가능', 'X', '당', '행', '상품', '안내', 'X', '직장', '인', '전용', '신용', '상품', '한도', ':', '최대', 'X원', '금리', ':', '최저', 'X%', '자격', ':', 'X', '은행', '자체', '등급', '기업', '리스트', '따라', '차등', '적용', 'X', 'X', '채무', '통합', '전환', '상품', '한도', ':', '연봉', '대비', 'X%', '', '금리', ':', '최저', 'X%', '자격', ':', 'X', '은행', '자체', '등급', '기업', '리스트', '따라', '차등', '적용', 'X', 'X', '새', '희망', '홀씨', '한도', ':', '최대', 'X원', '금리', ':', 'X%', 'X%', '자격', ':', '연봉', 'X원', '이하', '고객', '대상', 'X', '자체', '등급', '따라', '(광고)', 'X'], ['당', '상품', '특징', '1', '당', '거래', '진행', '가능', '2', '시중', '은행', '권', '한도', '3', '자체', '등급', '판단', '신용자', '진행', '가능', '4', '부채', '부채', '통합', '상품', '전환', '가능', '5', '원리금', '균등', '방식', '이자', '납입', '만기', '일시', '전환', '가능', '6', '가상', '조회', '한도', '금리', '번', '확인', '가능', '상품', '안내', '1', '직장', '전용', '신용', '상품', '한도', '14000원', '금리', '등급', '기업', '리스트', '차등', '적용', '2', '채무', '통합', '전환', '상품', '한도', '', '금리', '등급', '기업', '리스트', '차등', '적용', '3', '희망', '홀씨', '한도', '2500원', '금리', '4000원', '이하', '고객', '대상', '등급'], ['및', '한', '새']], [0.5, 0.8526384340320581, 0.5198603854199589], 10]]\n"
     ]
    }
   ],
   "source": [
    "print(\"normals : \",normals[:1])\n",
    "print(\"smishing : \",smishings[:1])"
   ]
  },
  {
   "cell_type": "code",
   "execution_count": 12,
   "metadata": {},
   "outputs": [
    {
     "name": "stdout",
     "output_type": "stream",
     "text": [
      "selected normal-like words count: 191\n",
      "selected smishing-like words count: 1683\n"
     ]
    },
    {
     "data": {
      "text/plain": [
       "[<matplotlib.lines.Line2D at 0x206a13d5748>]"
      ]
     },
     "execution_count": 12,
     "metadata": {},
     "output_type": "execute_result"
    },
    {
     "data": {
      "image/png": "[encoded data removed]",
      "text/plain": [
       "<Figure size 1440x360 with 2 Axes>"
      ]
     },
     "metadata": {
      "needs_background": "light"
     },
     "output_type": "display_data"
    }
   ],
   "source": [
    "# 스미싱에만 등장하는 noun들 : smish_target_words\n",
    "NORM_THRESHOLD, SMISH_THRESHOLD = 1000, 2\n",
    "POS_IDX_IN_ARR = 3\n",
    "IDX_TO_CUT = -2\n",
    "norm_dict = {}\n",
    "for item in [x for normal in normals for row in normal[:IDX_TO_CUT] for x in row[POS_IDX_IN_ARR]]:\n",
    "    if item in norm_dict:\n",
    "        norm_dict[item] += 1\n",
    "    else:\n",
    "        norm_dict[item] = 1\n",
    "norm_filter_words = {x:norm_dict.get(x) for x in norm_dict if norm_dict.get(x) > NORM_THRESHOLD}\n",
    "\n",
    "smish_dict = {}\n",
    "for item in [x for smishing in smishings for row in smishing[:IDX_TO_CUT] for x in row[POS_IDX_IN_ARR]]:\n",
    "    if item in smish_dict:\n",
    "        smish_dict[item] += 1\n",
    "    else:\n",
    "        smish_dict[item] = 1\n",
    "smish_filter_words = {x:smish_dict.get(x) for x in smish_dict if smish_dict.get(x) > SMISH_THRESHOLD}\n",
    "        \n",
    "word_only_in_smishings = [word for word in smish_dict if word not in norm_filter_words]\n",
    "word_only_in_normals = [word for word in norm_dict if word not in smish_filter_words]\n",
    "\n",
    "norm_target_words = {x:norm_dict.get(x) for x in word_only_in_normals if norm_dict.get(x) > NORM_THRESHOLD}\n",
    "smish_target_words = {x:smish_dict.get(x) for x in word_only_in_smishings if smish_dict.get(x) > SMISH_THRESHOLD}\n",
    "print('selected normal-like words count:', len(norm_target_words))\n",
    "print('selected smishing-like words count:', len(smish_target_words))\n",
    "\n",
    "smishing_word_cnt, smishing_noword_cnt = [], []\n",
    "normal_word_cnt, normal_noword_cnt = [], []\n",
    "for smishing in smishings:\n",
    "    notarget_word_list = [x for row in smishing[:IDX_TO_CUT] for x in row[POS_IDX_IN_ARR] if x in norm_target_words]\n",
    "    target_word_list = [x for row in smishing[:IDX_TO_CUT] for x in row[POS_IDX_IN_ARR] if x in smish_target_words]\n",
    "    smishing.insert(-2, notarget_word_list)\n",
    "    smishing.insert(-2, target_word_list)\n",
    "    smishing_noword_cnt.append(len(notarget_word_list))\n",
    "    smishing_word_cnt.append(len(target_word_list))\n",
    "for normal in normals:\n",
    "    notarget_word_list = [x for row in normal[:IDX_TO_CUT] for x in row[POS_IDX_IN_ARR] if x in norm_target_words]\n",
    "    target_word_list = [x for row in normal[:IDX_TO_CUT] for x in row[POS_IDX_IN_ARR] if x in smish_target_words]\n",
    "    normal.insert(-2, notarget_word_list)\n",
    "    normal.insert(-2, target_word_list)\n",
    "    normal_noword_cnt.append(len(notarget_word_list))\n",
    "    normal_word_cnt.append(len(target_word_list))\n",
    "\n",
    "plt.figure(figsize=(20,5))\n",
    "plt.subplot(1,2,1)\n",
    "plt.plot(normal_noword_cnt)\n",
    "plt.plot(smishing_noword_cnt)\n",
    "\n",
    "plt.subplot(1,2,2)\n",
    "plt.plot(smishing_word_cnt)\n",
    "plt.plot(normal_word_cnt)"
   ]
  },
  {
   "cell_type": "code",
   "execution_count": 13,
   "metadata": {},
   "outputs": [
    {
     "name": "stdout",
     "output_type": "stream",
     "text": [
      "selected normal-like adverbs count: 161\n",
      "selected smishing-like adverbs count: 74\n"
     ]
    },
    {
     "data": {
      "text/plain": [
       "[<matplotlib.lines.Line2D at 0x206aa80ef98>]"
      ]
     },
     "execution_count": 13,
     "metadata": {},
     "output_type": "execute_result"
    },
    {
     "data": {
      "image/png": "[encoded data removed]",
      "text/plain": [
       "<Figure size 1440x360 with 2 Axes>"
      ]
     },
     "metadata": {
      "needs_background": "light"
     },
     "output_type": "display_data"
    }
   ],
   "source": [
    "# 스미싱에만 등장하는 adv들 : smish_target_adverbs\n",
    "NORM_THRESHOLD, SMISH_THRESHOLD = 100, 2\n",
    "POS_IDX_IN_ARR = 4\n",
    "IDX_TO_CUT = -4\n",
    "norm_dict = {}\n",
    "for item in [x for normal in normals for row in normal[:IDX_TO_CUT] for x in row[POS_IDX_IN_ARR]]:\n",
    "    if item in norm_dict:\n",
    "        norm_dict[item] += 1\n",
    "    else:\n",
    "        norm_dict[item] = 1\n",
    "norm_filter_adverbs = {x:norm_dict.get(x) for x in norm_dict if norm_dict.get(x) > NORM_THRESHOLD}\n",
    "\n",
    "smish_dict = {}\n",
    "for item in [x for smishing in smishings for row in smishing[:IDX_TO_CUT] for x in row[POS_IDX_IN_ARR]]:\n",
    "    if item in smish_dict:\n",
    "        smish_dict[item] += 1\n",
    "    else:\n",
    "        smish_dict[item] = 1\n",
    "smish_filter_adverbs = {x:smish_dict.get(x) for x in smish_dict if smish_dict.get(x) > SMISH_THRESHOLD}\n",
    "        \n",
    "adverb_only_in_smishings = [adverb for adverb in smish_dict if adverb not in norm_filter_adverbs]\n",
    "adverb_only_in_normals = [adverb for adverb in norm_dict if adverb not in smish_filter_adverbs]\n",
    "\n",
    "norm_target_adverbs = {x:norm_dict.get(x) for x in adverb_only_in_normals if norm_dict.get(x) > NORM_THRESHOLD}\n",
    "smish_target_adverbs = {x:smish_dict.get(x) for x in adverb_only_in_smishings if smish_dict.get(x) > SMISH_THRESHOLD}\n",
    "print('selected normal-like adverbs count:', len(norm_target_adverbs))\n",
    "print('selected smishing-like adverbs count:', len(smish_target_adverbs))\n",
    "\n",
    "smishing_adverb_cnt, smishing_noadverb_cnt = [], []\n",
    "normal_adverb_cnt, normal_noadverb_cnt = [], []\n",
    "for smishing in smishings:\n",
    "    notarget_adverb_list = [x for row in smishing[:IDX_TO_CUT] for x in row[POS_IDX_IN_ARR] if x in norm_target_adverbs]\n",
    "    target_adverb_list = [x for row in smishing[:IDX_TO_CUT] for x in row[POS_IDX_IN_ARR] if x in smish_target_adverbs]\n",
    "    smishing.insert(-2, notarget_adverb_list)\n",
    "    smishing.insert(-2, target_adverb_list)\n",
    "    smishing_noadverb_cnt.append(len(notarget_adverb_list))\n",
    "    smishing_adverb_cnt.append(len(target_adverb_list))\n",
    "for normal in normals:\n",
    "    notarget_adverb_list = [x for row in normal[:IDX_TO_CUT] for x in row[POS_IDX_IN_ARR] if x in norm_target_adverbs]\n",
    "    target_adverb_list = [x for row in normal[:IDX_TO_CUT] for x in row[POS_IDX_IN_ARR] if x in smish_target_adverbs]\n",
    "    normal.insert(-2, notarget_adverb_list)\n",
    "    normal.insert(-2, target_adverb_list)\n",
    "    normal_noadverb_cnt.append(len(notarget_adverb_list))\n",
    "    normal_adverb_cnt.append(len(target_adverb_list))\n",
    "\n",
    "plt.figure(figsize=(20,5))\n",
    "plt.subplot(1,2,1)\n",
    "plt.plot(normal_noadverb_cnt)\n",
    "plt.plot(smishing_noadverb_cnt)\n",
    "\n",
    "plt.subplot(1,2,2)\n",
    "plt.plot(smishing_adverb_cnt)\n",
    "plt.plot(normal_adverb_cnt)"
   ]
  },
  {
   "cell_type": "code",
   "execution_count": 14,
   "metadata": {},
   "outputs": [
    {
     "name": "stdout",
     "output_type": "stream",
     "text": [
      "['어요', True, ['첫날', '아니지만', '누군가', '행복', '빌어', '주면', '한', '달', '내내', '행복', '하다는', '문자', '받았어요'], ['첫날', '누군가', '행복', '달', '행복', '문자'], ['한', '내내']]\n",
      "['세요', False, ['X일', '한', '달', '내내', '행복', '가득', '하시길', '바라며', '주말', '잘', '보내세요'], ['달', '행복', '주말'], ['한', '내내', '가득', '잘']]\n",
      "['올림', False, ['X', '은행', '청계', 'X', 'X', '올림'], ['3'], []]\n",
      "[]\n",
      "['누군가']\n",
      "['내내', '내내']\n",
      "[]\n",
      "[0.3333333333333333, 0.5624762087912831, 0.27465307216702745]\n",
      "12\n"
     ]
    },
    {
     "data": {
      "text/plain": [
       "[None, None, None, None, None, None, None, None, None]"
      ]
     },
     "execution_count": 14,
     "metadata": {},
     "output_type": "execute_result"
    }
   ],
   "source": [
    "# rows + notarget + target + noadverb + adverb + etc + idx\n",
    "[print(x) for x in normals[10]]"
   ]
  },
  {
   "cell_type": "code",
   "execution_count": 15,
   "metadata": {},
   "outputs": [],
   "source": [
    "class wordCounter():\n",
    "    def __init__(self):\n",
    "        self.word_bank = {}\n",
    "    \n",
    "    def add_bucket(self, bucket_name):\n",
    "        self.word_bank[bucket_name] = {}\n",
    "        \n",
    "    def add_list(self, bucket_name, word_list:[]):\n",
    "        bucket = self.word_bank[bucket_name]\n",
    "        for keyword in word_list:\n",
    "            if keyword in bucket:\n",
    "                bucket[keyword] += 1\n",
    "            else:\n",
    "                bucket[keyword] = 1\n",
    "                \n",
    "    def get_counts(self, bucket_name):\n",
    "        return self.word_bank[bucket_name]"
   ]
  },
  {
   "cell_type": "code",
   "execution_count": 16,
   "metadata": {},
   "outputs": [],
   "source": [
    "wc = wordCounter()\n",
    "wc.add_bucket('conditioned')\n",
    "wc.add_bucket('general')\n",
    "wc.add_bucket('whole')\n",
    "wc.add_bucket('notargets')\n",
    "wc.add_bucket('targets')\n",
    "wc.add_bucket('noadverbs')\n",
    "wc.add_bucket('adverbs')\n",
    "\n",
    "LEN_OF_OTHERS = 6\n",
    "\n",
    "for normal in normals:\n",
    "    for item in normal[:-LEN_OF_OTHERS]:\n",
    "        wc.add_list('whole', item[2])\n",
    "        if item[1] == True:\n",
    "            wc.add_list('conditioned', item[3])\n",
    "        else:\n",
    "            wc.add_list('general', item[3])\n",
    "    wc.add_list('notargets', normal[-6])\n",
    "    wc.add_list('targets', normal[-5])\n",
    "    wc.add_list('noadverbs', normal[-4])\n",
    "    wc.add_list('adverbs', normal[-3])\n",
    "\n",
    "for smishing in smishings:\n",
    "    for item in smishing[:-LEN_OF_OTHERS]:\n",
    "        wc.add_list('whole', item[2])\n",
    "        if item[1] == True:\n",
    "            wc.add_list('conditioned', item[3])\n",
    "        else:\n",
    "            wc.add_list('general', item[3])\n",
    "    wc.add_list('notargets', smishing[-6])\n",
    "    wc.add_list('targets', smishing[-5])\n",
    "    wc.add_list('noadverbs', smishing[-4])\n",
    "    wc.add_list('adverbs', smishing[-3])"
   ]
  },
  {
   "cell_type": "code",
   "execution_count": 17,
   "metadata": {},
   "outputs": [],
   "source": [
    "conditioned_df = pd.Series(wc.get_counts('conditioned'))\n",
    "general_df = pd.Series(wc.get_counts('general'))\n",
    "whole_df = pd.Series(wc.get_counts('whole'))\n",
    "notargets_df = pd.Series(wc.get_counts('notargets'))\n",
    "targets_df = pd.Series(wc.get_counts('targets'))\n",
    "noadverbs_df = pd.Series(wc.get_counts('noadverbs'))\n",
    "adverbs_df = pd.Series(wc.get_counts('adverbs'))\n",
    "\n",
    "# 글자가 2개 이상인 것만 모아보자\n",
    "conditioned_df = conditioned_df[conditioned_df.index.map(len) > 1]  # M 만 포함시켰으므로.. 길이 2이상인것만\n",
    "general_df = general_df[general_df.index.map(len) > 1]  # M 만 포함시켰으므로.. 길이 2이상인것만\n",
    "# targets_df 일단 생략\n",
    "\n",
    "# 3번 이상 출현한 것만 모아보자\n",
    "#conditioned_df = conditioned_df[conditioned_df.sort_values() > 2]\n",
    "#general_df = general_df[general_df.sort_values() > 2]"
   ]
  },
  {
   "cell_type": "code",
   "execution_count": 18,
   "metadata": {},
   "outputs": [],
   "source": [
    "general_dic = general_df[general_df > 1].sort_values(ascending=False)\n",
    "general_dic = general_dic.reset_index()['index'].to_dict()\n",
    "general_vocab = {general_dic.get(k):k for k in general_dic}"
   ]
  },
  {
   "cell_type": "code",
   "execution_count": 19,
   "metadata": {},
   "outputs": [],
   "source": [
    "\n",
    "conditioned_dic = conditioned_df[conditioned_df > 1].sort_values(ascending=False)\n",
    "conditioned_dic = conditioned_dic.reset_index()['index'].to_dict()\n",
    "conditioned_vocab = {conditioned_dic.get(k):k for k in conditioned_dic}"
   ]
  },
  {
   "cell_type": "code",
   "execution_count": 20,
   "metadata": {},
   "outputs": [],
   "source": [
    "whole_dic = whole_df[whole_df > 1].sort_values(ascending=False)\n",
    "whole_dic = whole_dic.reset_index()['index'].to_dict()\n",
    "whole_vocab = {whole_dic.get(k):k for k in whole_dic}"
   ]
  },
  {
   "cell_type": "code",
   "execution_count": 21,
   "metadata": {},
   "outputs": [],
   "source": [
    "notargets_dic = notargets_df[notargets_df > 1].sort_values(ascending=False)\n",
    "notargets_dic = notargets_dic.reset_index()['index'].to_dict()\n",
    "notargets_vocab = {notargets_dic.get(k):k for k in notargets_dic}\n",
    "\n",
    "targets_dic = targets_df[targets_df > 1].sort_values(ascending=False)\n",
    "targets_dic = targets_dic.reset_index()['index'].to_dict()\n",
    "targets_vocab = {targets_dic.get(k):k for k in targets_dic}"
   ]
  },
  {
   "cell_type": "code",
   "execution_count": 22,
   "metadata": {},
   "outputs": [],
   "source": [
    "\n",
    "noadverbs_dic = noadverbs_df[noadverbs_df > 1].sort_values(ascending=False)\n",
    "noadverbs_dic = noadverbs_dic.reset_index()['index'].to_dict()\n",
    "noadverbs_vocab = {noadverbs_dic.get(k):k for k in noadverbs_dic}\n",
    "\n",
    "adverbs_dic = adverbs_df[adverbs_df > 1].sort_values(ascending=False)\n",
    "adverbs_dic = adverbs_dic.reset_index()['index'].to_dict()\n",
    "adverbs_vocab = {adverbs_dic.get(k):k for k in adverbs_dic}"
   ]
  },
  {
   "cell_type": "code",
   "execution_count": 23,
   "metadata": {},
   "outputs": [
    {
     "name": "stdout",
     "output_type": "stream",
     "text": [
      "size of vocab (conditioned, general, whole): 8884 16107 37664\n",
      "size of vocab (notargets, targets, noadverbs, adverbs): 191 1683 161 74\n"
     ]
    }
   ],
   "source": [
    "# smishing cases; length of vocab when it's out of vocab\n",
    "tidf_conditioned = []\n",
    "tidf_general = []\n",
    "tidf_whole = []\n",
    "tidf_notargets = []\n",
    "tidf_targets = []\n",
    "tidf_noadverbs = []\n",
    "tidf_adverbs = []\n",
    "tidf_etc = []\n",
    "original_idx = []\n",
    "\n",
    "cond_vocabsize = len(conditioned_vocab)\n",
    "gen_vocabsize = len(general_vocab)\n",
    "whole_vocabsize = len(whole_vocab)\n",
    "notargets_vocabsize = len(notargets_vocab)\n",
    "targets_vocabsize = len(targets_vocab)\n",
    "noadverbs_vocabsize = len(noadverbs_vocab)\n",
    "adverbs_vocabsize = len(adverbs_vocab)\n",
    "\n",
    "print('size of vocab (conditioned, general, whole):', cond_vocabsize, gen_vocabsize, whole_vocabsize)\n",
    "print('size of vocab (notargets, targets, noadverbs, adverbs):', notargets_vocabsize, targets_vocabsize, noadverbs_vocabsize, adverbs_vocabsize)\n",
    "\n",
    "# 문장별 bag of word를 제외한 항목의 수 : notargets, targets, noadverbs, adverbs, etc, idx\n",
    "LEN_OF_OTHERS = 6\n",
    "for msg in normals:\n",
    "    tidf_conditioned.append([conditioned_vocab.get(x) if x in conditioned_vocab else cond_vocabsize for row in msg[:-LEN_OF_OTHERS] if row[1] == True for x in row[3]])\n",
    "    tidf_general.append([general_vocab.get(x) if x in general_vocab else gen_vocabsize for row in msg[:-LEN_OF_OTHERS] if row[1] == False for x in row[3]])\n",
    "    tidf_whole.append([whole_vocab.get(x) if x in whole_vocab else whole_vocabsize for row in msg[:-LEN_OF_OTHERS] for x in row[2]])\n",
    "    tidf_notargets.append([notargets_vocab.get(x) if x in notargets_vocab else notargets_vocabsize for x in msg[-6]])\n",
    "    tidf_targets.append([targets_vocab.get(x) if x in targets_vocab else targets_vocabsize for x in msg[-5]])\n",
    "    tidf_noadverbs.append([noadverbs_vocab.get(x) if x in noadverbs_vocab else noadverbs_vocabsize for x in msg[-4]])\n",
    "    tidf_adverbs.append([adverbs_vocab.get(x) if x in adverbs_vocab else adverbs_vocabsize for x in msg[-3]])\n",
    "    tidf_etc.append(msg[-2])\n",
    "    original_idx.append(msg[-1])\n",
    "for msg in smishings:\n",
    "    tidf_conditioned.append([conditioned_vocab.get(x) if x in conditioned_vocab else cond_vocabsize for row in msg[:-LEN_OF_OTHERS] if row[1] == True for x in row[3]])\n",
    "    tidf_general.append([general_vocab.get(x) if x in general_vocab else gen_vocabsize for row in msg[:-LEN_OF_OTHERS] if row[1] == False for x in row[3]])\n",
    "    tidf_whole.append([whole_vocab.get(x) if x in whole_vocab else whole_vocabsize for row in msg[:-LEN_OF_OTHERS] for x in row[2]])\n",
    "    tidf_notargets.append([notargets_vocab.get(x) if x in notargets_vocab else notargets_vocabsize for x in msg[-6]])\n",
    "    tidf_targets.append([targets_vocab.get(x) if x in targets_vocab else targets_vocabsize for x in msg[-5]])\n",
    "    tidf_noadverbs.append([noadverbs_vocab.get(x) if x in noadverbs_vocab else noadverbs_vocabsize for x in msg[-4]])\n",
    "    tidf_adverbs.append([adverbs_vocab.get(x) if x in adverbs_vocab else adverbs_vocabsize for x in msg[-3]])\n",
    "    tidf_etc.append(msg[-2])\n",
    "    original_idx.append(msg[-1])"
   ]
  },
  {
   "cell_type": "code",
   "execution_count": 24,
   "metadata": {},
   "outputs": [
    {
     "data": {
      "text/plain": [
       "(295945, 295945, 295945, 295945)"
      ]
     },
     "execution_count": 24,
     "metadata": {},
     "output_type": "execute_result"
    }
   ],
   "source": [
    "len(tidf_conditioned), len(tidf_general), len(tidf_etc), len(tidf_targets)"
   ]
  },
  {
   "cell_type": "code",
   "execution_count": 25,
   "metadata": {},
   "outputs": [
    {
     "name": "stdout",
     "output_type": "stream",
     "text": [
      "conditioned vector minimum size: 192\n",
      "general vector minimum size: 333\n",
      "whole vector minimum size: 490\n",
      "notarget vector minimum size: 41\n",
      "target vector minimum size: 81\n",
      "noadverb vector minimum size: 12\n",
      "adverb vector minimum size: 9\n"
     ]
    }
   ],
   "source": [
    "\n",
    "convec_size = max([len(x) for x in tidf_conditioned])\n",
    "genvec_size = max([len(x) for x in tidf_general])\n",
    "whlvec_size = max([len(x) for x in tidf_whole])\n",
    "notgtvec_size = max([len(x) for x in tidf_notargets])\n",
    "tgtvec_size = max([len(x) for x in tidf_targets])\n",
    "noadvvec_size = max([len(x) for x in tidf_noadverbs])\n",
    "advvec_size = max([len(x) for x in tidf_adverbs])\n",
    "\n",
    "# 문장 내 인식한 단어의 개수의 최대값 (문장의 길이가 길수록 크겠지..)\n",
    "print('conditioned vector minimum size:', convec_size)\n",
    "print('general vector minimum size:', genvec_size)\n",
    "print('whole vector minimum size:', whlvec_size)\n",
    "print('notarget vector minimum size:', notgtvec_size)\n",
    "print('target vector minimum size:', tgtvec_size)\n",
    "print('noadverb vector minimum size:', noadvvec_size)\n",
    "print('adverb vector minimum size:', advvec_size)"
   ]
  },
  {
   "cell_type": "code",
   "execution_count": 26,
   "metadata": {},
   "outputs": [],
   "source": [
    "# 훈련용, 훈련검증용, 결과검증용 분리\n",
    "tidf_conditioned = np.array(tidf_conditioned)\n",
    "tidf_general = np.array(tidf_general)\n",
    "tidf_whole = np.array(tidf_whole)\n",
    "tidf_notargets = np.array(tidf_notargets)\n",
    "tidf_targets = np.array(tidf_targets)\n",
    "tidf_noadverbs = np.array(tidf_noadverbs)\n",
    "tidf_adverbs = np.array(tidf_adverbs)\n",
    "tidf_etc = np.array(tidf_etc)\n",
    "tidf_label = np.array([1 if x >= len(normals) else 0 for x in range(tidf_conditioned.shape[0])])"
   ]
  },
  {
   "cell_type": "code",
   "execution_count": 28,
   "metadata": {},
   "outputs": [],
   "source": [
    "from keras.preprocessing.sequence import pad_sequences\n",
    "\n",
    "class DataGenerator(keras.utils.Sequence):\n",
    "    def __init__(self, tidf_cond_train, tidf_gen_train, tidf_whole_train, tidf_notargets_train, tidf_targets_train, tidf_noadverbs_train, tidf_adverbs_train, tidf_etc_train, tidf_label_train, normal_size=160, smishing_size=160, convec_size=350, genvec_size=470, whlvec_size=500, notgtvec_size=100, tgtvec_size=100, noadvvec_size=100, advvec_size=100):\n",
    "        self.convec_size = convec_size  # including 0 paddings\n",
    "        self.genvec_size = genvec_size  # including 0 paddings\n",
    "        self.whlvec_size = whlvec_size  # including 0 paddings\n",
    "        self.notgtvec_size = notgtvec_size  # including 0 paddings\n",
    "        self.tgtvec_size = tgtvec_size  # including 0 paddings\n",
    "        self.noadvvec_size = noadvvec_size  # including 0 paddings\n",
    "        self.advvec_size = advvec_size  # including 0 paddings\n",
    "        self.tidf_cond_train_normal = pad_sequences(tidf_cond_train[tidf_label_train == 0], maxlen=self.convec_size, padding='pre')\n",
    "        self.tidf_gen_train_normal = pad_sequences(tidf_gen_train[tidf_label_train == 0], maxlen=self.genvec_size, padding='pre')\n",
    "        self.tidf_whole_train_normal = pad_sequences(tidf_whole_train[tidf_label_train == 0], maxlen=self.whlvec_size, padding='pre')\n",
    "        self.tidf_targets_train_normal = pad_sequences(tidf_targets_train[tidf_label_train == 0], maxlen=self.tgtvec_size, padding='pre')\n",
    "        self.tidf_notargets_train_normal = pad_sequences(tidf_notargets_train[tidf_label_train == 0], maxlen=self.notgtvec_size, padding='pre')\n",
    "        self.tidf_adverbs_train_normal = pad_sequences(tidf_adverbs_train[tidf_label_train == 0], maxlen=self.advvec_size, padding='pre')\n",
    "        self.tidf_noadverbs_train_normal = pad_sequences(tidf_noadverbs_train[tidf_label_train == 0], maxlen=self.noadvvec_size, padding='pre')\n",
    "        self.tidf_etc_train_normal = tidf_etc_train[tidf_label_train == 0]\n",
    "        self.tidf_cond_train_smishing = pad_sequences(tidf_cond_train[tidf_label_train == 1], maxlen=self.convec_size, padding='pre')\n",
    "        self.tidf_gen_train_smishing = pad_sequences(tidf_gen_train[tidf_label_train == 1], maxlen=self.genvec_size, padding='pre')\n",
    "        self.tidf_whole_train_smishing = pad_sequences(tidf_whole_train[tidf_label_train == 1], maxlen=self.whlvec_size, padding='pre')\n",
    "        self.tidf_notargets_train_smishing = pad_sequences(tidf_notargets_train[tidf_label_train == 1], maxlen=self.notgtvec_size, padding='pre')\n",
    "        self.tidf_targets_train_smishing = pad_sequences(tidf_targets_train[tidf_label_train == 1], maxlen=self.tgtvec_size, padding='pre')\n",
    "        self.tidf_noadverbs_train_smishing = pad_sequences(tidf_noadverbs_train[tidf_label_train == 1], maxlen=self.noadvvec_size, padding='pre')\n",
    "        self.tidf_adverbs_train_smishing = pad_sequences(tidf_adverbs_train[tidf_label_train == 1], maxlen=self.advvec_size, padding='pre')\n",
    "        self.tidf_etc_train_smishing = tidf_etc_train[tidf_label_train == 1]\n",
    "        self.sample_size_normal = normal_size\n",
    "        self.sample_size_smishing = smishing_size\n",
    "        self.train_size_normal = len(self.tidf_cond_train_normal)\n",
    "        self.train_size_smishing = len(self.tidf_cond_train_smishing)\n",
    "#         self.sample_size = normal_size + smishing_size\n",
    "#         self.num_batch = int(np.ceil(len(self.tidf_cond_train_normal) // self.sample_size / 10))\n",
    "        self.num_batch_normal = int(np.ceil(self.train_size_normal / self.sample_size_normal))\n",
    "        self.num_batch_smishing = int(np.ceil(self.train_size_smishing / self.sample_size_smishing))\n",
    "        self.normal_train_index = np.array(range(self.train_size_normal))\n",
    "        self.smishing_train_index = np.array(range(self.train_size_smishing))\n",
    "        print(f\"num_batch_normal: {self.num_batch_normal}, num_batch_smishing: {self.num_batch_smishing}\")\n",
    "    \n",
    "    def __len__(self):\n",
    "        return max(self.num_batch_normal, self.num_batch_smishing)\n",
    "    \n",
    "    def __getitem__(self, index):\n",
    "        # sequencial sampling\n",
    "        normal_idx, smishing_idx = index % self.num_batch_normal, index % self.num_batch_smishing\n",
    "        #print(f\"normal_idx: {normal_idx}, smishing_idx: {smishing_idx}\")\n",
    "        normal_sampling = self.normal_train_index // self.sample_size_normal == normal_idx\n",
    "#         normal_sampling = np.random.choice(len(self.tidf_cond_train_normal), self.normal_sample_size)\n",
    "        normal_cond_sample = self.tidf_cond_train_normal[normal_sampling]\n",
    "        normal_gen_sample = self.tidf_gen_train_normal[normal_sampling]\n",
    "        normal_whole_sample = self.tidf_whole_train_normal[normal_sampling]\n",
    "        normal_notargets_sample = self.tidf_notargets_train_normal[normal_sampling]\n",
    "        normal_targets_sample = self.tidf_targets_train_normal[normal_sampling]\n",
    "        normal_noadverbs_sample = self.tidf_noadverbs_train_normal[normal_sampling]\n",
    "        normal_adverbs_sample = self.tidf_adverbs_train_normal[normal_sampling]\n",
    "        normal_etc_sample = self.tidf_etc_train_normal[normal_sampling]\n",
    "        smishing_sampling = self.smishing_train_index // self.sample_size_smishing == smishing_idx\n",
    "#         smishing_sampling = np.random.choice(len(self.tidf_cond_train_smishing), self.smishing_sample_size)\n",
    "        smishing_cond_sample = self.tidf_cond_train_smishing[smishing_sampling]\n",
    "        smishing_gen_sample = self.tidf_gen_train_smishing[smishing_sampling]\n",
    "        smishing_whole_sample = self.tidf_whole_train_smishing[smishing_sampling]\n",
    "        smishing_notargets_sample = self.tidf_notargets_train_smishing[smishing_sampling]\n",
    "        smishing_targets_sample = self.tidf_targets_train_smishing[smishing_sampling]\n",
    "        smishing_noadverbs_sample = self.tidf_noadverbs_train_smishing[smishing_sampling]\n",
    "        smishing_adverbs_sample = self.tidf_adverbs_train_smishing[smishing_sampling]\n",
    "        smishing_etc_sample = self.tidf_etc_train_smishing[smishing_sampling]\n",
    "        sample_cond_train = np.concatenate([normal_cond_sample, smishing_cond_sample])\n",
    "        sample_gen_train = np.concatenate([normal_gen_sample, smishing_gen_sample])\n",
    "        sample_whole_train = np.concatenate([normal_whole_sample, smishing_whole_sample])\n",
    "        sample_notargets_train = np.concatenate([normal_notargets_sample, smishing_notargets_sample])\n",
    "        sample_targets_train = np.concatenate([normal_targets_sample, smishing_targets_sample])\n",
    "        sample_noadverbs_train = np.concatenate([normal_noadverbs_sample, smishing_noadverbs_sample])\n",
    "        sample_adverbs_train = np.concatenate([normal_adverbs_sample, smishing_adverbs_sample])\n",
    "        sample_etc_train = np.concatenate([normal_etc_sample, smishing_etc_sample])\n",
    "        sample_label_train = [1 if x >= len(normal_cond_sample) else 0 for x in range(len(sample_cond_train))]\n",
    "        return [sample_cond_train, sample_gen_train, sample_whole_train, sample_notargets_train, sample_targets_train, sample_noadverbs_train, sample_adverbs_train, sample_etc_train], sample_label_train\n",
    "#        return [sample_gen_train, sample_etc_train], sample_label_train\n",
    "\n",
    "    def on_epoch_end(self):\n",
    "        pass"
   ]
  },
  {
   "cell_type": "code",
   "execution_count": 29,
   "metadata": {},
   "outputs": [
    {
     "data": {
      "text/plain": [
       "((177533,), (59281,))"
      ]
     },
     "execution_count": 29,
     "metadata": {},
     "output_type": "execute_result"
    }
   ],
   "source": [
    "TRAIN_RATIO, VALID_RATIO = 0.6, 0.8\n",
    "np.random.seed(0)\n",
    "split = np.random.rand(tidf_conditioned.shape[0])\n",
    "tidf_cond_train = tidf_conditioned[split < TRAIN_RATIO]\n",
    "tidf_cond_valid = tidf_conditioned[(split >= TRAIN_RATIO) & (split < VALID_RATIO)]\n",
    "tidf_cond_test = tidf_conditioned[split >= VALID_RATIO]\n",
    "\n",
    "tidf_gen_train = tidf_general[split < TRAIN_RATIO]\n",
    "tidf_gen_valid = tidf_general[(split >= TRAIN_RATIO) & (split < VALID_RATIO)]\n",
    "tidf_gen_test = tidf_general[split >= VALID_RATIO]\n",
    "\n",
    "tidf_whole_train = tidf_whole[split < TRAIN_RATIO]\n",
    "tidf_whole_valid = tidf_whole[(split >= TRAIN_RATIO) & (split < VALID_RATIO)]\n",
    "tidf_whole_test = tidf_whole[split >= VALID_RATIO]\n",
    "\n",
    "tidf_notargets_train = tidf_notargets[split < TRAIN_RATIO]\n",
    "tidf_notargets_valid = tidf_notargets[(split >= TRAIN_RATIO) & (split < VALID_RATIO)]\n",
    "tidf_notargets_test = tidf_notargets[split >= VALID_RATIO]\n",
    "\n",
    "tidf_targets_train = tidf_targets[split < TRAIN_RATIO]\n",
    "tidf_targets_valid = tidf_targets[(split >= TRAIN_RATIO) & (split < VALID_RATIO)]\n",
    "tidf_targets_test = tidf_targets[split >= VALID_RATIO]\n",
    "\n",
    "tidf_noadverbs_train = tidf_noadverbs[split < TRAIN_RATIO]\n",
    "tidf_noadverbs_valid = tidf_noadverbs[(split >= TRAIN_RATIO) & (split < VALID_RATIO)]\n",
    "tidf_noadverbs_test = tidf_noadverbs[split >= VALID_RATIO]\n",
    "\n",
    "tidf_adverbs_train = tidf_adverbs[split < TRAIN_RATIO]\n",
    "tidf_adverbs_valid = tidf_adverbs[(split >= TRAIN_RATIO) & (split < VALID_RATIO)]\n",
    "tidf_adverbs_test = tidf_adverbs[split >= VALID_RATIO]\n",
    "\n",
    "tidf_etc_train = tidf_etc[split < TRAIN_RATIO]\n",
    "tidf_etc_valid = tidf_etc[(split >= TRAIN_RATIO) & (split < VALID_RATIO)]\n",
    "tidf_etc_test = tidf_etc[split >= VALID_RATIO]\n",
    "\n",
    "tidf_label_train = tidf_label[split < TRAIN_RATIO]\n",
    "tidf_label_valid = tidf_label[(split >= TRAIN_RATIO) & (split < VALID_RATIO)]\n",
    "tidf_label_test = tidf_label[split >= VALID_RATIO]\n",
    "\n",
    "tidf_cond_train.shape, tidf_cond_valid.shape #, tidf_cond_test.shape"
   ]
  },
  {
   "cell_type": "code",
   "execution_count": 30,
   "metadata": {},
   "outputs": [
    {
     "name": "stderr",
     "output_type": "stream",
     "text": [
      "c:\\users\\didix\\anaconda3\\envs\\py36\\lib\\site-packages\\ipykernel_launcher.py:68: UserWarning: Update your `Model` call to the Keras 2 API: `Model(inputs=[<tf.Tenso..., outputs=Tensor(\"Ac...)`\n"
     ]
    }
   ],
   "source": [
    "# noadverb, adverb 추가했더니 오히려 떨어져서.. adverb쪽 embed size를 1로 줄이고, 나머지도 조금씩 줄여서 overfit완화시도\n",
    "# conditioned vector minimum size: 194\n",
    "# general vector minimum size: 333\n",
    "# whole vector minimum size: 493\n",
    "# notarget vector minimum size: 40\n",
    "# target vector minimum size: 85\n",
    "# noadverb vector minimum size: 13\n",
    "# adverb vector minimum size: 8\n",
    "    \n",
    "num_predictive_factors1, num_predictive_factors2, num_predictive_factors3 = 12, 18, 26\n",
    "num_predictive_factors4, num_predictive_factors5 = 4, 6\n",
    "num_predictive_factors6, num_predictive_factors7 = 2, 2\n",
    "n_cond, n_gen, n_whole, n_notargets, n_targets = convec_size, genvec_size, whlvec_size, notgtvec_size, tgtvec_size\n",
    "n_noadverbs, n_adverbs, n_etc = noadvvec_size, advvec_size, len(tidf_etc_train[0])\n",
    "\n",
    "cond_input = keras.layers.Input(shape=(n_cond,), name='Cond')\n",
    "gen_input = keras.layers.Input(shape=(n_gen,), name='General')\n",
    "whole_input = keras.layers.Input(shape=(n_whole,), name='Whole')\n",
    "notargets_input = keras.layers.Input(shape=(n_notargets,), name='NoTargets')\n",
    "targets_input = keras.layers.Input(shape=(n_targets,), name='Targets')\n",
    "noadverbs_input = keras.layers.Input(shape=(n_noadverbs,), name='NoAdverbs')\n",
    "adverbs_input = keras.layers.Input(shape=(n_adverbs,), name='Adverbs')\n",
    "etc_input = keras.layers.Input(shape=(n_etc,), name='Etc')\n",
    "\n",
    "cond_vec_mlp = keras.layers.Embedding(cond_vocabsize + 1, num_predictive_factors1, )(cond_input)\n",
    "cond_vec_mlp = keras.layers.Flatten(name='Flattenconds-MLP')(cond_vec_mlp)\n",
    "cond_vec_mlp = keras.layers.Dropout(0.3)(cond_vec_mlp)\n",
    "\n",
    "gen_vec_mlp = keras.layers.Embedding(gen_vocabsize + 1, num_predictive_factors2, )(gen_input)\n",
    "gen_vec_mlp = keras.layers.Flatten(name='Flattengens-MLP')(gen_vec_mlp)\n",
    "gen_vec_mlp = keras.layers.Dropout(0.3)(gen_vec_mlp)\n",
    "\n",
    "whole_vec_mlp = keras.layers.Embedding(whole_vocabsize + 1, num_predictive_factors3, )(whole_input)\n",
    "whole_vec_mlp = keras.layers.Flatten(name='Flattenwhls-MLP')(whole_vec_mlp)\n",
    "whole_vec_mlp = keras.layers.Dropout(0.3)(whole_vec_mlp)\n",
    "\n",
    "notargets_vec_mlp = keras.layers.Embedding(notargets_vocabsize + 1, num_predictive_factors4, )(notargets_input)\n",
    "notargets_vec_mlp = keras.layers.Flatten(name='FlattenNotgts-MLP')(notargets_vec_mlp)\n",
    "notargets_vec_mlp = keras.layers.Dropout(0.3)(notargets_vec_mlp)\n",
    "\n",
    "targets_vec_mlp = keras.layers.Embedding(targets_vocabsize + 1, num_predictive_factors5, )(targets_input)\n",
    "targets_vec_mlp = keras.layers.Flatten(name='Flattentgts-MLP')(targets_vec_mlp)\n",
    "targets_vec_mlp = keras.layers.Dropout(0.3)(targets_vec_mlp)\n",
    "\n",
    "noadverbs_vec_mlp = keras.layers.Embedding(noadverbs_vocabsize + 1, num_predictive_factors4, )(noadverbs_input)\n",
    "noadverbs_vec_mlp = keras.layers.Flatten(name='FlattenNoadvs-MLP')(noadverbs_vec_mlp)\n",
    "noadverbs_vec_mlp = keras.layers.Dropout(0.3)(noadverbs_vec_mlp)\n",
    "\n",
    "adverbs_vec_mlp = keras.layers.Embedding(adverbs_vocabsize + 1, num_predictive_factors5, )(adverbs_input)\n",
    "adverbs_vec_mlp = keras.layers.Flatten(name='Flattenadvs-MLP')(adverbs_vec_mlp)\n",
    "adverbs_vec_mlp = keras.layers.Dropout(0.3)(adverbs_vec_mlp)\n",
    "\n",
    "concat_mlp = keras.layers.merge.concatenate([cond_vec_mlp, gen_vec_mlp, whole_vec_mlp, notargets_vec_mlp, targets_vec_mlp, noadverbs_vec_mlp, adverbs_vec_mlp, etc_input])\n",
    "concat_dropout_mlp = keras.layers.Dropout(0.3)(concat_mlp)\n",
    "\n",
    "dense = keras.layers.Dense(24, kernel_regularizer=keras.regularizers.l2(0.001), name='FullyConnected-1', activation='relu')(concat_dropout_mlp)\n",
    "dropout_1 = keras.layers.Dropout(0.3, name='Dropout-1')(dense)\n",
    "\n",
    "dense_2 = keras.layers.Dense(16, kernel_regularizer=keras.regularizers.l2(0.001), name='FullyConnected-2', activation='relu')(dropout_1)\n",
    "dropout_2 = keras.layers.Dropout(0.3, name='Dropout-2')(dense_2)\n",
    "\n",
    "# dense_3 = keras.layers.Dense(16, kernel_regularizer=keras.regularizers.l2(0.001), name='FullyConnected-3', activation='relu')(dropout_2)\n",
    "# dropout_3 = keras.layers.Dropout(0.3, name='Dropout-3')(dense_3)\n",
    "\n",
    "dense_4 = keras.layers.Dense(16, kernel_regularizer=keras.regularizers.l2(0.0001), name='FullyConnected-4', activation='relu')(dropout_2)\n",
    "pred_mlp = keras.layers.Dense(1, activation='sigmoid', name='Activation')(dense_4)\n",
    "\n",
    "model = keras.Model(inputs=[cond_input, gen_input, whole_input, notargets_input, targets_input, noadverbs_input, adverbs_input, etc_input ], output=pred_mlp)  #  etc_input\n",
    "model.compile(optimizer=keras.optimizers.Adam(lr=1e-4), loss='binary_crossentropy', metrics=['binary_crossentropy', 'accuracy'])\n",
    "#model.compile(optimizer=keras.optimizers.Adamax(lr=1e-3), loss='binary_crossentropy', metrics=['binary_crossentropy', 'accuracy'])"
   ]
  },
  {
   "cell_type": "code",
   "execution_count": 31,
   "metadata": {},
   "outputs": [
    {
     "name": "stdout",
     "output_type": "stream",
     "text": [
      "num_batch_normal: 1039, num_batch_smishing: 71\n",
      "num_batch_normal: 56, num_batch_smishing: 4\n",
      "Epoch 1/15\n",
      "1039/1039 [==============================] - 374s 360ms/step - loss: 0.1738 - binary_crossentropy: 0.1250 - acc: 0.9591 - val_loss: 0.0452 - val_binary_crossentropy: 0.0094 - val_acc: 0.9975\n",
      "Epoch 2/15\n",
      "1039/1039 [==============================] - 369s 355ms/step - loss: 0.0461 - binary_crossentropy: 0.0174 - acc: 0.9974 - val_loss: 0.0305 - val_binary_crossentropy: 0.0067 - val_acc: 0.9985\n",
      "Epoch 3/15\n",
      "1039/1039 [==============================] - 368s 354ms/step - loss: 0.0319 - binary_crossentropy: 0.0105 - acc: 0.9986 - val_loss: 0.0260 - val_binary_crossentropy: 0.0069 - val_acc: 0.9985\n",
      "Epoch 4/15\n",
      "1039/1039 [==============================] - 365s 351ms/step - loss: 0.0250 - binary_crossentropy: 0.0076 - acc: 0.9991 - val_loss: 0.0217 - val_binary_crossentropy: 0.0061 - val_acc: 0.9989\n",
      "Epoch 5/15\n",
      "1039/1039 [==============================] - 361s 347ms/step - loss: 0.0196 - binary_crossentropy: 0.0056 - acc: 0.9994 - val_loss: 0.0186 - val_binary_crossentropy: 0.0060 - val_acc: 0.9988\n",
      "Epoch 6/15\n",
      "1039/1039 [==============================] - 347s 334ms/step - loss: 0.0156 - binary_crossentropy: 0.0044 - acc: 0.9995 - val_loss: 0.0157 - val_binary_crossentropy: 0.0057 - val_acc: 0.9989\n",
      "Epoch 7/15\n",
      "1039/1039 [==============================] - 348s 335ms/step - loss: 0.0126 - binary_crossentropy: 0.0036 - acc: 0.9996 - val_loss: 0.0134 - val_binary_crossentropy: 0.0052 - val_acc: 0.9993\n",
      "Epoch 8/15\n",
      "1039/1039 [==============================] - 351s 337ms/step - loss: 0.0102 - binary_crossentropy: 0.0029 - acc: 0.9997 - val_loss: 0.0111 - val_binary_crossentropy: 0.0044 - val_acc: 0.9991\n",
      "Epoch 9/15\n",
      "1039/1039 [==============================] - 1270s 1s/step - loss: 0.0085 - binary_crossentropy: 0.0024 - acc: 0.9997 - val_loss: 0.0120 - val_binary_crossentropy: 0.0064 - val_acc: 0.9987\n",
      "Epoch 10/15\n",
      "1039/1039 [==============================] - 415s 400ms/step - loss: 0.0071 - binary_crossentropy: 0.0019 - acc: 0.9998 - val_loss: 0.0103 - val_binary_crossentropy: 0.0054 - val_acc: 0.9991\n",
      "Epoch 11/15\n",
      "1039/1039 [==============================] - 417s 402ms/step - loss: 0.0063 - binary_crossentropy: 0.0018 - acc: 0.9998 - val_loss: 0.0090 - val_binary_crossentropy: 0.0048 - val_acc: 0.9993\n",
      "Epoch 12/15\n",
      "1039/1039 [==============================] - 386s 372ms/step - loss: 0.0057 - binary_crossentropy: 0.0016 - acc: 0.9998 - val_loss: 0.0085 - val_binary_crossentropy: 0.0043 - val_acc: 0.9991\n",
      "Epoch 13/15\n",
      "1039/1039 [==============================] - 393s 379ms/step - loss: 0.0052 - binary_crossentropy: 0.0014 - acc: 0.9998 - val_loss: 0.0085 - val_binary_crossentropy: 0.0049 - val_acc: 0.9990\n",
      "Epoch 14/15\n",
      "1039/1039 [==============================] - 421s 405ms/step - loss: 0.0048 - binary_crossentropy: 0.0013 - acc: 0.9998 - val_loss: 0.0111 - val_binary_crossentropy: 0.0075 - val_acc: 0.9987\n",
      "Epoch 15/15\n",
      "1039/1039 [==============================] - 411s 395ms/step - loss: 0.0046 - binary_crossentropy: 0.0012 - acc: 0.9998 - val_loss: 0.0094 - val_binary_crossentropy: 0.0062 - val_acc: 0.9988\n"
     ]
    }
   ],
   "source": [
    "train_gen = DataGenerator(tidf_cond_train, tidf_gen_train, tidf_whole_train, tidf_notargets_train, tidf_targets_train, tidf_noadverbs_train, tidf_adverbs_train, tidf_etc_train, tidf_label_train, 160, 160, convec_size, genvec_size, whlvec_size, notgtvec_size, tgtvec_size, noadvvec_size, advvec_size)\n",
    "valid_gen = DataGenerator(tidf_cond_valid, tidf_gen_valid, tidf_whole_valid, tidf_notargets_valid, tidf_targets_valid, tidf_noadverbs_valid, tidf_adverbs_valid, tidf_etc_valid, tidf_label_valid, 1000, 1000, convec_size, genvec_size, whlvec_size, notgtvec_size, tgtvec_size, noadvvec_size, advvec_size)\n",
    "\n",
    "# 총 20번 train?\n",
    "history = model.fit_generator(generator=train_gen,\n",
    "                             epochs = 15,\n",
    "#                              use_multiprocessing=True,\n",
    "#                               workers=3,\n",
    "                             validation_data=valid_gen,\n",
    "                             verbose=1)"
   ]
  },
  {
   "cell_type": "code",
   "execution_count": 32,
   "metadata": {},
   "outputs": [
    {
     "data": {
      "image/png": "[encoded data removed]",
      "text/plain": [
       "<Figure size 1440x720 with 2 Axes>"
      ]
     },
     "metadata": {
      "needs_background": "light"
     },
     "output_type": "display_data"
    }
   ],
   "source": [
    "import matplotlib.pyplot as plt\n",
    "fig, loss_ax = plt.subplots()\n",
    "fig.set_figheight(10)\n",
    "fig.set_figwidth(20)\n",
    "acc_ax = loss_ax.twinx()\n",
    "loss_ax.plot(history.history['loss'], 'y', label='train_loss')\n",
    "loss_ax.plot(history.history['val_loss'], 'r', label='val_loss')\n",
    "\n",
    "acc_ax.plot(history.history['acc'], 'b', label='train_acc')\n",
    "acc_ax.plot(history.history['val_acc'], 'g', label='val_acc')\n",
    "\n",
    "loss_ax.set_xlabel('epoch')\n",
    "loss_ax.set_ylabel('loss')\n",
    "acc_ax.set_ylabel('accuracy')\n",
    "loss_ax.legend(loc='upper left')\n",
    "acc_ax.legend(loc='lower left')\n",
    "\n",
    "plt.show()"
   ]
  },
  {
   "cell_type": "code",
   "execution_count": 34,
   "metadata": {
    "scrolled": true
   },
   "outputs": [
    {
     "data": {
      "text/plain": [
       "[<matplotlib.lines.Line2D at 0x2070cdc7ac8>]"
      ]
     },
     "execution_count": 34,
     "metadata": {},
     "output_type": "execute_result"
    },
    {
     "data": {
      "image/png": "[encoded data removed]",
      "text/plain": [
       "<Figure size 1440x720 with 1 Axes>"
      ]
     },
     "metadata": {
      "needs_background": "light"
     },
     "output_type": "display_data"
    }
   ],
   "source": [
    "# layer 3개로 늘리고 15번 train\n",
    "data_gen_test = pad_sequences(tidf_gen_test, maxlen=genvec_size, padding='pre')\n",
    "data_cond_test = pad_sequences(tidf_cond_test, maxlen=convec_size, padding='pre')\n",
    "data_whole_test = pad_sequences(tidf_whole_test, maxlen=whlvec_size, padding='pre')\n",
    "data_notargets_test = pad_sequences(tidf_notargets_test, maxlen=notgtvec_size, padding='pre')\n",
    "data_targets_test = pad_sequences(tidf_targets_test, maxlen=tgtvec_size, padding='pre')\n",
    "data_noadverbs_test = pad_sequences(tidf_noadverbs_test, maxlen=noadvvec_size, padding='pre')\n",
    "data_adverbs_test = pad_sequences(tidf_adverbs_test, maxlen=advvec_size, padding='pre')\n",
    "data_etc_test = tidf_etc_test\n",
    "\n",
    "pred_test = model.predict(x=[data_cond_test, data_gen_test, data_whole_test, data_notargets_test, data_targets_test, data_noadverbs_test, data_adverbs_test, data_etc_test], batch_size=160)\n",
    "gap = np.abs(tidf_label_test - pred_test.reshape([-1,]))\n",
    "\n",
    "plt.figure(figsize=(20,10))\n",
    "plt.plot(gap)"
   ]
  },
  {
   "cell_type": "code",
   "execution_count": 35,
   "metadata": {
    "collapsed": true
   },
   "outputs": [
    {
     "name": "stdout",
     "output_type": "stream",
     "text": [
      "(광고) 정관장에서 미리 설 준비하시고 특별한 혜택 받으세요!! 예약기간 : 13(화)  19(월) 행사내용 :- 밝을윤세트 은혜은세트 원앙세트 3종 구매 예약시 5% 포인트 추가 적립- 예약방법은 매장으로 문의하여 주세요. 20만원 XXX입 시 1만원 할인- 기간:11128까지적용카드: 현대이마트카드.삼성카드.XXX국민카드.현대카드.XXX카드 결재 시 적용됨. 예약문의 : 정관장 서울 이마트가양점 전화:XX-XXX-XXX 무료수신거부 : XXX-XXX-XXX(광고)정관장 사전예XXX\n",
      "노사발전재단 경기중장년일XXX망센터 9월 단기취업특강 안내안녕하세요. 고용노동부 산하 중장년 재취업전직을 지원하는 공XXX입니다.  9월 단기취업특강 안내드립니다. 선착순으로 30명 신청을 받고 있습니다. 아래의 일정과 장소 꼭! 확인하시고 연락주세요.  일정- 9월 21일(목) 오후2시오후4시 행복한 노후를 위한 여정- 9월 28일(목) 오후2시오후4시 역경을 이겨내는 힘 감사하기 장소: 노사발전재단 경기중장년일XXX망센터 강의실(수원시 권선구 권광로149 안동빌딩 3층  대중교통: 지하철 분당선 수원시청역 3번출구 앞 1층 아웃백스테이크하우스 XXX 있음) 선착순 30명 모집. 참여 희망시 XXX-XXX-XXX(김나형 컨설턴트) 로 전화주세요.  교육참가확인증 발급노사발전재단 경기중장년일XXX\n",
      "(광고)트레이더스 서면점 명절행사 및 가XXX 안내명절 선물세트도 트레이더스 서면점이 확실히 저렴 합니다.혜택1:이마트포인트카드 소지 고객설날 선물세트 최대 30%할인행사기간 :1229(금)  215(목) 까지혜택2:선물세트 행사카드 구매 금액대별 최대 100만원 상품권 증정 125(목)131(수) 구매 시-카드종류:삼성국민XXX현대비씨XXX우리하나롯데XXXXXX이마트카드-3050만원이상 구매시:상품권 1만5천원2만5천원 증정-1001000만원 구매시 100만원당 상품권 5만원 증정1000만원 이상 구매시 상품권 100만원 증정트레이더스 서면점 삼성엘지대유위니아 브랜드 대전행사기간: 2018년 02월01일04일 (4일간)행사1.삼성엘지대유위니아 대형가전 초특가전-자세한 내용은 전화문의 부탁드립니다.행사2.TV냉장고세탁기김치냉장고 대형가전 초특가전 엘지 65형55형 울트라 스마트 TV 최종 혜택가 180만원대120만원대 초특가 판매 엘지 850리터 4도어 상 냉장고 최종혜택가 180만원대 1한정 초특가 판매 엘지 16kg3.5kg 트윈워시 건조형 드럼세탁기 최종 혜택가 150만원대 10대 한정 초특가 판매 엘지 트롬 전기식 건조기 초특가 판매 삼성 65형55형 UHD 스마트 TV 초특가 판매(사운드바증정) 삼성 840리터 4도어 냉장고 최종혜택가 190만원대 초특가 판매 삼성 17kg3kg 플랙스 워시 최종헤택가 160만원대 초특가 판매 삼성 전기식 건조기 선착순 10대한정 90만원 초특가 판매행사3.행사카드로 XXX품 구매시 신세계상품권 최대 70만원 추가증정행사4.행사카드로 구매시 최대 10개월 무이자 혜택단일품목 50만원이상 구매시 혜택 적용행사5.삼성카드로 제품 구매시 추가할인 적용행사6.노트북데스크탑 컴퓨터 삼성엘지 브랜드 대전 자세한 금액사전 예약은 전화문의 부탁드립니다.문의 : XXX-XXX-XXX무료수신거부:XXX-XXX-XXX(광고)트레이더스 서면점 명절가XXX\n",
      "(광고)SSG청담점 설 사전예XXX 행사 SSG푸드마켓 청담점 설 세트 사전예약 특별혜택 예약접수: 18(월)131(수) 상품배송: 21(목)214(수) 행사카드로 구매 시 최대 40% 할인 -행사카드: 삼성XXX국민XXX현대비씨XXX우리하나XXXXXX 이마트카드 이마트e카드 동일품목 50만원 이상 구매 시 최대 20% 할인 신세계포인트 소지 고객 대상 신선 10% 할인 XXX품에 한함 행사카드로 세트 구매 시 금액대별 최대 100만원 상품권 증정 -30만원 이상 : 3만원 상품권 증정 -50만원 이상 : 5만원 상품권 증정 -1001000만원: 100만원당 10만원 -1000만원 이상: 100만원 상품권 증정은 위 행사 할인 이후의 실제 금액을 기준으로 합니다. 법인카드 제외 자세한 행사카드 구매 금액대별 상품권 증정행사 내용은 점내 고지물 참조 휴점안내: 128(일) 휴점합니다 (단 1층 매장과 B1층 베키아에누보 그래머시홀 정상영업) 문의 : XX-XXX-XXX 무료수신거부:XXX-XXX-XXX(광고)SSG청담점 설 사전예XXX 행사\n",
      "(광고)citiXXX은행 안내 새롭게 시작하는 XXX입니다.항상 저희 citiXXX은행을 이용해 주시는 고객님께 깊이 감사드립니다.저희 당행에서는 일과가 바쁘신 기존 고객분들께 영업점 방문 이전에 대출 가능여부를 먼저 확인할 수 있도록 비대면 상담 서비스를 제공하고 있습니다.(당사 이용고객 중 마케팅 활용 동의하신 고객들께 발송되는 안내서비스입니다)상담대표번호: XX-XXX-XXX상품명: citiXXX 신용대출상품특징: 대환자금 및 생활여유자금 사업자금대출신청자격: 개인신용평가시스템(CSS)에 의해 대출한도가 산정되는 고객대출한도: 무보증 최고 1억원(마이너스통장대출 최고 1억원 이내)대출금리: 최저 연3%7.5%(기존금리우대금리) 우대금리: 최고 연 0.9%p(실적 우대:최고 연 0.7%p) (영업점 우대: 최고 연 0.2%p)  우대금리는 금리재산정 시점에서 각 항목의 충족여부에 따라 제공되지 않을 수 있습니다.대출기간 및 상환 방법: 마이너스통장식자율상환기본약정 1년(최장 10년까지 연장)  대출진행절차: -1차 가승인한도금리확인 -2차 본심사 접수-최종승인-지점내방안내-내방대출금수령  지점내방시(신분증 도장 등본1통) 지참 약정서 작성후 마이너스통장 발급본 안내문은 상품에 대한 이해를 돕고자 안내드리는 참고자료이며 실제 상품의 계약은 대출거래 약정서 여신거래기본약관 등의 적용을 받습니다.대출신청인이 신용정보 등록자(개인파산회생신용회복)일 경우 대출이 제한 될 수 있습니다. 번거로우시더라도 상담대표번호 XX-XXX-XXX로 전XXX드립니다.-XXX 여신영업2팀-상담시간: 오전9:30분오후6시기타 자세한 내용은 XXX은행 홈페이지(www.citibank.co.kr)또는 상품설명서를 참조하시기 바랍니다.(무료수신거부)XXX-XXX-XXX\n",
      "(광고)citiXXX은행 안내 새롭게 시작하는 XXX입니다.항상 저희 citiXXX은행을 이용해 주시는 고객님께 깊이 감사드립니다.저희 당행에서는 일과가 바쁘신 기존 고객분들께 영업점 방문 이전에 대출 가능여부를 먼저 확인할 수 있도록 비대면 상담 서비스를 제공하고 있습니다.(당사 이용고객 중 마케팅 활용 동의하신 고객들께 발송되는 안내서비스입니다)상담대표번호: XX-XXX-XXX상품명: citiXXX 신용대출상품특징: 대환자금 및 생활여유자금 사업자금대출신청자격: 개인신용평가시스템(CSS)에 의해 대출한도가 산정되는 고객대출한도: 무보증 최고 1억원(마이너스통장대출 최고 1억원 이내)대출금리: 최저 연3%7.5%(기존금리우대금리) 우대금리: 최고 연 0.9%p(실적 우대:최고 연 0.7%p) (영업점 우대: 최고 연 0.2%p)  우대금리는 금리재산정 시점에서 각 항목의 충족여부에 따라 제공되지 않을 수 있습니다.대출기간 및 상환 방법: 마이너스통장식자율상환기본약정 1년(최장 10년까지 연장)  대출진행절차: -1차 가승인한도금리확인 -2차 본심사 접수-최종승인-지점내방안내-내방대출금수령  지점내방시(신분증 도장 등본1통) 지참 약정서 작성후 마이너스통장 발급본 안내문은 상품에 대한 이해를 돕고자 안내드리는 참고자료이며 실제 상품의 계약은 대출거래 약정서 여신거래기본약관 등의 적용을 받습니다.대출신청인이 신용정보 등록자(개인파산회생신용회복)일 경우 대출이 제한 될 수 있습니다. 번거로우시더라도 상담대표번호 XX-XXX-XXX로 전XXX드립니다.-XXX 여신영업2팀-상담시간: 오전9:30분오후6시기타 자세한 내용은 XXX은행 홈페이지(www.citibank.co.kr)또는 상품설명서를 참조하시기 바랍니다.(무료수신거부)XXX-XXX-XXXFWXXX\n",
      "(광고) 기존 웰컴XXX 햇살론을 이용XXX 고객님.신규보다 더 간편하게 진행되시며 연 24%이상 고금리 채무에 대하여 대환 진행도 가능합니다통화가 어려우시면 XXX-XXX-XXX로 상XXX이라고 문자XXX 고객님 전용 상담원과 1:1 sms상담 및 심사예약도 가능  XXX 대출한도 : 50만원  1억원 약정금리 : 연 14.9% 23.9% 이자의 부과시기: 매월  인지세 : 5000만 원 초과 금액에 대하여 금액별 차등 적용 중도상환 수수료 : 1-2%XXX 심사기준과 고객신용도에 따라 대출여부가 결정되며 대출한도 및 대출금리에 차이가 있을 수 있습니다.기타 자세한 내용은 VIP센터XX-XXX-XXX로 문의하시기 바랍니다바로신청 https:m.welcomebank.co.krib20mnuMOWLCTLAD004연체이자를 포함한 모든 이자는 법정상한선인 연24%를 초과하지 않습니다(무료수신거부) XXX-XXX-XXX (수신자부담)웰컴XXX 준법감시인 심의필 제990호(18.04.02.)웰컴XXX제목없음\n"
     ]
    },
    {
     "data": {
      "text/plain": [
       "938       None\n",
       "149795    None\n",
       "195865    None\n",
       "196896    None\n",
       "278052    None\n",
       "280138    None\n",
       "291849    None\n",
       "Name: text, dtype: object"
      ]
     },
     "execution_count": 35,
     "metadata": {},
     "output_type": "execute_result"
    }
   ],
   "source": [
    "df[df['id'].isin(np.array(original_idx)[split >= 0.8][gap > 0.5])].text.map(print)"
   ]
  },
  {
   "cell_type": "code",
   "execution_count": 37,
   "metadata": {},
   "outputs": [
    {
     "name": "stdout",
     "output_type": "stream",
     "text": [
      "auc : 0.9999999162659995\n"
     ]
    },
    {
     "data": {
      "image/png": "[encoded data removed]",
      "text/plain": [
       "<Figure size 360x360 with 1 Axes>"
      ]
     },
     "metadata": {
      "needs_background": "light"
     },
     "output_type": "display_data"
    }
   ],
   "source": [
    "# auc\n",
    "from sklearn.metrics import confusion_matrix, roc_curve\n",
    "from sklearn.metrics import auc\n",
    "from matplotlib import pyplot as plt\n",
    "\n",
    "fpr, tpr, thresholds = roc_curve(tidf_label_test, pred_test)\n",
    "print('auc :', auc(fpr,tpr))\n",
    "\n",
    "plt.figure(figsize=(5,5))\n",
    "plt.plot(fpr,tpr,'-')\n",
    "plt.plot([0,1],[0,1], 'k--')\n",
    "plt.show()"
   ]
  },
  {
   "cell_type": "code",
   "execution_count": 38,
   "metadata": {},
   "outputs": [
    {
     "name": "stdout",
     "output_type": "stream",
     "text": [
      "__________________________________________________________________________________________________\n",
      "Layer (type)                    Output Shape         Param #     Connected to                     \n",
      "==================================================================================================\n",
      "Cond (InputLayer)               (None, 192)          0                                            \n",
      "__________________________________________________________________________________________________\n",
      "General (InputLayer)            (None, 333)          0                                            \n",
      "__________________________________________________________________________________________________\n",
      "Whole (InputLayer)              (None, 490)          0                                            \n",
      "__________________________________________________________________________________________________\n",
      "NoTargets (InputLayer)          (None, 41)           0                                            \n",
      "__________________________________________________________________________________________________\n",
      "Targets (InputLayer)            (None, 81)           0                                            \n",
      "__________________________________________________________________________________________________\n",
      "NoAdverbs (InputLayer)          (None, 12)           0                                            \n",
      "__________________________________________________________________________________________________\n",
      "Adverbs (InputLayer)            (None, 9)            0                                            \n",
      "__________________________________________________________________________________________________\n",
      "embedding_1 (Embedding)         (None, 192, 12)      106620      Cond[0][0]                       \n",
      "__________________________________________________________________________________________________\n",
      "embedding_2 (Embedding)         (None, 333, 18)      289944      General[0][0]                    \n",
      "__________________________________________________________________________________________________\n",
      "embedding_3 (Embedding)         (None, 490, 26)      979290      Whole[0][0]                      \n",
      "__________________________________________________________________________________________________\n",
      "embedding_4 (Embedding)         (None, 41, 4)        768         NoTargets[0][0]                  \n",
      "__________________________________________________________________________________________________\n",
      "embedding_5 (Embedding)         (None, 81, 6)        10104       Targets[0][0]                    \n",
      "__________________________________________________________________________________________________\n",
      "embedding_6 (Embedding)         (None, 12, 4)        648         NoAdverbs[0][0]                  \n",
      "__________________________________________________________________________________________________\n",
      "embedding_7 (Embedding)         (None, 9, 6)         450         Adverbs[0][0]                    \n",
      "__________________________________________________________________________________________________\n",
      "Flattenconds-MLP (Flatten)      (None, 2304)         0           embedding_1[0][0]                \n",
      "__________________________________________________________________________________________________\n",
      "Flattengens-MLP (Flatten)       (None, 5994)         0           embedding_2[0][0]                \n",
      "__________________________________________________________________________________________________\n",
      "Flattenwhls-MLP (Flatten)       (None, 12740)        0           embedding_3[0][0]                \n",
      "__________________________________________________________________________________________________\n",
      "FlattenNotgts-MLP (Flatten)     (None, 164)          0           embedding_4[0][0]                \n",
      "__________________________________________________________________________________________________\n",
      "Flattentgts-MLP (Flatten)       (None, 486)          0           embedding_5[0][0]                \n",
      "__________________________________________________________________________________________________\n",
      "FlattenNoadvs-MLP (Flatten)     (None, 48)           0           embedding_6[0][0]                \n",
      "__________________________________________________________________________________________________\n",
      "Flattenadvs-MLP (Flatten)       (None, 54)           0           embedding_7[0][0]                \n",
      "__________________________________________________________________________________________________\n",
      "dropout_1 (Dropout)             (None, 2304)         0           Flattenconds-MLP[0][0]           \n",
      "__________________________________________________________________________________________________\n",
      "dropout_2 (Dropout)             (None, 5994)         0           Flattengens-MLP[0][0]            \n",
      "__________________________________________________________________________________________________\n",
      "dropout_3 (Dropout)             (None, 12740)        0           Flattenwhls-MLP[0][0]            \n",
      "__________________________________________________________________________________________________\n",
      "dropout_4 (Dropout)             (None, 164)          0           FlattenNotgts-MLP[0][0]          \n",
      "__________________________________________________________________________________________________\n",
      "dropout_5 (Dropout)             (None, 486)          0           Flattentgts-MLP[0][0]            \n",
      "__________________________________________________________________________________________________\n",
      "dropout_6 (Dropout)             (None, 48)           0           FlattenNoadvs-MLP[0][0]          \n",
      "__________________________________________________________________________________________________\n",
      "dropout_7 (Dropout)             (None, 54)           0           Flattenadvs-MLP[0][0]            \n",
      "__________________________________________________________________________________________________\n",
      "Etc (InputLayer)                (None, 3)            0                                            \n",
      "__________________________________________________________________________________________________\n",
      "concatenate_1 (Concatenate)     (None, 21793)        0           dropout_1[0][0]                  \n",
      "                                                                 dropout_2[0][0]                  \n",
      "                                                                 dropout_3[0][0]                  \n",
      "                                                                 dropout_4[0][0]                  \n",
      "                                                                 dropout_5[0][0]                  \n",
      "                                                                 dropout_6[0][0]                  \n",
      "                                                                 dropout_7[0][0]                  \n",
      "                                                                 Etc[0][0]                        \n",
      "__________________________________________________________________________________________________\n",
      "dropout_8 (Dropout)             (None, 21793)        0           concatenate_1[0][0]              \n",
      "__________________________________________________________________________________________________\n",
      "FullyConnected-1 (Dense)        (None, 24)           523056      dropout_8[0][0]                  \n",
      "__________________________________________________________________________________________________\n",
      "Dropout-1 (Dropout)             (None, 24)           0           FullyConnected-1[0][0]           \n",
      "__________________________________________________________________________________________________\n",
      "FullyConnected-2 (Dense)        (None, 16)           400         Dropout-1[0][0]                  \n",
      "__________________________________________________________________________________________________\n",
      "Dropout-2 (Dropout)             (None, 16)           0           FullyConnected-2[0][0]           \n",
      "__________________________________________________________________________________________________\n",
      "FullyConnected-4 (Dense)        (None, 16)           272         Dropout-2[0][0]                  \n",
      "__________________________________________________________________________________________________\n",
      "Activation (Dense)              (None, 1)            17          FullyConnected-4[0][0]           \n",
      "==================================================================================================\n",
      "Total params: 1,911,569\n",
      "Trainable params: 1,911,569\n",
      "Non-trainable params: 0\n",
      "__________________________________________________________________________________________________\n"
     ]
    }
   ],
   "source": [
    "model.summary()"
   ]
  },
  {
   "cell_type": "code",
   "execution_count": 49,
   "metadata": {},
   "outputs": [],
   "source": [
    "model.save_weights(\"model/saved_model_weight\")"
   ]
  },
  {
   "cell_type": "code",
   "execution_count": 50,
   "metadata": {},
   "outputs": [],
   "source": [
    "model.save(\"model/saved_model\")"
   ]
  },
  {
   "cell_type": "code",
   "execution_count": 57,
   "metadata": {
    "scrolled": true
   },
   "outputs": [],
   "source": [
    "model.save(\"model/final_model.h5\")"
   ]
  }
 ],
 "metadata": {
  "kernelspec": {
   "display_name": "Python 3",
   "language": "python",
   "name": "python3"
  },
  "language_info": {
   "codemirror_mode": {
    "name": "ipython",
    "version": 3
   },
   "file_extension": ".py",
   "mimetype": "text/x-python",
   "name": "python",
   "nbconvert_exporter": "python",
   "pygments_lexer": "ipython3",
   "version": "3.6.10"
  }
 },
 "nbformat": 4,
 "nbformat_minor": 4
}
