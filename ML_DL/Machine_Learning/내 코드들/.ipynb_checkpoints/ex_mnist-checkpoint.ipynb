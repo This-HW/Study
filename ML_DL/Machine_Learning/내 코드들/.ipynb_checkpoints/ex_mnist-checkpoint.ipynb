{
 "cells": [
  {
   "cell_type": "markdown",
   "metadata": {},
   "source": [
    "1. 데이터 수집\n",
    "2.\n",
    "3. 학습모형\n",
    "  1) 지도학습\n",
    "     - 분류\n",
    "     - 수치예측\n",
    "  2) 비지도학습\n",
    "4. 평가\n",
    "  1) 분류 - 평가매트릭스    (실제정답, 분류결과 매트릭스)"
   ]
  }
 ],
 "metadata": {
  "kernelspec": {
   "display_name": "Python 3",
   "language": "python",
   "name": "python3"
  },
  "language_info": {
   "codemirror_mode": {
    "name": "ipython",
    "version": 3
   },
   "file_extension": ".py",
   "mimetype": "text/x-python",
   "name": "python",
   "nbconvert_exporter": "python",
   "pygments_lexer": "ipython3",
   "version": "3.7.4"
  }
 },
 "nbformat": 4,
 "nbformat_minor": 2
}
