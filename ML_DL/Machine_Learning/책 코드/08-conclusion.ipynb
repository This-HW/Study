{
 "cells": [
  {
   "cell_type": "markdown",
   "metadata": {
    "hide_input": false
   },
   "source": [
    "## 마무리\n",
    "### 머신 러닝 문제 접근 방법\n",
    "### 의사 결정 참여"
   ]
  },
  {
   "cell_type": "markdown",
   "metadata": {},
   "source": [
    "### 프로토타입에서 제품까지"
   ]
  },
  {
   "cell_type": "markdown",
   "metadata": {},
   "source": [
    "### 제품 시스템 테스트"
   ]
  },
  {
   "cell_type": "markdown",
   "metadata": {},
   "source": [
    "### 나만의 예측기 만들기"
   ]
  },
  {
   "cell_type": "code",
   "execution_count": 1,
   "metadata": {},
   "outputs": [],
   "source": [
    "from sklearn.base import BaseEstimator, TransformerMixin\n",
    "\n",
    "class MyTransformer(BaseEstimator, TransformerMixin):\n",
    "    def __init__(self, first_paramter=1, second_parameter=2):\n",
    "        # __init__ 메소드에 필요한 모든 매개변수를 나열합니다\n",
    "        self.first_paramter = 1\n",
    "        self.second_parameter = 2\n",
    "        \n",
    "    def fit(self, X, y=None):\n",
    "        # fit 메소드는 X와 y 매개변수만을 갖습니다\n",
    "        # 비지도 학습 모델이더라도 y 매개변수를 받도록 해야합니다!\n",
    "        \n",
    "        # 모델 학습 시작\n",
    "        print(\"모델 학습을 시작합니다\")\n",
    "        # 객체 자신인 self를 반환합니다\n",
    "        return self\n",
    "    \n",
    "    def transform(self, X):\n",
    "        # transform 메소드는 X 매개변수만을 받습니다\n",
    "        \n",
    "        # X를 변환합니다\n",
    "        X_transformed = X + 1\n",
    "        return X_transformed"
   ]
  },
  {
   "cell_type": "markdown",
   "metadata": {},
   "source": [
    "### 더 배울 것들\n",
    "#### 이론\n",
    "#### 다른 머신 러닝 프레임워크, 패키지\n",
    "#### 랭킹, 추천 시스템과 그외 다른 알고리즘\n",
    "#### 확률 모델렝, 추론, 확률적 프로그래밍"
   ]
  },
  {
   "cell_type": "markdown",
   "metadata": {},
   "source": [
    "#### 신경망"
   ]
  },
  {
   "cell_type": "markdown",
   "metadata": {},
   "source": [
    "#### Scaling to larger datasets"
   ]
  },
  {
   "cell_type": "markdown",
   "metadata": {},
   "source": [
    "#### Honing your skills"
   ]
  },
  {
   "cell_type": "markdown",
   "metadata": {},
   "source": [
    "#### Conclusion"
   ]
  }
 ],
 "metadata": {
  "anaconda-cloud": {},
  "kernelspec": {
   "display_name": "Python 3",
   "language": "python",
   "name": "python3"
  },
  "language_info": {
   "codemirror_mode": {
    "name": "ipython",
    "version": 3
   },
   "file_extension": ".py",
   "mimetype": "text/x-python",
   "name": "python",
   "nbconvert_exporter": "python",
   "pygments_lexer": "ipython3",
   "version": "3.7.3"
  }
 },
 "nbformat": 4,
 "nbformat_minor": 1
}
