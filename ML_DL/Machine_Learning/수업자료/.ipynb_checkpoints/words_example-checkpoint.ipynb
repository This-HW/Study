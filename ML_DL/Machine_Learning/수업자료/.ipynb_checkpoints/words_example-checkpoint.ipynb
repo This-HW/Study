{
 "cells": [
  {
   "cell_type": "code",
   "execution_count": 3,
   "metadata": {},
   "outputs": [],
   "source": [
    "import random as rnd"
   ]
  },
  {
   "cell_type": "code",
   "execution_count": 4,
   "metadata": {},
   "outputs": [],
   "source": [
    "words = \"internationalization\"\n",
    "hidden_size = int(len(words)*0.3)\n",
    "#hidden_size 만큼 랜덤수 생성(0~len(words))"
   ]
  },
  {
   "cell_type": "code",
   "execution_count": 5,
   "metadata": {},
   "outputs": [
    {
     "name": "stdout",
     "output_type": "stream",
     "text": [
      "[0, 10, 6, 18, 16, 6]\n"
     ]
    }
   ],
   "source": [
    "hidden_index = []\n",
    "for i in range(hidden_size):\n",
    "    hidden_index.append(rnd.randrange(len(words)))\n",
    "    pass\n",
    "\n",
    "print(hidden_index)\n"
   ]
  },
  {
   "cell_type": "code",
   "execution_count": 6,
   "metadata": {},
   "outputs": [],
   "source": [
    "def display_word():\n",
    "    for idx in range(len(words)):\n",
    "        if idx not in hidden_index:\n",
    "            print(words[idx],end=' ')\n",
    "        else :\n",
    "            print(\"_\",end=' ')\n",
    "            pass\n",
    "        pass\n",
    "    print()"
   ]
  },
  {
   "cell_type": "code",
   "execution_count": 7,
   "metadata": {},
   "outputs": [
    {
     "name": "stdout",
     "output_type": "stream",
     "text": [
      "_ n t e r n _ t i o _ a l i z a _ i _ n \n"
     ]
    }
   ],
   "source": [
    "display_word()"
   ]
  },
  {
   "cell_type": "code",
   "execution_count": null,
   "metadata": {},
   "outputs": [
    {
     "name": "stdout",
     "output_type": "stream",
     "text": [
      "please input letter >>> i\n",
      "temp_number [0, 8, 13, 17]\n",
      "correct : i\n",
      "hidden_index [10, 6, 18, 16, 6]\n",
      "i n t e r n _ t i o _ a l i z a _ i _ n \n",
      "please input letter >>> a\n",
      "temp_number [6, 11, 15]\n",
      "correct : a\n",
      "hidden_index [10, 18, 16, 6]\n",
      "i n t e r n _ t i o _ a l i z a _ i _ n \n"
     ]
    }
   ],
   "source": [
    "while True:\n",
    "    try_letter = input('please input letter >>> ')\n",
    "    # 로직처리\n",
    "    temp_number = []\n",
    "    for idx,letter in enumerate(words):\n",
    "        if try_letter == letter:\n",
    "            temp_number.append(idx)\n",
    "            pass\n",
    "        pass\n",
    "    \n",
    "    print('temp_number',temp_number)   \n",
    "    for num in temp_number:\n",
    "        if num in hidden_index:\n",
    "            print('correct : {}'.format(try_letter))\n",
    "            hidden_index.remove(num)\n",
    "        # 처리결과\n",
    "    print('hidden_index',hidden_index)\n",
    "    display_word()\n",
    "    # 출력함수 적용\n",
    "    if len(hidden_index)==0:\n",
    "        break\n",
    "        pass\n",
    "    pass\n",
    "\n",
    "        "
   ]
  },
  {
   "cell_type": "code",
   "execution_count": null,
   "metadata": {},
   "outputs": [],
   "source": [
    "[18, 5, 15, 4, 5, 17]"
   ]
  }
 ],
 "metadata": {
  "kernelspec": {
   "display_name": "Python 3",
   "language": "python",
   "name": "python3"
  },
  "language_info": {
   "codemirror_mode": {
    "name": "ipython",
    "version": 3
   },
   "file_extension": ".py",
   "mimetype": "text/x-python",
   "name": "python",
   "nbconvert_exporter": "python",
   "pygments_lexer": "ipython3",
   "version": "3.7.4"
  }
 },
 "nbformat": 4,
 "nbformat_minor": 2
}
