{
 "cells": [
  {
   "cell_type": "code",
   "execution_count": 3,
   "metadata": {},
   "outputs": [],
   "source": [
    "import random as rnd"
   ]
  },
  {
   "cell_type": "code",
   "execution_count": 4,
   "metadata": {},
   "outputs": [],
   "source": [
    "words = \"internationalization\"\n",
    "hidden_size = int(len(words)*0.3)\n",
    "#hidden_size 만큼 랜덤수 생성(0~len(words))"
   ]
  },
  {
   "cell_type": "code",
   "execution_count": 5,
   "metadata": {},
   "outputs": [
    {
     "name": "stdout",
     "output_type": "stream",
     "text": [
      "[0, 10, 6, 18, 16, 6]\n"
     ]
    }
   ],
   "source": [
    "hidden_index = []\n",
    "for i in range(hidden_size):\n",
    "    hidden_index.append(rnd.randrange(len(words)))\n",
    "    pass\n",
    "\n",
    "print(hidden_index)\n"
   ]
  },
  {
   "cell_type": "code",
   "execution_count": 6,
   "metadata": {},
   "outputs": [],
   "source": [
    "def display_word():\n",
    "    for idx in range(len(words)):\n",
    "        if idx not in hidden_index:\n",
    "            print(words[idx],end=' ')\n",
    "        else :\n",
    "            print(\"_\",end=' ')\n",
    "            pass\n",
    "        pass\n",
    "    print()"
   ]
  },
  {
   "cell_type": "code",
   "execution_count": 7,
   "metadata": {},
   "outputs": [
    {
     "name": "stdout",
     "output_type": "stream",
     "text": [
      "_ n t e r n _ t i o _ a l i z a _ i _ n \n"
     ]
    }
   ],
   "source": [
    "display_word()"
   ]
  },
  {
   "cell_type": "code",
   "execution_count": 10,
   "metadata": {},
   "outputs": [
    {
     "name": "stdout",
     "output_type": "stream",
     "text": [
      "please input letter >>> b\n",
      "temp_number []\n",
      "hidden_index []\n",
      "i n t e r n a t i o n a l i z a t i o n \n"
     ]
    }
   ],
   "source": [
    "while True:\n",
    "    try_letter = input('please input letter >>> ')\n",
    "    # 로직처리\n",
    "    temp_number = []\n",
    "    for idx,letter in enumerate(words):\n",
    "        if try_letter == letter:\n",
    "            temp_number.append(idx)\n",
    "            pass\n",
    "        pass\n",
    "    \n",
    "    print('temp_number',temp_number)   \n",
    "    for num in temp_number:\n",
    "        if num in hidden_index:\n",
    "            print('correct : {}'.format(try_letter))\n",
    "            hidden_index.remove(num)\n",
    "        # 처리결과\n",
    "    print('hidden_index',hidden_index)\n",
    "    display_word()\n",
    "    # 출력함수 적용\n",
    "    if len(hidden_index)==0:\n",
    "        break\n",
    "        pass\n",
    "    pass\n",
    "\n",
    "        "
   ]
  },
  {
   "cell_type": "code",
   "execution_count": 15,
   "metadata": {},
   "outputs": [
    {
     "ename": "TypeError",
     "evalue": "'tuple' object doesn't support item deletion",
     "output_type": "error",
     "traceback": [
      "\u001b[1;31m---------------------------------------------------------------------------\u001b[0m",
      "\u001b[1;31mTypeError\u001b[0m                                 Traceback (most recent call last)",
      "\u001b[1;32m<ipython-input-15-34cbdd397a76>\u001b[0m in \u001b[0;36m<module>\u001b[1;34m\u001b[0m\n\u001b[0;32m      1\u001b[0m \u001b[0ma\u001b[0m \u001b[1;33m=\u001b[0m \u001b[1;33m(\u001b[0m\u001b[1;36m18\u001b[0m\u001b[1;33m,\u001b[0m \u001b[1;36m5\u001b[0m\u001b[1;33m,\u001b[0m \u001b[1;36m15\u001b[0m\u001b[1;33m,\u001b[0m \u001b[1;36m4\u001b[0m\u001b[1;33m,\u001b[0m \u001b[1;36m5\u001b[0m\u001b[1;33m,\u001b[0m \u001b[1;36m17\u001b[0m\u001b[1;33m)\u001b[0m\u001b[1;33m\u001b[0m\u001b[1;33m\u001b[0m\u001b[0m\n\u001b[1;32m----> 2\u001b[1;33m \u001b[1;32mdel\u001b[0m \u001b[0ma\u001b[0m\u001b[1;33m[\u001b[0m\u001b[1;36m0\u001b[0m\u001b[1;33m]\u001b[0m\u001b[1;33m\u001b[0m\u001b[1;33m\u001b[0m\u001b[0m\n\u001b[0m\u001b[0;32m      3\u001b[0m \u001b[0ma\u001b[0m\u001b[1;33m\u001b[0m\u001b[1;33m\u001b[0m\u001b[0m\n",
      "\u001b[1;31mTypeError\u001b[0m: 'tuple' object doesn't support item deletion"
     ]
    }
   ],
   "source": [
    "a = (18, 5, 15, 4, 5, 17)\n",
    "del a[0]\n",
    "a"
   ]
  },
  {
   "cell_type": "code",
   "execution_count": null,
   "metadata": {},
   "outputs": [],
   "source": []
  }
 ],
 "metadata": {
  "kernelspec": {
   "display_name": "Python 3",
   "language": "python",
   "name": "python3"
  },
  "language_info": {
   "codemirror_mode": {
    "name": "ipython",
    "version": 3
   },
   "file_extension": ".py",
   "mimetype": "text/x-python",
   "name": "python",
   "nbconvert_exporter": "python",
   "pygments_lexer": "ipython3",
   "version": "3.7.4"
  }
 },
 "nbformat": 4,
 "nbformat_minor": 2
}
