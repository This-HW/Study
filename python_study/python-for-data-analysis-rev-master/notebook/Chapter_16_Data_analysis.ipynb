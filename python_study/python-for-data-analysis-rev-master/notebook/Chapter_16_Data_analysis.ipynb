{
 "cells": [
  {
   "cell_type": "markdown",
   "metadata": {
    "toc-hr-collapsed": false
   },
   "source": [
    "# 16장 실전 데이터 분석 프로젝트"
   ]
  },
  {
   "cell_type": "markdown",
   "metadata": {},
   "source": [
    "## 16.1 데이터 분석 프로세스"
   ]
  },
  {
   "cell_type": "markdown",
   "metadata": {
    "toc-hr-collapsed": false
   },
   "source": [
    "## 16.2 데이터 획득, 처리, 시각화 심화"
   ]
  },
  {
   "cell_type": "markdown",
   "metadata": {},
   "source": [
    "### 깃허브에서 파일 다운로드"
   ]
  },
  {
   "cell_type": "markdown",
   "metadata": {},
   "source": [
    "**[16장: 533 ~ 534페이지]**"
   ]
  },
  {
   "cell_type": "code",
   "execution_count": null,
   "metadata": {},
   "outputs": [],
   "source": [
    "import requests\n",
    "\n",
    "# 깃허브의 파일 URL\n",
    "url = 'https://github.com/wikibook/python-for-data-analysis-rev/raw/master/readme.txt'\n",
    "\n",
    "# URL에 해당하는 파일을 내려받음\n",
    "r = requests.get(url)\n",
    "\n",
    "# 파일을 저장할 폴더와 파일명을 지정\n",
    "file_name = 'C:/myPyCode/data/readme.txt'\n",
    "\n",
    "# 내려받은 파일을 지정한 폴더에 저장\n",
    "with open(file_name, 'wb') as f:\n",
    "    f.write(r.content)"
   ]
  },
  {
   "cell_type": "markdown",
   "metadata": {},
   "source": [
    "**[16장: 534페이지]**"
   ]
  },
  {
   "cell_type": "code",
   "execution_count": null,
   "metadata": {},
   "outputs": [],
   "source": [
    "import os\n",
    "\n",
    "os.path.isfile(file_name) "
   ]
  },
  {
   "cell_type": "markdown",
   "metadata": {
    "toc-hr-collapsed": false
   },
   "source": [
    "### 데이터에서 결측치 확인 및 처리"
   ]
  },
  {
   "cell_type": "markdown",
   "metadata": {},
   "source": [
    "#### 결측치 확인"
   ]
  },
  {
   "cell_type": "markdown",
   "metadata": {},
   "source": [
    "**[16장: 535페이지]**"
   ]
  },
  {
   "cell_type": "code",
   "execution_count": null,
   "metadata": {},
   "outputs": [],
   "source": [
    "!type C:\\myPyCode\\data\\missing_data_test.csv"
   ]
  },
  {
   "cell_type": "markdown",
   "metadata": {},
   "source": [
    "**[16장: 535페이지]**"
   ]
  },
  {
   "cell_type": "code",
   "execution_count": null,
   "metadata": {},
   "outputs": [],
   "source": [
    "import pandas as pd\n",
    "\n",
    "data_file = \"C:/myPyCode/data/missing_data_test.csv\"\n",
    "\n",
    "df = pd.read_csv(data_file, encoding = \"cp949\", index_col = \"연도\")\n",
    "\n",
    "df"
   ]
  },
  {
   "cell_type": "markdown",
   "metadata": {},
   "source": [
    "**[16장: 535페이지]**"
   ]
  },
  {
   "cell_type": "code",
   "execution_count": null,
   "metadata": {},
   "outputs": [],
   "source": [
    "df.isnull()"
   ]
  },
  {
   "cell_type": "markdown",
   "metadata": {},
   "source": [
    "**[16장: 536페이지]**"
   ]
  },
  {
   "cell_type": "code",
   "execution_count": null,
   "metadata": {},
   "outputs": [],
   "source": [
    "df.isnull().sum()"
   ]
  },
  {
   "cell_type": "markdown",
   "metadata": {},
   "source": [
    "#### 결측치 처리"
   ]
  },
  {
   "cell_type": "markdown",
   "metadata": {},
   "source": [
    "**[16장: 537페이지]**"
   ]
  },
  {
   "cell_type": "code",
   "execution_count": null,
   "metadata": {},
   "outputs": [],
   "source": [
    "df.drop(index=[2019])"
   ]
  },
  {
   "cell_type": "markdown",
   "metadata": {},
   "source": [
    "**[16장: 537페이지]**"
   ]
  },
  {
   "cell_type": "code",
   "execution_count": null,
   "metadata": {},
   "outputs": [],
   "source": [
    "df.drop(columns=['제품3', '제품4'])"
   ]
  },
  {
   "cell_type": "markdown",
   "metadata": {},
   "source": [
    "**[16장: 538페이지]** "
   ]
  },
  {
   "cell_type": "code",
   "execution_count": null,
   "metadata": {},
   "outputs": [],
   "source": [
    "df.drop(index=[2018, 2019], columns=['제품3', '제품4'])"
   ]
  },
  {
   "cell_type": "markdown",
   "metadata": {},
   "source": [
    "**[16장: 538페이지]** "
   ]
  },
  {
   "cell_type": "code",
   "execution_count": null,
   "metadata": {},
   "outputs": [],
   "source": [
    "df.dropna() #df.dropna(axis=0)도 결과는 같습니다."
   ]
  },
  {
   "cell_type": "markdown",
   "metadata": {},
   "source": [
    "**[16장: 539페이지]** "
   ]
  },
  {
   "cell_type": "code",
   "execution_count": null,
   "metadata": {},
   "outputs": [],
   "source": [
    "df.dropna(axis=0, subset=['제품1'])"
   ]
  },
  {
   "cell_type": "markdown",
   "metadata": {},
   "source": [
    "**[16장: 539페이지]** "
   ]
  },
  {
   "cell_type": "code",
   "execution_count": null,
   "metadata": {},
   "outputs": [],
   "source": [
    "df.dropna(axis=1)"
   ]
  },
  {
   "cell_type": "markdown",
   "metadata": {},
   "source": [
    "**[16장: 539페이지]** "
   ]
  },
  {
   "cell_type": "code",
   "execution_count": null,
   "metadata": {},
   "outputs": [],
   "source": [
    "df.dropna(axis=1, subset=[2015])"
   ]
  },
  {
   "cell_type": "markdown",
   "metadata": {},
   "source": [
    "**[16장: 540페이지]** "
   ]
  },
  {
   "cell_type": "code",
   "execution_count": null,
   "metadata": {},
   "outputs": [],
   "source": [
    "df.dropna(axis=1, subset=[2016, 2019])"
   ]
  },
  {
   "cell_type": "markdown",
   "metadata": {},
   "source": [
    "**[16장: 541페이지]**"
   ]
  },
  {
   "cell_type": "code",
   "execution_count": null,
   "metadata": {},
   "outputs": [],
   "source": [
    "df.fillna(0)"
   ]
  },
  {
   "cell_type": "markdown",
   "metadata": {},
   "source": [
    "**[16장: 541페이지]**"
   ]
  },
  {
   "cell_type": "code",
   "execution_count": null,
   "metadata": {},
   "outputs": [],
   "source": [
    "df.fillna(method='bfill')"
   ]
  },
  {
   "cell_type": "markdown",
   "metadata": {},
   "source": [
    "**[16장: 541페이지]**"
   ]
  },
  {
   "cell_type": "code",
   "execution_count": null,
   "metadata": {},
   "outputs": [],
   "source": [
    "df.fillna(method='ffill')"
   ]
  },
  {
   "cell_type": "markdown",
   "metadata": {},
   "source": [
    "**[16장: 542페이지]**"
   ]
  },
  {
   "cell_type": "code",
   "execution_count": null,
   "metadata": {},
   "outputs": [],
   "source": [
    "values = {'제품1': 100,  '제품4': 400}\n",
    "df.fillna(value=values)"
   ]
  },
  {
   "cell_type": "markdown",
   "metadata": {},
   "source": [
    "### 데이터의 요약 및 재구성"
   ]
  },
  {
   "cell_type": "markdown",
   "metadata": {},
   "source": [
    "#### 데이터의 구조 살펴보기"
   ]
  },
  {
   "cell_type": "markdown",
   "metadata": {},
   "source": [
    "**[16장: 543페이지]**"
   ]
  },
  {
   "cell_type": "code",
   "execution_count": null,
   "metadata": {},
   "outputs": [],
   "source": [
    "import pandas as pd\n",
    "\n",
    "data_file = \"C:/myPyCode/data/total_sales_data.csv\"\n",
    "\n",
    "df_sales = pd.read_csv(data_file)\n",
    "df_sales"
   ]
  },
  {
   "cell_type": "markdown",
   "metadata": {},
   "source": [
    "**[16장: 543페이지]**"
   ]
  },
  {
   "cell_type": "code",
   "execution_count": null,
   "metadata": {},
   "outputs": [],
   "source": [
    "df_sales.info()"
   ]
  },
  {
   "cell_type": "markdown",
   "metadata": {},
   "source": [
    "**[16장: 544페이지]**"
   ]
  },
  {
   "cell_type": "code",
   "execution_count": null,
   "metadata": {},
   "outputs": [],
   "source": [
    "df_sales['매장명'].value_counts()"
   ]
  },
  {
   "cell_type": "markdown",
   "metadata": {},
   "source": [
    "**[16장: 545페이지]**"
   ]
  },
  {
   "cell_type": "code",
   "execution_count": null,
   "metadata": {},
   "outputs": [],
   "source": [
    "df_sales['제품종류'].value_counts()"
   ]
  },
  {
   "cell_type": "markdown",
   "metadata": {},
   "source": [
    "#### 피벗 테이블로 데이터 재구성하기"
   ]
  },
  {
   "cell_type": "markdown",
   "metadata": {},
   "source": [
    "**[16장: 546페이지]**"
   ]
  },
  {
   "cell_type": "code",
   "execution_count": null,
   "metadata": {},
   "outputs": [],
   "source": [
    "df_sales"
   ]
  },
  {
   "cell_type": "markdown",
   "metadata": {},
   "source": [
    "**[16장: 546페이지]**"
   ]
  },
  {
   "cell_type": "code",
   "execution_count": null,
   "metadata": {},
   "outputs": [],
   "source": [
    "df_sales.pivot_table(index=[\"매장명\", \"제품종류\", \"모델명\"],\n",
    "                     values =[\"판매\",\"재고\"], aggfunc='sum')"
   ]
  },
  {
   "cell_type": "markdown",
   "metadata": {},
   "source": [
    "**[16장: 547페이지]**"
   ]
  },
  {
   "cell_type": "code",
   "execution_count": null,
   "metadata": {},
   "outputs": [],
   "source": [
    "df_sales.pivot_table(index=[\"매장명\"], columns = [\"제품종류\"],\n",
    "                     values =[\"판매\",\"재고\"], aggfunc='sum')"
   ]
  },
  {
   "cell_type": "markdown",
   "metadata": {},
   "source": [
    "**[16장: 547페이지]**"
   ]
  },
  {
   "cell_type": "code",
   "execution_count": null,
   "metadata": {},
   "outputs": [],
   "source": [
    "df_sales.pivot_table(index=[\"매장명\"], columns = [\"제품종류\"],\n",
    "                     values =[\"판매\",\"재고\"], aggfunc='count')"
   ]
  },
  {
   "cell_type": "markdown",
   "metadata": {},
   "source": [
    "### 워드 클라우드를 이용한 데이터 시각화"
   ]
  },
  {
   "cell_type": "markdown",
   "metadata": {},
   "source": [
    "**[16장: 549~550페이지]**"
   ]
  },
  {
   "cell_type": "code",
   "execution_count": null,
   "metadata": {},
   "outputs": [],
   "source": [
    "from wordcloud import WordCloud\n",
    "import matplotlib.pyplot as plt\n",
    "\n",
    "file_name = 'C:/myPyCode/data/littleprince_djvu.txt'\n",
    "\n",
    "with open(file_name) as f: # 파일을 읽기 모드로 열기\n",
    "    text = f.read() # 파일의 내용 읽어오기\n",
    "\n",
    "# 워드 클라우드의 이미지를 생성합니다.\n",
    "wordcloud_image = WordCloud().generate(text)\n",
    "\n",
    "# 생성한 워드 클라우드 이미지를 화면에 표시합니다.\n",
    "plt.imshow(wordcloud_image, interpolation='bilinear')\n",
    "plt.axis(\"off\")\n",
    "plt.show()"
   ]
  },
  {
   "cell_type": "markdown",
   "metadata": {},
   "source": [
    "**[16장: 550페이지]**"
   ]
  },
  {
   "cell_type": "code",
   "execution_count": null,
   "metadata": {},
   "outputs": [],
   "source": [
    "wordcloud_image = WordCloud(background_color='white', max_font_size=300, width=800, height=400).generate(text)\n",
    "\n",
    "plt.imshow(wordcloud_image, interpolation=\"bilinear\")\n",
    "plt.axis(\"off\")\n",
    "plt.show()"
   ]
  },
  {
   "cell_type": "markdown",
   "metadata": {},
   "source": [
    "**[16장: 551페이지]**"
   ]
  },
  {
   "cell_type": "code",
   "execution_count": null,
   "metadata": {},
   "outputs": [],
   "source": [
    "image_file_name = 'C:/myPyCode/figures/little_prince.png'\n",
    "\n",
    "wordcloud_image.to_file(image_file_name)\n",
    "plt.show()"
   ]
  },
  {
   "cell_type": "markdown",
   "metadata": {},
   "source": [
    "**[16장: 551페이지]**"
   ]
  },
  {
   "cell_type": "code",
   "execution_count": null,
   "metadata": {},
   "outputs": [],
   "source": [
    "import pandas as pd\n",
    "\n",
    "word_count_file = \"C:/myPyCode/data/word_count.csv\"\n",
    "word_count = pd.read_csv(word_count_file, index_col = '단어')\n",
    "word_count.head(5)"
   ]
  },
  {
   "cell_type": "markdown",
   "metadata": {},
   "source": [
    "**[16장: 552페이지]**"
   ]
  },
  {
   "cell_type": "code",
   "execution_count": null,
   "metadata": {},
   "outputs": [],
   "source": [
    "word_count['빈도'][0:5]"
   ]
  },
  {
   "cell_type": "markdown",
   "metadata": {},
   "source": [
    "**[16장: 552페이지]**"
   ]
  },
  {
   "cell_type": "code",
   "execution_count": null,
   "metadata": {},
   "outputs": [],
   "source": [
    "type(word_count['빈도'])"
   ]
  },
  {
   "cell_type": "markdown",
   "metadata": {},
   "source": [
    "**[16장: 553페이지]**"
   ]
  },
  {
   "cell_type": "code",
   "execution_count": null,
   "metadata": {},
   "outputs": [],
   "source": [
    "from wordcloud import WordCloud\n",
    "import matplotlib.pyplot as plt\n",
    "\n",
    "korean_font_path = 'C:/Windows/Fonts/malgun.ttf' # 한글 폰트(맑은 고딕) 파일명\n",
    "\n",
    "# 워드 클라우드 이미지 생성\n",
    "wc = WordCloud(font_path=korean_font_path, background_color='white')\n",
    "\n",
    "frequencies = word_count['빈도'] # pandas의 Series 형식이 됨\n",
    "wordcloud_image = wc.generate_from_frequencies(frequencies)\n",
    "\n",
    "# 생성한 워드 클라우드 이미지를 화면에 표시\n",
    "plt.imshow(wordcloud_image, interpolation=\"bilinear\")\n",
    "plt.axis(\"off\")\n",
    "plt.show()"
   ]
  },
  {
   "cell_type": "markdown",
   "metadata": {},
   "source": [
    "## 16.3 실전 데이터(서울시 업무추진비) 분석"
   ]
  },
  {
   "cell_type": "markdown",
   "metadata": {},
   "source": [
    "### 데이터 분석의 주제 선정"
   ]
  },
  {
   "cell_type": "markdown",
   "metadata": {},
   "source": [
    "### 데이터 수집"
   ]
  },
  {
   "cell_type": "markdown",
   "metadata": {},
   "source": [
    "**[16장: 557~558페이지]**"
   ]
  },
  {
   "cell_type": "code",
   "execution_count": null,
   "metadata": {},
   "outputs": [],
   "source": [
    "import requests\n",
    "import os\n",
    "import pathlib\n",
    "\n",
    "#인자: 확장자, 연도, 내려받을 폴더\n",
    "def get_seoul_expense_list(extension, year, data_folder): \n",
    "\n",
    "    # 깃허브의 데이터 위치 지정\n",
    "    # ex) 'https://github.com/seoul-opengov/opengov/raw/master/expense_list2016/'\n",
    "    expense_list_year_url = 'https://github.com/seoul-opengov/opengov/raw/master/expense_list' + str(year) + '/'\n",
    "\n",
    "    # 데이터를 내려받을 폴더 지정\n",
    "    # ex) 'C:/myPyCode/data/seoul_expense/2016/'\n",
    "    expense_list_year_dir = data_folder + str(year) + '/'\n",
    "    \n",
    "    # 내려받을 폴더가 없다면 폴더 생성\n",
    "    if(os.path.isdir(expense_list_year_dir)):\n",
    "        print(\"데이터 폴더({0})가 이미 있습니다. {0}년 데이터의 다운로드를 시작합니다.\".format(year))\n",
    "    else:\n",
    "        print(\"데이터 폴더({0})가 없어서 생성했습니다. {0}년 데이터의 다운로드를 시작합니다.\".format(year))\n",
    "        # 폴더 생성\n",
    "        pathlib.Path(expense_list_year_dir).mkdir(parents=True, exist_ok=True) \n",
    "        \n",
    "    # 지정한 폴더로 1월 ~ 12월 업무추진비 파일을 다운로드\n",
    "    for k in range(12):\n",
    "        file_name = '{0}{1:02d}_expense_list.{2}'.format(year, k+1, extension)    \n",
    "        url = expense_list_year_url + file_name\n",
    "        print(url)\n",
    "        r = requests.get(url)\n",
    "        with open(expense_list_year_dir + file_name, 'wb') as f:\n",
    "            f.write(r.content)"
   ]
  },
  {
   "cell_type": "markdown",
   "metadata": {},
   "source": [
    "**[16장: 558~559페이지]**"
   ]
  },
  {
   "cell_type": "code",
   "execution_count": null,
   "metadata": {},
   "outputs": [],
   "source": [
    "# 내려받을 업무추진비 데이터의 파일 형식을 지정\n",
    "extension = \"csv\" \n",
    "\n",
    "# 내려받을 업무추진비 데이터의 연도를 지정\n",
    "year = 2016 \n",
    "\n",
    "# 내려받을 업무추진비 데이터의 폴더를 지정\n",
    "data_folder = 'C:/myPyCode/data/seoul_expense/' \n",
    "\n",
    "# 함수를 실행\n",
    "get_seoul_expense_list(extension, year, data_folder)"
   ]
  },
  {
   "cell_type": "markdown",
   "metadata": {},
   "source": [
    "**[16장: 559~560페이지]**"
   ]
  },
  {
   "cell_type": "code",
   "execution_count": null,
   "metadata": {},
   "outputs": [],
   "source": [
    "import glob\n",
    "\n",
    "path_name = 'C:/myPyCode/data/seoul_expense/2016/' # 폴더 이름\n",
    "\n",
    "# 지정 폴더에서 파일명에 list.csv가 포함된 파일만 지정\n",
    "file_name_for_glob = path_name + \"*list.csv\" \n",
    "\n",
    "csv_files = []\n",
    "for csv_file in glob.glob(file_name_for_glob): \n",
    "    # 반환값에서 폴더는 제거하고 파일 이름만 추출\n",
    "    csv_files.append(csv_file.split(\"\\\\\")[-1]) \n",
    "\n",
    "print(\"[폴더 이름]\", path_name) # 폴더명 출력\n",
    "print(\"* CSV 파일:\", csv_files)"
   ]
  },
  {
   "cell_type": "markdown",
   "metadata": {},
   "source": [
    "**[16장: 560페이지]**"
   ]
  },
  {
   "cell_type": "code",
   "execution_count": null,
   "metadata": {},
   "outputs": [],
   "source": [
    "data_folder = 'C:/myPyCode/data/seoul_expense/'\n",
    "\n",
    "years = [2016, 2017, 2018] # 다운로드받을 연도를 지정\n",
    "\n",
    "extension = \"csv\"\n",
    "# extension = \"xlsx\"\n",
    "# extension = \"xml\"\n",
    "\n",
    "for year in years:\n",
    "    get_seoul_expense_list(extension, year, data_folder)\n",
    "\n",
    "print(\"모든 데이터를 다운로드 받았습니다.\")"
   ]
  },
  {
   "cell_type": "markdown",
   "metadata": {},
   "source": [
    "**[16장: 561페이지]**"
   ]
  },
  {
   "cell_type": "code",
   "execution_count": null,
   "metadata": {},
   "outputs": [],
   "source": [
    "import glob\n",
    "\n",
    "data_folder = 'C:/myPyCode/data/seoul_expense/'\n",
    "\n",
    "years = [2016, 2017, 2018] # 다운로드받을 연도를 지정\n",
    "\n",
    "for year in years:\n",
    "    path_name = data_folder + str(year) + \"/\" # 연도별 폴더명을 지정\n",
    "    \n",
    "    # 지정 폴더에서 파일명에 list.csv가 포함된 파일만 지정\n",
    "    file_name_for_glob = path_name + \"*list.csv\"\n",
    "    \n",
    "    csv_files = []\n",
    "    for csv_file in glob.glob(file_name_for_glob): \n",
    "        # 반환값에서 폴더는 제거하고 파일명만 추출\n",
    "        csv_files.append(csv_file.split(\"\\\\\")[-1]) \n",
    "\n",
    "    print(\"[폴더 이름]\", path_name) # 폴더명 출력\n",
    "    print(\"* CSV 파일:\", csv_files)"
   ]
  },
  {
   "cell_type": "markdown",
   "metadata": {},
   "source": [
    "### 데이터 처리"
   ]
  },
  {
   "cell_type": "markdown",
   "metadata": {},
   "source": [
    "#### 수집된 데이터 파일의 구조 분석"
   ]
  },
  {
   "cell_type": "markdown",
   "metadata": {},
   "source": [
    "**[16장: 562페이지]**"
   ]
  },
  {
   "cell_type": "code",
   "execution_count": null,
   "metadata": {},
   "outputs": [],
   "source": [
    "data_file = 'C:/myPyCode/data/seoul_expense/2016/201601_expense_list.csv'\n",
    "\n",
    "with open(data_file, encoding='utf-8') as f:\n",
    "    line1 = f.readline()\n",
    "    line2 = f.readline()\n",
    "    line3 = f.readline()\n",
    "\n",
    "    print(line1)\n",
    "    print(line2)\n",
    "    print(line3)"
   ]
  },
  {
   "cell_type": "markdown",
   "metadata": {},
   "source": [
    "**[16장: 563페이지]**"
   ]
  },
  {
   "cell_type": "code",
   "execution_count": null,
   "metadata": {},
   "outputs": [],
   "source": [
    "line1_len = len(line1.split(','))\n",
    "line2_len = len(line2.split(','))\n",
    "line3_len = len(line3.split(','))\n",
    "\n",
    "print(\"[각 줄의 데이터값의 개수]\")\n",
    "print(\"첫째 줄:{}, 둘째 줄:{}, 셋째 줄:{}\".format(line1_len, line2_len, line3_len))"
   ]
  },
  {
   "cell_type": "markdown",
   "metadata": {},
   "source": [
    "**[16장: 563페이지]**"
   ]
  },
  {
   "cell_type": "code",
   "execution_count": null,
   "metadata": {},
   "outputs": [],
   "source": [
    "def get_value_count(line):\n",
    "    \n",
    "    line_rep_list = []\n",
    "    for k, x in enumerate(line.split('\"')):\n",
    "        if(k % 2 != 0):\n",
    "            x = x.replace(',', '')\n",
    "        line_rep_list.append(x)\n",
    "        \n",
    "    line_rep_str = ''.join(line_rep_list) \n",
    "           \n",
    "    return len(line_rep_str.split(','))"
   ]
  },
  {
   "cell_type": "markdown",
   "metadata": {},
   "source": [
    "**[16장: 564페이지]**"
   ]
  },
  {
   "cell_type": "code",
   "execution_count": null,
   "metadata": {},
   "outputs": [],
   "source": [
    "line1_len = get_value_count(line1)\n",
    "line2_len = get_value_count(line2)\n",
    "line3_len = get_value_count(line3)\n",
    "\n",
    "print(\"[각 줄의 데이터값의 개수]\")\n",
    "print(\"첫째 줄:{}, 둘째 줄:{}, 셋째 줄:{}\".format(line1_len, line2_len, line3_len))"
   ]
  },
  {
   "cell_type": "markdown",
   "metadata": {},
   "source": [
    "#### 첫 번째 줄의 열 이름과 개수 변경"
   ]
  },
  {
   "cell_type": "markdown",
   "metadata": {},
   "source": [
    "**[16장: 565페이지]**"
   ]
  },
  {
   "cell_type": "code",
   "execution_count": null,
   "metadata": {},
   "outputs": [],
   "source": [
    "def change_csv_file_first_line_value(old_file_name, new_file_name):\n",
    "    with open(old_file_name, encoding='utf-8') as f:  # 파일을 읽기 모드로 열기\n",
    "        # 전체 데이터를 읽어서 한 줄씩 lines 리스트의 각 요소에 할당\n",
    "        lines = f.read().splitlines()\n",
    "    \n",
    "    # 첫째 줄의 내용을 변경할 열 이름을 지정해서 변경\n",
    "    lines[0] = 'nid,제목,url,부서레벨1,부서레벨2,부서레벨3,부서레벨4,부서레벨5,\\\n",
    "집행연도,집행월,예산,집행,구분,부서명,집행일시,집행장소,집행목적,대상인원,결제방법,집행금액'\n",
    "    \n",
    "    with open(new_file_name, 'w', encoding='utf-8') as f:  # 파일을 쓰기 모드로 열기\n",
    "        # 리스트 내의 각 요소를 개행문자(\\n)로 연결해서 파일로 저장\n",
    "        f.write('\\n'.join(lines))"
   ]
  },
  {
   "cell_type": "markdown",
   "metadata": {},
   "source": [
    "**[16장: 565페이지]**"
   ]
  },
  {
   "cell_type": "code",
   "execution_count": null,
   "metadata": {},
   "outputs": [],
   "source": [
    "# 기존의 파일\n",
    "old_file_name = 'C:/myPyCode/data/seoul_expense/2016/201601_expense_list.csv'\n",
    "\n",
    "# 새로운 파일\n",
    "new_file_name = 'C:/myPyCode/data/seoul_expense/2016/201601_expense_list_new.csv' \n",
    "\n",
    "# 첫째 줄의 내용을 변경한 새로운 파일 생성\n",
    "change_csv_file_first_line_value(old_file_name, new_file_name)"
   ]
  },
  {
   "cell_type": "markdown",
   "metadata": {},
   "source": [
    "**[16장: 565페이지]**"
   ]
  },
  {
   "cell_type": "code",
   "execution_count": null,
   "metadata": {},
   "outputs": [],
   "source": [
    "with open(new_file_name, encoding='utf-8') as f:  # 파일을 읽기 모드로 열기\n",
    "    for k in range(3):\n",
    "        print(f.readline())"
   ]
  },
  {
   "cell_type": "markdown",
   "metadata": {},
   "source": [
    "**[16장: 566페이지]**"
   ]
  },
  {
   "cell_type": "code",
   "execution_count": null,
   "metadata": {},
   "outputs": [],
   "source": [
    "# 인자: 연도, 데이터 파일이 있는 폴더\n",
    "def change_year_csv_file_first_line_value(year, data_folder): \n",
    "\n",
    "    # 데이터 파일이 있는 폴더 지정\n",
    "    # ex) 'C:/myPyCode/data/seoul_expense/2016/'\n",
    "    expense_list_year_dir = data_folder + str(year) + '/'\n",
    "    \n",
    "    extension = 'csv' # 확장자 이름\n",
    "    \n",
    "    # 지정한 폴더에 있는 월별 업무추진비 파일에서 첫 번째 줄의 열 이름을 변경 \n",
    "    for k in range(12):\n",
    "        # 기존의 파일 이름 지정\n",
    "        old_file_name = expense_list_year_dir + '{0}{1:02d}_expense_list.{2}'.format(year, k+1, extension) \n",
    "        \n",
    "        # 새로운 파일 이름 지정\n",
    "        new_file_name = expense_list_year_dir + '{0}{1:02d}_expense_list_new.{2}'.format(year, k+1, extension) \n",
    "  \n",
    "        # 첫째 줄의 내용을 변경한 새로운 파일 생성\n",
    "        change_csv_file_first_line_value(old_file_name, new_file_name)"
   ]
  },
  {
   "cell_type": "markdown",
   "metadata": {},
   "source": [
    "**[16장: 566 ~ 567페이지]**"
   ]
  },
  {
   "cell_type": "code",
   "execution_count": null,
   "metadata": {},
   "outputs": [],
   "source": [
    "data_folder = 'C:/myPyCode/data/seoul_expense/'\n",
    "\n",
    "years = [2016, 2017, 2018] # 연도를 지정\n",
    "\n",
    "for year in years:\n",
    "    print(\"{}년 데이터의 첫 번째 줄의 열 이름을 변경해서 새 파일에 저장합니다.\".format(year))\n",
    "    change_year_csv_file_first_line_value(year, data_folder)\n",
    "\n",
    "print(\"모든 데이터의 첫 번째 줄의 열 이름을 변경해서 새 파일로 저장했습니다.\")"
   ]
  },
  {
   "cell_type": "markdown",
   "metadata": {},
   "source": [
    "**[16장: 567페이지]**"
   ]
  },
  {
   "cell_type": "code",
   "execution_count": null,
   "metadata": {},
   "outputs": [],
   "source": [
    "import glob\n",
    "\n",
    "data_folder = 'C:/myPyCode/data/seoul_expense/'\n",
    "\n",
    "years = [2016, 2017, 2018] # 연도를 지정\n",
    "\n",
    "for year in years:\n",
    "    path_name = data_folder + str(year) # 폴더명을 지정\n",
    "    print(\"[폴더 이름]\", path_name) # 폴더명 출력\n",
    "\n",
    "    new_csv_files = []\n",
    "    \n",
    "    # 지정 폴더에서 파일명에 _new.csv가 포함된 파일만 지정\n",
    "    file_name_for_glob = path_name + \"/*_new.csv\" \n",
    "    \n",
    "    for new_csv_file in glob.glob(file_name_for_glob): \n",
    "        # 반환값에서 폴더는 제거하고 파일 이름만 추출\n",
    "        new_csv_files.append(new_csv_file.split(\"\\\\\")[-1]) \n",
    "    \n",
    "    print(\"* 새롭게 생성된 CSV 파일:\", new_csv_files)"
   ]
  },
  {
   "cell_type": "markdown",
   "metadata": {},
   "source": [
    "#### 데이터의 구조 및 결측치 살펴보기"
   ]
  },
  {
   "cell_type": "markdown",
   "metadata": {},
   "source": [
    "**[16장: 568페이지]**"
   ]
  },
  {
   "cell_type": "code",
   "execution_count": null,
   "metadata": {},
   "outputs": [],
   "source": [
    "import pandas as pd\n",
    "\n",
    "expense_list2016_dir = 'C:/myPyCode/data/seoul_expense/2016/'\n",
    "file_name = \"201601_expense_list_new.csv\"\n",
    "\n",
    "df = pd.read_csv(expense_list2016_dir + file_name)"
   ]
  },
  {
   "cell_type": "markdown",
   "metadata": {},
   "source": [
    "**[16장: 568페이지]**"
   ]
  },
  {
   "cell_type": "code",
   "execution_count": null,
   "metadata": {},
   "outputs": [],
   "source": [
    "df.head(2)"
   ]
  },
  {
   "cell_type": "markdown",
   "metadata": {},
   "source": [
    "**[16장: 569페이지]**"
   ]
  },
  {
   "cell_type": "code",
   "execution_count": null,
   "metadata": {},
   "outputs": [],
   "source": [
    "import pandas as pd\n",
    "\n",
    "year = 2016\n",
    "expense_list_year_dir = 'C:/myPyCode/data/seoul_expense/' + str(year) + '/'\n",
    "\n",
    "df_year = pd.DataFrame()\n",
    "for k in range(12):\n",
    "    \n",
    "    # 파일 이름 지정\n",
    "    file_name = \"{0}{1:02d}_expense_list_new.csv\".format(year, k+1)\n",
    "    \n",
    "    # pandas DataFrame 형식으로 csv 데이터 불러오기\n",
    "    df_month = pd.read_csv(expense_list_year_dir + file_name)\n",
    "    \n",
    "    # df_year에 df_month를 세로 방향으로 추가해서 다시 df_year에 할당\n",
    "    # 통합된 dataFrame의 순서대로 index를 할당하기 위해서 `ignore_index = True` 옵션 지정\n",
    "    df_year = df_year.append(df_month, ignore_index = True)"
   ]
  },
  {
   "cell_type": "markdown",
   "metadata": {},
   "source": [
    "**[16장: 569페이지]**"
   ]
  },
  {
   "cell_type": "code",
   "execution_count": null,
   "metadata": {},
   "outputs": [],
   "source": [
    "df_year.head(2)"
   ]
  },
  {
   "cell_type": "markdown",
   "metadata": {},
   "source": [
    "**[16장: 569페이지]**"
   ]
  },
  {
   "cell_type": "code",
   "execution_count": null,
   "metadata": {},
   "outputs": [],
   "source": [
    "df_year.tail(2)"
   ]
  },
  {
   "cell_type": "markdown",
   "metadata": {},
   "source": [
    "**[16장: 570페이지]**"
   ]
  },
  {
   "cell_type": "code",
   "execution_count": null,
   "metadata": {},
   "outputs": [],
   "source": [
    "df_year.info()"
   ]
  },
  {
   "cell_type": "markdown",
   "metadata": {},
   "source": [
    "**[16장: 571페이지]**"
   ]
  },
  {
   "cell_type": "code",
   "execution_count": null,
   "metadata": {},
   "outputs": [],
   "source": [
    "df_year.isna().sum()"
   ]
  },
  {
   "cell_type": "markdown",
   "metadata": {},
   "source": [
    "**[16장: 572페이지]**"
   ]
  },
  {
   "cell_type": "code",
   "execution_count": null,
   "metadata": {},
   "outputs": [],
   "source": [
    "df_year_drop = df_year.drop(columns=['nid', 'url', '부서레벨3', '부서레벨4', '부서레벨5', \n",
    "                                     '예산', '집행', '구분'])\n",
    "df_year_drop.head(2)"
   ]
  },
  {
   "cell_type": "markdown",
   "metadata": {},
   "source": [
    "**[16장: 572페이지]**"
   ]
  },
  {
   "cell_type": "code",
   "execution_count": null,
   "metadata": {},
   "outputs": [],
   "source": [
    "year = 2016\n",
    "expense_list_year_dir = 'C:/myPyCode/data/seoul_expense/' + str(year) + '/'\n",
    "\n",
    "expense_list_tidy_file = \"{}_expense_list_tidy.csv\".format(year)\n",
    "df_year_drop.to_csv(expense_list_year_dir + expense_list_tidy_file, index = False)"
   ]
  },
  {
   "cell_type": "markdown",
   "metadata": {},
   "source": [
    "**[16장: 572페이지]**"
   ]
  },
  {
   "cell_type": "code",
   "execution_count": null,
   "metadata": {},
   "outputs": [],
   "source": [
    "import os\n",
    "\n",
    "file_name = expense_list_year_dir + expense_list_tidy_file\n",
    "print(file_name)\n",
    "os.path.isfile(file_name)"
   ]
  },
  {
   "cell_type": "markdown",
   "metadata": {},
   "source": [
    "**[16장: 573페이지]**"
   ]
  },
  {
   "cell_type": "code",
   "execution_count": null,
   "metadata": {},
   "outputs": [],
   "source": [
    "import pandas as pd\n",
    "\n",
    "def select_columns_save_file(year, data_folder, drop_columns_list):\n",
    "    \n",
    "    expense_list_year_dir = data_folder + str(year) + '/'\n",
    "    expense_list_tidy_file = \"{}_expense_list_tidy.csv\".format(year)\n",
    "    df_year = pd.DataFrame()\n",
    "    \n",
    "    for k in range(12):\n",
    "        # 파일 이름 지정\n",
    "        file_name = \"{0}{1:02d}_expense_list_new.csv\".format(year, k+1)\n",
    "        \n",
    "        # aDtaFrame 형식으로 csv 데이터 불러오기\n",
    "        df_month = pd.read_csv(expense_list_year_dir + file_name)\n",
    "        \n",
    "        # fd_year에 df_month를 새로 추가해서 다시 df_year에 할당\n",
    "        # 통합된 adtaFrame의 순서대로 index를 할당하기 위해서 `ignore_index = True` 옵션 지정\n",
    "        df_year = df_year.append(df_month, ignore_index = True)\n",
    "        \n",
    "    df_year_drop = df_year.drop(columns = drop_columns_list)\n",
    "    new_file_name = expense_list_year_dir + expense_list_tidy_file\n",
    "    df_year_drop.to_csv(new_file_name, index = False)\n",
    "    \n",
    "    print(\"==> {} 파일을 생성했습니다.\".format(expense_list_tidy_file))"
   ]
  },
  {
   "cell_type": "markdown",
   "metadata": {},
   "source": [
    "**[16장: 573페이지]**"
   ]
  },
  {
   "cell_type": "code",
   "execution_count": null,
   "metadata": {},
   "outputs": [],
   "source": [
    "data_folder = 'C:/myPyCode/data/seoul_expense/'\n",
    "years = [2016, 2017, 2018]\n",
    "drop_columns_list = ['nid', 'url','부서레벨3', '부서레벨4', '부서레벨5', '예산', '집행', '구분']\n",
    "\n",
    "for year in years:\n",
    "    print(\"{}년 데이터를 정리해서 저장하고 있습니다.\".format(year))\n",
    "    select_columns_save_file(year, data_folder, drop_columns_list)\n",
    "print(\"모든 연도의 데이터를 정리해서 파일로 저장했습니다.\")"
   ]
  },
  {
   "cell_type": "markdown",
   "metadata": {},
   "source": [
    "**[16장: 574페이지]**"
   ]
  },
  {
   "cell_type": "code",
   "execution_count": null,
   "metadata": {},
   "outputs": [],
   "source": [
    "import os\n",
    "\n",
    "years = [2016, 2017, 2018]\n",
    "\n",
    "for year in years:\n",
    "    \n",
    "    expense_list_year_dir = data_folder + str(year) + '/'\n",
    "    expense_list_tidy_file = \"{}_expense_list_tidy.csv\".format(year)\n",
    "\n",
    "    file_name = expense_list_year_dir + expense_list_tidy_file\n",
    "    print(file_name, \"==> \", end=\"\")\n",
    "    print(os.path.isfile(file_name))"
   ]
  },
  {
   "cell_type": "markdown",
   "metadata": {},
   "source": [
    "**[16장: 574 ~ 575페이지]**"
   ]
  },
  {
   "cell_type": "code",
   "execution_count": null,
   "metadata": {},
   "outputs": [],
   "source": [
    "import os\n",
    "from datetime import datetime\n",
    "\n",
    "def get_file_info(year, data_folder):\n",
    "    expense_list_year_dir = data_folder + str(year) + '/'\n",
    "    expense_list_tidy_file = \"{}_expense_list_tidy.csv\".format(year)\n",
    "    \n",
    "    path_file_name = expense_list_year_dir + expense_list_tidy_file\n",
    "    print(path_file_name)\n",
    "    result = os.path.isfile(path_file_name)\n",
    "\n",
    "    # 파일 수정 시간\n",
    "    modified_time = datetime.fromtimestamp(os.path.getmtime(path_file_name))\n",
    "    \n",
    "    # 파일 생성 시간\n",
    "    created_time = datetime.fromtimestamp(os.path.getctime(path_file_name)) \n",
    "    \n",
    "     # 파일 크기\n",
    "    file_size = os.path.getsize(path_file_name)\n",
    "\n",
    "    if(result == True):\n",
    "        print(\"[생성한 CSV 데이터 파일의 정보]\")\n",
    "        print('* 폴더 위치 :', expense_list_year_dir)\n",
    "        print('* 파일 이름 :', expense_list_tidy_file)\n",
    "        print('* 수정 시간 :', modified_time.strftime('%Y-%m-%d %H:%M:%S'))\n",
    "        print('* 생성 시간 :', created_time.strftime('%Y-%m-%d %H:%M:%S'))\n",
    "        print('* 파일 크기 : {0:,} 바이트'.format(file_size))"
   ]
  },
  {
   "cell_type": "markdown",
   "metadata": {},
   "source": [
    "**[16장: 575페이지]**"
   ]
  },
  {
   "cell_type": "code",
   "execution_count": null,
   "metadata": {},
   "outputs": [],
   "source": [
    "data_folder = 'C:/myPyCode/data/seoul_expense/'\n",
    "years = [2016, 2017, 2018]\n",
    "\n",
    "for year in years:\n",
    "    \n",
    "    get_file_info(year, data_folder)\n",
    "    print(\"\")"
   ]
  },
  {
   "cell_type": "markdown",
   "metadata": {
    "toc-hr-collapsed": false
   },
   "source": [
    "### 데이터 분석"
   ]
  },
  {
   "cell_type": "markdown",
   "metadata": {},
   "source": [
    "**[16장: 576 ~ 577페이지]**"
   ]
  },
  {
   "cell_type": "code",
   "execution_count": null,
   "metadata": {},
   "outputs": [],
   "source": [
    "import pandas as pd\n",
    "\n",
    "data_folder = 'C:/myPyCode/data/seoul_expense/'\n",
    "years = [2016, 2017, 2018]\n",
    "\n",
    "df_expense_all = pd.DataFrame()\n",
    "\n",
    "for year in years:\n",
    "    expense_list_year_dir = data_folder + str(year) + '/'\n",
    "    expense_list_tidy_file = \"{}_expense_list_tidy.csv\".format(year)\n",
    "    \n",
    "    path_file_name = expense_list_year_dir + expense_list_tidy_file\n",
    "    \n",
    "    df_expense = pd.read_csv(path_file_name)\n",
    "    df_expense_all = df_expense_all.append(df_expense, ignore_index = True) "
   ]
  },
  {
   "cell_type": "markdown",
   "metadata": {},
   "source": [
    "**[16장: 577페이지]**"
   ]
  },
  {
   "cell_type": "code",
   "execution_count": null,
   "metadata": {},
   "outputs": [],
   "source": [
    "df_expense_all.info()"
   ]
  },
  {
   "cell_type": "markdown",
   "metadata": {},
   "source": [
    "**[16장: 578페이지]**"
   ]
  },
  {
   "cell_type": "code",
   "execution_count": null,
   "metadata": {},
   "outputs": [],
   "source": [
    "df_expense_all.head(2)"
   ]
  },
  {
   "cell_type": "markdown",
   "metadata": {},
   "source": [
    "**[16장: 578페이지]**"
   ]
  },
  {
   "cell_type": "code",
   "execution_count": null,
   "metadata": {},
   "outputs": [],
   "source": [
    "df_expense_all.tail(2)"
   ]
  },
  {
   "cell_type": "markdown",
   "metadata": {},
   "source": [
    "#### 연도별 추이 분석"
   ]
  },
  {
   "cell_type": "markdown",
   "metadata": {},
   "source": [
    "**[16장: 578페이지]**"
   ]
  },
  {
   "cell_type": "code",
   "execution_count": null,
   "metadata": {},
   "outputs": [],
   "source": [
    "year_expense = df_expense_all['집행연도'].value_counts()\n",
    "year_expense"
   ]
  },
  {
   "cell_type": "markdown",
   "metadata": {},
   "source": [
    "**[16장: 579페이지]**"
   ]
  },
  {
   "cell_type": "code",
   "execution_count": null,
   "metadata": {},
   "outputs": [],
   "source": [
    "import pandas as pd\n",
    "import matplotlib.pyplot as plt\n",
    "import matplotlib\n",
    "\n",
    "matplotlib.rcParams['font.family'] = 'Malgun Gothic'\n",
    "matplotlib.rcParams['axes.unicode_minus'] = False\n",
    "\n",
    "plt.bar(year_expense.index, year_expense.values, tick_label =year_expense.index, width = 0.5)\n",
    "plt.title(\"연도별 업무추진비 집행 횟수\")\n",
    "plt.xlabel(\"연도\")\n",
    "plt.ylabel(\"집행 횟수\")\n",
    "plt.show()"
   ]
  },
  {
   "cell_type": "markdown",
   "metadata": {},
   "source": [
    "**[16장: 579페이지]**"
   ]
  },
  {
   "cell_type": "code",
   "execution_count": null,
   "metadata": {},
   "outputs": [],
   "source": [
    "import pandas as pd\n",
    "\n",
    "year_total = pd.pivot_table(df_expense_all, index = ['집행연도'], values=['집행금액'], aggfunc = sum)\n",
    "year_total"
   ]
  },
  {
   "cell_type": "markdown",
   "metadata": {},
   "source": [
    "**[16장: 580페이지]**"
   ]
  },
  {
   "cell_type": "code",
   "execution_count": null,
   "metadata": {},
   "outputs": [],
   "source": [
    "import pandas as pd\n",
    "import matplotlib.pyplot as plt\n",
    "import matplotlib\n",
    "\n",
    "matplotlib.rcParams['font.family'] = 'Malgun Gothic'\n",
    "matplotlib.rcParams['axes.unicode_minus'] = False\n",
    "\n",
    "eok_won = 100000000 # 억원\n",
    "(year_total/eok_won).plot.bar(rot=0) # 'rot = 각도'로 xtick 회전 각도를 지정\n",
    "plt.ylabel('집행금액(억원)')\n",
    "plt.show()"
   ]
  },
  {
   "cell_type": "markdown",
   "metadata": {},
   "source": [
    "#### 월별 집행금액 분석"
   ]
  },
  {
   "cell_type": "markdown",
   "metadata": {},
   "source": [
    "**[16장: 581페이지]** "
   ]
  },
  {
   "cell_type": "code",
   "execution_count": null,
   "metadata": {},
   "outputs": [],
   "source": [
    "month_total = pd.pivot_table(df_expense_all, index = ['집행월'], values=['집행금액'], \n",
    "                             aggfunc = sum)\n",
    "month_total"
   ]
  },
  {
   "cell_type": "markdown",
   "metadata": {},
   "source": [
    "**[16장: 581페이지]** "
   ]
  },
  {
   "cell_type": "code",
   "execution_count": null,
   "metadata": {},
   "outputs": [],
   "source": [
    "year_month_total = pd.pivot_table(df_expense_all, index = ['집행월'], columns=['집행연도'], \n",
    "                                  values=['집행금액'], aggfunc = sum)\n",
    "year_month_total"
   ]
  },
  {
   "cell_type": "markdown",
   "metadata": {},
   "source": [
    "**[16장: 582페이지]** "
   ]
  },
  {
   "cell_type": "code",
   "execution_count": null,
   "metadata": {},
   "outputs": [],
   "source": [
    "eok_won = 100000000 # 억원\n",
    "\n",
    "(year_month_total/eok_won).plot.bar(rot=0)\n",
    "plt.ylabel('집행금액(억원)')\n",
    "plt.title(\"업무추진비의 월별 집행금액\")\n",
    "plt.legend(['2016년', '2017년', '2018년'])\n",
    "plt.show()"
   ]
  },
  {
   "cell_type": "markdown",
   "metadata": {},
   "source": [
    "#### 부서별 집행 내역 분석"
   ]
  },
  {
   "cell_type": "markdown",
   "metadata": {},
   "source": [
    "**[16장: 583페이지]** "
   ]
  },
  {
   "cell_type": "code",
   "execution_count": null,
   "metadata": {},
   "outputs": [],
   "source": [
    "dept_level1_total = pd.pivot_table(df_expense_all, index = ['부서레벨1'], values=['집행금액'], \n",
    "                                   aggfunc = sum)\n",
    "dept_level1_total"
   ]
  },
  {
   "cell_type": "markdown",
   "metadata": {},
   "source": [
    "**[16장: 584페이지]** "
   ]
  },
  {
   "cell_type": "code",
   "execution_count": null,
   "metadata": {},
   "outputs": [],
   "source": [
    "dept_level_2_total = pd.pivot_table(df_expense_all, index = ['부서레벨2'], values=['집행금액'], \n",
    "                                    aggfunc = sum)\n",
    "dept_level_2_total.head()"
   ]
  },
  {
   "cell_type": "markdown",
   "metadata": {},
   "source": [
    "**[16장: 584페이지]** "
   ]
  },
  {
   "cell_type": "code",
   "execution_count": null,
   "metadata": {},
   "outputs": [],
   "source": [
    "dept_level_2_total_top10 = dept_level_2_total.sort_values(by=['집행금액'], ascending = False)[0:10]\n",
    "dept_level_2_total_top10"
   ]
  },
  {
   "cell_type": "markdown",
   "metadata": {},
   "source": [
    "**[16장: 585페이지]** "
   ]
  },
  {
   "cell_type": "code",
   "execution_count": null,
   "metadata": {},
   "outputs": [],
   "source": [
    "eok_won = 100000000 # 억원\n",
    "\n",
    "(dept_level_2_total_top10/eok_won).plot.bar(rot=80)\n",
    "plt.ylabel('집행금액(억원)')\n",
    "plt.title(\"업무추진비 집행금액이 높은 상위 10개 부서\")\n",
    "plt.show()"
   ]
  },
  {
   "cell_type": "markdown",
   "metadata": {},
   "source": [
    "**[16장: 585 ~ 586페이지]** "
   ]
  },
  {
   "cell_type": "code",
   "execution_count": null,
   "metadata": {},
   "outputs": [],
   "source": [
    "import matplotlib.pyplot as plt\n",
    "from wordcloud import WordCloud\n",
    "\n",
    "korean_font_path = 'C:/Windows/Fonts/malgun.ttf' # 한글 폰트(맑은 고딕) 파일명\n",
    "\n",
    "# 워드 클라우드 이미지 생성\n",
    "wc = WordCloud(font_path=korean_font_path, background_color='white',\n",
    "              width=800, height=600)\n",
    "\n",
    "frequencies = dept_level_2_total['집행금액'] # pandas의 Series 형식이 됨\n",
    "wordcloud_image = wc.generate_from_frequencies(frequencies)\n",
    "\n",
    "plt.figure(figsize=(12,9))\n",
    "plt.axis('off')\n",
    "plt.imshow(wordcloud_image, interpolation = 'bilinear')\n",
    "plt.show()"
   ]
  },
  {
   "cell_type": "markdown",
   "metadata": {},
   "source": [
    "#### 요일별 및 시간대별 집행 내역 분석"
   ]
  },
  {
   "cell_type": "markdown",
   "metadata": {},
   "source": [
    "**[16장: 586페이지]** "
   ]
  },
  {
   "cell_type": "code",
   "execution_count": null,
   "metadata": {},
   "outputs": [],
   "source": [
    "df_expense_all['집행일시'].values"
   ]
  },
  {
   "cell_type": "markdown",
   "metadata": {},
   "source": [
    "**[16장: 587페이지]** "
   ]
  },
  {
   "cell_type": "code",
   "execution_count": null,
   "metadata": {},
   "outputs": [],
   "source": [
    "expense_date_time = pd.to_datetime(df_expense_all['집행일시'])\n",
    "expense_date_time.values"
   ]
  },
  {
   "cell_type": "markdown",
   "metadata": {},
   "source": [
    "**[16장: 587페이지]**  "
   ]
  },
  {
   "cell_type": "code",
   "execution_count": null,
   "metadata": {},
   "outputs": [],
   "source": [
    "week_day_name = [\"월\", \"화\", \"수\", \"목\", \"금\", \"토\", \"일\"]\n",
    "\n",
    "df_expense_all['집행일시_요일'] = [week_day_name[weekday] for weekday in expense_date_time.dt.weekday]"
   ]
  },
  {
   "cell_type": "markdown",
   "metadata": {},
   "source": [
    "**[16장: 587페이지]**  "
   ]
  },
  {
   "cell_type": "code",
   "execution_count": null,
   "metadata": {},
   "outputs": [],
   "source": [
    "df_expense_all['집행일시_시간'] = [hour for hour in expense_date_time.dt.hour]"
   ]
  },
  {
   "cell_type": "markdown",
   "metadata": {},
   "source": [
    "**[16장: 587페이지]**  "
   ]
  },
  {
   "cell_type": "code",
   "execution_count": null,
   "metadata": {},
   "outputs": [],
   "source": [
    "df_expense_all.head(3)"
   ]
  },
  {
   "cell_type": "markdown",
   "metadata": {},
   "source": [
    "**[16장: 588페이지]**  "
   ]
  },
  {
   "cell_type": "code",
   "execution_count": null,
   "metadata": {},
   "outputs": [],
   "source": [
    "expense_weekday = df_expense_all['집행일시_요일'].value_counts()\n",
    "expense_weekday"
   ]
  },
  {
   "cell_type": "markdown",
   "metadata": {},
   "source": [
    "**[16장: 588페이지]**  "
   ]
  },
  {
   "cell_type": "code",
   "execution_count": null,
   "metadata": {},
   "outputs": [],
   "source": [
    "expense_weekday = expense_weekday.reindex(index = week_day_name)\n",
    "expense_weekday"
   ]
  },
  {
   "cell_type": "markdown",
   "metadata": {},
   "source": [
    "**[16장: 589페이지]**  "
   ]
  },
  {
   "cell_type": "code",
   "execution_count": null,
   "metadata": {},
   "outputs": [],
   "source": [
    "expense_weekday.plot.bar(rot=0)\n",
    "plt.title(\"요일별 업무추진비 집행 횟수\")\n",
    "plt.xlabel(\"요일\")\n",
    "plt.ylabel(\"집행 횟수\")\n",
    "plt.show()"
   ]
  },
  {
   "cell_type": "markdown",
   "metadata": {},
   "source": [
    "**[16장: 589페이지]**  "
   ]
  },
  {
   "cell_type": "code",
   "execution_count": null,
   "metadata": {},
   "outputs": [],
   "source": [
    "expense_hour_num = df_expense_all['집행일시_시간'].value_counts()\n",
    "expense_hour_num"
   ]
  },
  {
   "cell_type": "markdown",
   "metadata": {},
   "source": [
    "**[16장: 590페이지]**  "
   ]
  },
  {
   "cell_type": "code",
   "execution_count": null,
   "metadata": {},
   "outputs": [],
   "source": [
    "work_hour = [ (k+8)%24 for k in range(24)]\n",
    "expense_hour_num = expense_hour_num.reindex(index = work_hour)\n",
    "expense_hour_num"
   ]
  },
  {
   "cell_type": "markdown",
   "metadata": {},
   "source": [
    "**[16장: 591페이지]** "
   ]
  },
  {
   "cell_type": "code",
   "execution_count": null,
   "metadata": {},
   "outputs": [],
   "source": [
    "expense_hour_num.plot.bar(rot = 0)\n",
    "plt.title(\"시간별 업무추진비 집행 횟수\")\n",
    "plt.xlabel(\"집행 시간\")\n",
    "plt.ylabel(\"집행 횟수\")\n",
    "plt.show()"
   ]
  },
  {
   "cell_type": "markdown",
   "metadata": {},
   "source": [
    "**[16장: 592페이지]** "
   ]
  },
  {
   "cell_type": "code",
   "execution_count": null,
   "metadata": {},
   "outputs": [],
   "source": [
    "expense_hour_total = pd.pivot_table(df_expense_all, index = ['집행일시_시간'],\n",
    "                                    values=['집행금액'], aggfunc = sum)\n",
    "expense_hour_total.head()"
   ]
  },
  {
   "cell_type": "markdown",
   "metadata": {},
   "source": [
    "**[16장: 592페이지]** "
   ]
  },
  {
   "cell_type": "code",
   "execution_count": null,
   "metadata": {},
   "outputs": [],
   "source": [
    "eok_won = 100000000 # 억원\n",
    "expense_hour_total = expense_hour_total.reindex(index = work_hour)\n",
    "\n",
    "(expense_hour_total/eok_won).plot.bar(rot=0)\n",
    "plt.ylabel('집행금액(억원)')\n",
    "plt.title(\"시간별대 업무추진비 집행금액\")\n",
    "plt.show()"
   ]
  },
  {
   "cell_type": "markdown",
   "metadata": {},
   "source": [
    "## 16.4 정리"
   ]
  }
 ],
 "metadata": {
  "kernelspec": {
   "display_name": "Python 3",
   "language": "python",
   "name": "python3"
  },
  "language_info": {
   "codemirror_mode": {
    "name": "ipython",
    "version": 3
   },
   "file_extension": ".py",
   "mimetype": "text/x-python",
   "name": "python",
   "nbconvert_exporter": "python",
   "pygments_lexer": "ipython3",
   "version": "3.7.1"
  },
  "toc": {
   "nav_menu": {},
   "number_sections": true,
   "sideBar": true,
   "skip_h1_title": false,
   "toc_cell": true,
   "toc_position": {
    "height": "581.867px",
    "left": "0px",
    "right": "1035px",
    "top": "111.133px",
    "width": "331px"
   },
   "toc_section_display": "block",
   "toc_window_display": true
  },
  "toc-autonumbering": false,
  "toc-showcode": false,
  "toc-showmarkdowntxt": false,
  "toc-showtags": false
 },
 "nbformat": 4,
 "nbformat_minor": 2
}
