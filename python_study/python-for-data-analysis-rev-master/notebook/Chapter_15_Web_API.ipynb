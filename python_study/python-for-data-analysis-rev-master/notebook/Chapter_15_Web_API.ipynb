{
 "cells": [
  {
   "cell_type": "markdown",
   "metadata": {},
   "source": [
    "# 15장 웹 API"
   ]
  },
  {
   "cell_type": "markdown",
   "metadata": {},
   "source": [
    "## 15.1 웹 API의 이해"
   ]
  },
  {
   "cell_type": "markdown",
   "metadata": {},
   "source": [
    "### 웹 API의 데이터 획득 과정"
   ]
  },
  {
   "cell_type": "markdown",
   "metadata": {},
   "source": [
    "### 웹 API의 인증 방식"
   ]
  },
  {
   "cell_type": "markdown",
   "metadata": {},
   "source": [
    "### 응답 데이터의 형식 및 처리"
   ]
  },
  {
   "cell_type": "markdown",
   "metadata": {},
   "source": [
    "#### JSON 형식의 데이터 처리"
   ]
  },
  {
   "cell_type": "markdown",
   "metadata": {},
   "source": [
    "**[15장: 458 ~ 459페이지]**"
   ]
  },
  {
   "cell_type": "code",
   "execution_count": null,
   "metadata": {},
   "outputs": [],
   "source": [
    "import json\n",
    "\n",
    "python_dict = {\n",
    "    \"이름\": \"홍길동\",\n",
    "    \"나이\": 25,\n",
    "    \"거주지\": \"서울\",\n",
    "    \"신체정보\": {\n",
    "        \"키\": 175.4,\n",
    "        \"몸무게\": 71.2\n",
    "    },\n",
    "    \"취미\": [\n",
    "        \"등산\",\n",
    "        \"자전거타기\",\n",
    "        \"독서\"\n",
    "    ]\n",
    "}\n",
    "type(python_dict)"
   ]
  },
  {
   "cell_type": "markdown",
   "metadata": {},
   "source": [
    "**[15장: 459페이지]**"
   ]
  },
  {
   "cell_type": "code",
   "execution_count": null,
   "metadata": {},
   "outputs": [],
   "source": [
    "json_data = json.dumps(python_dict)\n",
    "type(json_data)"
   ]
  },
  {
   "cell_type": "markdown",
   "metadata": {},
   "source": [
    "**[15장: 459페이지]**"
   ]
  },
  {
   "cell_type": "code",
   "execution_count": null,
   "metadata": {},
   "outputs": [],
   "source": [
    "print(json_data)"
   ]
  },
  {
   "cell_type": "markdown",
   "metadata": {},
   "source": [
    "**[15장: 459페이지]**"
   ]
  },
  {
   "cell_type": "code",
   "execution_count": null,
   "metadata": {
    "scrolled": true
   },
   "outputs": [],
   "source": [
    "json_data = json.dumps(python_dict, indent=3, sort_keys=True, ensure_ascii=False)\n",
    "print(json_data)"
   ]
  },
  {
   "cell_type": "markdown",
   "metadata": {},
   "source": [
    "**[15장: 460페이지]**"
   ]
  },
  {
   "cell_type": "code",
   "execution_count": null,
   "metadata": {},
   "outputs": [],
   "source": [
    "json_dict = json.loads(json_data)\n",
    "type(json_dict)"
   ]
  },
  {
   "cell_type": "markdown",
   "metadata": {},
   "source": [
    "**[15장: 460페이지]**"
   ]
  },
  {
   "cell_type": "code",
   "execution_count": null,
   "metadata": {},
   "outputs": [],
   "source": [
    "json_dict['신체정보']['몸무게']"
   ]
  },
  {
   "cell_type": "markdown",
   "metadata": {},
   "source": [
    "**[15장: 460페이지]**"
   ]
  },
  {
   "cell_type": "code",
   "execution_count": null,
   "metadata": {},
   "outputs": [],
   "source": [
    "json_dict['취미']"
   ]
  },
  {
   "cell_type": "markdown",
   "metadata": {},
   "source": [
    "**[15장: 461페이지]**"
   ]
  },
  {
   "cell_type": "code",
   "execution_count": null,
   "metadata": {},
   "outputs": [],
   "source": [
    "json_dict['취미'][0]"
   ]
  },
  {
   "cell_type": "markdown",
   "metadata": {},
   "source": [
    "#### XML 형식의 데이터 처리"
   ]
  },
  {
   "cell_type": "markdown",
   "metadata": {},
   "source": [
    "**[15장: 465페이지]**"
   ]
  },
  {
   "cell_type": "code",
   "execution_count": null,
   "metadata": {},
   "outputs": [],
   "source": [
    "xml_data = \"\"\"<?xml version=\"1.0\" encoding=\"UTF-8\" ?>\n",
    "<사용자정보>\n",
    "    <이름>홍길동</이름>\n",
    "    <나이>25</나이>\n",
    "    <거주지>서울</거주지>\n",
    "    <신체정보>\n",
    "        <키 unit=\"cm\">175.4</키>\n",
    "        <몸무게 unit=\"kg\">71.2</몸무게>\n",
    "    </신체정보>\n",
    "    <취미>등산</취미>\n",
    "    <취미>자전거타기</취미>\n",
    "    <취미>독서</취미>\n",
    "</사용자정보> \n",
    "\"\"\"\n",
    "print(xml_data)"
   ]
  },
  {
   "cell_type": "markdown",
   "metadata": {},
   "source": [
    "**[15장: 465페이지]**"
   ]
  },
  {
   "cell_type": "code",
   "execution_count": null,
   "metadata": {},
   "outputs": [],
   "source": [
    "import xmltodict\n",
    "\n",
    "dict_data = xmltodict.parse(xml_data, xml_attribs=True)\n",
    "dict_data"
   ]
  },
  {
   "cell_type": "markdown",
   "metadata": {},
   "source": [
    "**[15장: 466페이지]**"
   ]
  },
  {
   "cell_type": "code",
   "execution_count": null,
   "metadata": {},
   "outputs": [],
   "source": [
    "dict_data['사용자정보']['이름']"
   ]
  },
  {
   "cell_type": "markdown",
   "metadata": {},
   "source": [
    "**[15장: 466페이지]**"
   ]
  },
  {
   "cell_type": "code",
   "execution_count": null,
   "metadata": {
    "scrolled": true
   },
   "outputs": [],
   "source": [
    "dict_data['사용자정보']['신체정보']"
   ]
  },
  {
   "cell_type": "markdown",
   "metadata": {},
   "source": [
    "**[15장: 466 ~ 467페이지]**"
   ]
  },
  {
   "cell_type": "code",
   "execution_count": null,
   "metadata": {},
   "outputs": [],
   "source": [
    "dict_data['사용자정보']['신체정보']['키']['@unit']"
   ]
  },
  {
   "cell_type": "code",
   "execution_count": null,
   "metadata": {},
   "outputs": [],
   "source": [
    "dict_data['사용자정보']['신체정보']['키']['#text']"
   ]
  },
  {
   "cell_type": "markdown",
   "metadata": {},
   "source": [
    "**[15장: 467페이지]**"
   ]
  },
  {
   "cell_type": "code",
   "execution_count": null,
   "metadata": {},
   "outputs": [],
   "source": [
    "import xmltodict\n",
    "\n",
    "dict_data = xmltodict.parse(xml_data)\n",
    "\n",
    "user_name = dict_data['사용자정보']['이름']\n",
    "body_data = dict_data['사용자정보']['신체정보']\n",
    "\n",
    "height = body_data['키']['#text']\n",
    "height_unit = body_data['키']['@unit']\n",
    "\n",
    "weight = body_data['몸무게']['#text']\n",
    "weight_unit = body_data['몸무게']['@unit']\n",
    "\n",
    "print(\"[사용자 {0}의 신체정보]\".format(user_name))\n",
    "print(\"*키: {0}{1}\".format(height, height_unit))\n",
    "print(\"*몸무게: {0}{1}\".format(weight, weight_unit))"
   ]
  },
  {
   "cell_type": "markdown",
   "metadata": {},
   "source": [
    "**[15장: 467페이지]**"
   ]
  },
  {
   "cell_type": "code",
   "execution_count": null,
   "metadata": {},
   "outputs": [],
   "source": [
    "dict_data2 = xmltodict.parse(xml_data, xml_attribs=False)\n",
    "dict_data2"
   ]
  },
  {
   "cell_type": "markdown",
   "metadata": {},
   "source": [
    "### 웹 사이트 주소에 부가 정보 추가하기"
   ]
  },
  {
   "cell_type": "markdown",
   "metadata": {},
   "source": [
    "#### 웹 사이트 주소에 경로 추가하기"
   ]
  },
  {
   "cell_type": "markdown",
   "metadata": {},
   "source": [
    "**[15장: 468페이지]**"
   ]
  },
  {
   "cell_type": "code",
   "execution_count": null,
   "metadata": {},
   "outputs": [],
   "source": [
    "base_url = \"https://api.github.com/\"\n",
    "sub_dir = \"events\"\n",
    "url = base_url + sub_dir\n",
    "print(url)"
   ]
  },
  {
   "cell_type": "markdown",
   "metadata": {},
   "source": [
    "**[15장: 469페이지]**"
   ]
  },
  {
   "cell_type": "code",
   "execution_count": null,
   "metadata": {},
   "outputs": [],
   "source": [
    "import requests\n",
    "\n",
    "base_url = \"https://api.github.com/\"\n",
    "sub_dirs = [\"events\", \"user\", \"emails\" ]\n",
    "\n",
    "for sub_dir in sub_dirs:\n",
    "    url_dir = base_url + sub_dir\n",
    "    r = requests.get(url_dir)\n",
    "    print(r.url)"
   ]
  },
  {
   "cell_type": "markdown",
   "metadata": {},
   "source": [
    "#### 웹 사이트 주소에 매개변수 추가하기"
   ]
  },
  {
   "cell_type": "markdown",
   "metadata": {},
   "source": [
    "**[15장: 470페이지]**"
   ]
  },
  {
   "cell_type": "code",
   "execution_count": null,
   "metadata": {},
   "outputs": [],
   "source": [
    "import requests\n",
    "\n",
    "LAT = '37.57' # 위도\n",
    "LON = '126.98' # 경도\n",
    "API_KEY = 'b235c57pc357fb68acr1e81' # API 키(임의의 API 키)\n",
    "UNIT = 'metric' # 단위\n",
    "\n",
    "site_url = \"http://api.openweathermap.org/data/2.5/weather\"\n",
    "parameter = \"?lat=%s&lon=%s&appid=%s&units=%s\"%(LAT, LON, API_KEY, UNIT)\n",
    "url_para = site_url + parameter\n",
    "r = requests.get(url_para)\n",
    "\n",
    "print(r.url)"
   ]
  },
  {
   "cell_type": "markdown",
   "metadata": {},
   "source": [
    "**[15장: 471페이지]**"
   ]
  },
  {
   "cell_type": "code",
   "execution_count": null,
   "metadata": {},
   "outputs": [],
   "source": [
    "import requests  \n",
    "\n",
    "LAT = '37.57' # 위도\n",
    "LON = '126.98' # 경도\n",
    "API_KEY = 'b235c57pc357fb68acr1e81' # API 키(임의의 API 키)\n",
    "UNIT = 'metric' # 단위\n",
    "\n",
    "req_url = \"http://api.openweathermap.org/data/2.5/weather\"\n",
    "req_parameter = {\"lat\":LAT, \"lon\":LON , \"appid\": API_KEY, \"units\":UNIT}\n",
    "r = requests.get(req_url,params=req_parameter)\n",
    "print(r.url)"
   ]
  },
  {
   "cell_type": "markdown",
   "metadata": {},
   "source": [
    "#### 웹 사이트 주소의 인코딩과 디코딩"
   ]
  },
  {
   "cell_type": "markdown",
   "metadata": {},
   "source": [
    "**[15장: 471 ~ 472페이지]**"
   ]
  },
  {
   "cell_type": "code",
   "execution_count": null,
   "metadata": {},
   "outputs": [],
   "source": [
    "import requests\n",
    "\n",
    "API_KEY = \"et5piq3pfpqLEWPpCbvtSQ%2Bertertg%2Bx3evdvbaRBvhWEerg3efac2r3f3RfhDTERTw%2B9rkvoewRV%2Fovmrk3dq%3D%3D\"\n",
    "\n",
    "API_KEY_decode = requests.utils.unquote(API_KEY)\n",
    "\n",
    "print(\"Encoded url:\", API_KEY)\n",
    "print(\"Decoded url:\", API_KEY_decode)"
   ]
  },
  {
   "cell_type": "markdown",
   "metadata": {},
   "source": [
    "**[15장: 472페이지]**"
   ]
  },
  {
   "cell_type": "code",
   "execution_count": null,
   "metadata": {},
   "outputs": [],
   "source": [
    "req_url = \"http://openapi.airkorea.or.kr/openapi/services/rest/MsrstnInfoInqireSvc/getNearbyMsrstnList\"\n",
    "\n",
    "tm_x = 244148.546388\n",
    "tm_y = 412423.75772\n",
    "\n",
    "req_parameter = {\"ServiceKey\":API_KEY_decode, \"tmX\":tm_x, \"tmY\":tm_y}\n",
    "\n",
    "r = requests.get(req_url,  params = req_parameter)\n",
    "print(r.url)"
   ]
  },
  {
   "cell_type": "markdown",
   "metadata": {},
   "source": [
    "**[15장: 473페이지]**"
   ]
  },
  {
   "cell_type": "code",
   "execution_count": null,
   "metadata": {},
   "outputs": [],
   "source": [
    "req_parameter = {\"ServiceKey\":API_KEY, \"tmX\":tm_x, \"tmY\":tm_y}\n",
    "\n",
    "r = requests.get(req_url,  params = req_parameter)\n",
    "print(r.url)"
   ]
  },
  {
   "cell_type": "markdown",
   "metadata": {},
   "source": [
    "## 15.2 API 키를 사용하지 않고 데이터 가져오기"
   ]
  },
  {
   "cell_type": "markdown",
   "metadata": {},
   "source": [
    "### 국제 우주 정거장의 정보 가져오기"
   ]
  },
  {
   "cell_type": "markdown",
   "metadata": {},
   "source": [
    "**[15장: 473 ~ 474페이지]**"
   ]
  },
  {
   "cell_type": "code",
   "execution_count": null,
   "metadata": {},
   "outputs": [],
   "source": [
    "import requests  \n",
    "import json\n",
    "\n",
    "url = \"http://api.open-notify.org/iss-now.json\"\n",
    "\n",
    "r = requests.get(url)\n",
    "print(r.text)"
   ]
  },
  {
   "cell_type": "markdown",
   "metadata": {},
   "source": [
    "**[15장: 474페이지]**"
   ]
  },
  {
   "cell_type": "code",
   "execution_count": null,
   "metadata": {},
   "outputs": [],
   "source": [
    "json_to_dict = json.loads(r.text)\n",
    "type(json_to_dict)"
   ]
  },
  {
   "cell_type": "markdown",
   "metadata": {},
   "source": [
    "**[15장: 474 ~ 475페이지]**"
   ]
  },
  {
   "cell_type": "code",
   "execution_count": null,
   "metadata": {},
   "outputs": [],
   "source": [
    "import requests\n",
    "\n",
    "url = \"http://api.open-notify.org/iss-now.json\"\n",
    "\n",
    "r = requests.get(url)\n",
    "json_to_dict = r.json()\n",
    "type(json_to_dict)"
   ]
  },
  {
   "cell_type": "markdown",
   "metadata": {},
   "source": [
    "**[15장: 475페이지]**"
   ]
  },
  {
   "cell_type": "code",
   "execution_count": null,
   "metadata": {},
   "outputs": [],
   "source": [
    "import requests\n",
    "\n",
    "url = \"http://api.open-notify.org/iss-now.json\"\n",
    "\n",
    "json_to_dict = requests.get(url).json()\n",
    "type(json_to_dict)"
   ]
  },
  {
   "cell_type": "markdown",
   "metadata": {},
   "source": [
    "**[15장: 475페이지]**"
   ]
  },
  {
   "cell_type": "code",
   "execution_count": null,
   "metadata": {},
   "outputs": [],
   "source": [
    "json_to_dict"
   ]
  },
  {
   "cell_type": "markdown",
   "metadata": {},
   "source": [
    "**[15장: 475페이지]**"
   ]
  },
  {
   "cell_type": "code",
   "execution_count": null,
   "metadata": {},
   "outputs": [],
   "source": [
    "print(json_to_dict[\"iss_position\"])\n",
    "print(json_to_dict[\"iss_position\"][\"latitude\"])\n",
    "print(json_to_dict[\"iss_position\"][\"longitude\"])\n",
    "print(json_to_dict[\"message\"])\n",
    "print(json_to_dict[\"timestamp\"])"
   ]
  },
  {
   "cell_type": "markdown",
   "metadata": {},
   "source": [
    "**[15장: 476페이지]**"
   ]
  },
  {
   "cell_type": "code",
   "execution_count": null,
   "metadata": {},
   "outputs": [],
   "source": [
    "import requests\n",
    "import time\n",
    "\n",
    "url = \"http://api.open-notify.org/iss-now.json\"\n",
    "\n",
    "def ISS_Position(iss_position_api_url):\n",
    "    json_to_dict = requests.get(iss_position_api_url).json()\n",
    "    return json_to_dict[\"iss_position\"]\n",
    "\n",
    "for k in range(5):\n",
    "    print(ISS_Position(url))\n",
    "    time.sleep(10)  # 10초 동안 코드 실행을 일시적으로 중지한다. "
   ]
  },
  {
   "cell_type": "markdown",
   "metadata": {},
   "source": [
    "### 국가 정보 가져오기"
   ]
  },
  {
   "cell_type": "markdown",
   "metadata": {},
   "source": [
    "**[15장: 476 ~ 477페이지]**"
   ]
  },
  {
   "cell_type": "code",
   "execution_count": null,
   "metadata": {},
   "outputs": [],
   "source": [
    "import requests\n",
    "\n",
    "url_temp = \"https://restcountries.eu/rest/v1/name/\"\n",
    "country = \"South Korea\"\n",
    "url = url_temp + country\n",
    "\n",
    "r = requests.get(url)\n",
    "print(r.text)"
   ]
  },
  {
   "cell_type": "markdown",
   "metadata": {},
   "source": [
    "**[15장: 477페이지]**"
   ]
  },
  {
   "cell_type": "code",
   "execution_count": null,
   "metadata": {},
   "outputs": [],
   "source": [
    "json_to_list = requests.get(url).json() \n",
    "json_to_list"
   ]
  },
  {
   "cell_type": "markdown",
   "metadata": {},
   "source": [
    "**[15장: 478페이지]**"
   ]
  },
  {
   "cell_type": "code",
   "execution_count": null,
   "metadata": {},
   "outputs": [],
   "source": [
    "json_to_list[0][\"capital\"]"
   ]
  },
  {
   "cell_type": "markdown",
   "metadata": {},
   "source": [
    "**[15장: 478페이지]**"
   ]
  },
  {
   "cell_type": "code",
   "execution_count": null,
   "metadata": {},
   "outputs": [],
   "source": [
    "import requests\n",
    "import json\n",
    "\n",
    "countries =[\"South Korea\", \"United States of America\", \"United Kingdom\", \"France\", \"Germany\"]\n",
    "\n",
    "def country_to_capital(country):\n",
    "    url_temp = \"https://restcountries.eu/rest/v1/name/\"\n",
    "    url = url_temp + country\n",
    "    json_to_list = requests.get(url).json()\n",
    "    return json_to_list[0][\"capital\"]\n",
    "    \n",
    "for country in countries:\n",
    "    capital = country_to_capital(country)\n",
    "    print(\"*{0}: {1}\".format(country, capital))"
   ]
  },
  {
   "cell_type": "markdown",
   "metadata": {},
   "source": [
    "## 15.3 트위터에 메시지 작성하고 가져오기"
   ]
  },
  {
   "cell_type": "markdown",
   "metadata": {},
   "source": [
    " ### API 키 및 접속 토큰 생성\n"
   ]
  },
  {
   "cell_type": "markdown",
   "metadata": {},
   "source": [
    "### Tweepy 설치 및 인증"
   ]
  },
  {
   "cell_type": "markdown",
   "metadata": {},
   "source": [
    "**[15장: 485페이지]**"
   ]
  },
  {
   "cell_type": "code",
   "execution_count": null,
   "metadata": {},
   "outputs": [],
   "source": [
    "import tweepy\n",
    "\n",
    "# 본인이 신청해서 생성한 문자열을 각각 복사해 넣습니다.\n",
    "consumer_key = 'YOUR-CONSUMER-KEY'\n",
    "consumer_secret = 'YOUR-CONSUMER-SECRET'\n",
    "\n",
    "access_token = 'YOUR-ACCESS-TOKEN'\n",
    "access_secret = 'YOUR-ACCESS-SECRET'"
   ]
  },
  {
   "cell_type": "markdown",
   "metadata": {},
   "source": [
    "**[15장: 485페이지]**"
   ]
  },
  {
   "cell_type": "code",
   "execution_count": null,
   "metadata": {},
   "outputs": [],
   "source": [
    "auth = tweepy.OAuthHandler(consumer_key, consumer_secret)\n",
    "auth.set_access_token(access_token, access_secret)"
   ]
  },
  {
   "cell_type": "markdown",
   "metadata": {},
   "source": [
    "**[15장: 485페이지]**"
   ]
  },
  {
   "cell_type": "code",
   "execution_count": null,
   "metadata": {},
   "outputs": [],
   "source": [
    "api = tweepy.API(auth)"
   ]
  },
  {
   "cell_type": "markdown",
   "metadata": {},
   "source": [
    "**[15장: 486페이지]**"
   ]
  },
  {
   "cell_type": "code",
   "execution_count": null,
   "metadata": {},
   "outputs": [],
   "source": [
    "print(\"name:\",api.me().name)"
   ]
  },
  {
   "cell_type": "markdown",
   "metadata": {},
   "source": [
    "### 트윗 작성하기"
   ]
  },
  {
   "cell_type": "markdown",
   "metadata": {},
   "source": [
    "**[15장: 487페이지]**"
   ]
  },
  {
   "cell_type": "code",
   "execution_count": null,
   "metadata": {
    "scrolled": true
   },
   "outputs": [],
   "source": [
    "tweet_update_status = api.update_status('파이썬에서 Tweepy 라이브러리를 이용한 첫 번째 트윗')"
   ]
  },
  {
   "cell_type": "markdown",
   "metadata": {},
   "source": [
    "**[15장: 487페이지]**"
   ]
  },
  {
   "cell_type": "code",
   "execution_count": null,
   "metadata": {},
   "outputs": [],
   "source": [
    "tweet_media_update_status = api.update_with_media(\"C:/myPyCode/figures/fig_for_excel1.png\", 'tweepy를 이용한 이미지 올리기')"
   ]
  },
  {
   "cell_type": "markdown",
   "metadata": {},
   "source": [
    "### 타임라인에서 메시지 가져오기"
   ]
  },
  {
   "cell_type": "markdown",
   "metadata": {},
   "source": [
    "**[15장: 488페이지]**"
   ]
  },
  {
   "cell_type": "code",
   "execution_count": null,
   "metadata": {
    "scrolled": false
   },
   "outputs": [],
   "source": [
    "for status in tweepy.Cursor(api.home_timeline).items(2):\n",
    "    print(\"*\", status.text)"
   ]
  },
  {
   "cell_type": "markdown",
   "metadata": {},
   "source": [
    "**[15장: 489페이지]**"
   ]
  },
  {
   "cell_type": "code",
   "execution_count": null,
   "metadata": {},
   "outputs": [],
   "source": [
    "for status in tweepy.Cursor(api.home_timeline).items(2):\n",
    "    print(\"*\", status._json['text'])\n",
    "    print(\" ==> Created at\", status._json['created_at'])"
   ]
  },
  {
   "cell_type": "markdown",
   "metadata": {},
   "source": [
    "### 키워드를 지정해 데이터 가져오기"
   ]
  },
  {
   "cell_type": "markdown",
   "metadata": {},
   "source": [
    "**[15장: 490페이지]**"
   ]
  },
  {
   "cell_type": "code",
   "execution_count": null,
   "metadata": {},
   "outputs": [],
   "source": [
    "import tweepy\n",
    "\n",
    "class MyStreamListener(tweepy.StreamListener):\n",
    "    \n",
    "    def on_status(self, status):\n",
    "        print(status.text) # 140자까지 출력"
   ]
  },
  {
   "cell_type": "markdown",
   "metadata": {},
   "source": [
    "**[15장: 490페이지]**"
   ]
  },
  {
   "cell_type": "code",
   "execution_count": null,
   "metadata": {},
   "outputs": [],
   "source": [
    "myStreamListener = MyStreamListener()"
   ]
  },
  {
   "cell_type": "markdown",
   "metadata": {},
   "source": [
    "**[15장: 490페이지]**"
   ]
  },
  {
   "cell_type": "code",
   "execution_count": null,
   "metadata": {
    "scrolled": true
   },
   "outputs": [],
   "source": [
    "myStream = tweepy.Stream(auth, myStreamListener)"
   ]
  },
  {
   "cell_type": "markdown",
   "metadata": {},
   "source": [
    "**[15장: 491페이지]**"
   ]
  },
  {
   "cell_type": "code",
   "execution_count": null,
   "metadata": {
    "scrolled": true
   },
   "outputs": [],
   "source": [
    "#myStream.filter(track = ['파이썬', 'python'])"
   ]
  },
  {
   "cell_type": "markdown",
   "metadata": {},
   "source": [
    "**[15장: 491페이지]**"
   ]
  },
  {
   "cell_type": "code",
   "execution_count": null,
   "metadata": {},
   "outputs": [],
   "source": [
    "class MyStreamListener(tweepy.StreamListener):\n",
    "\n",
    "    def __init__(self):\n",
    "        super().__init__()\n",
    "        self.tweet_num = 0\n",
    "\n",
    "    def on_status(self, status):\n",
    "        self.tweet_num = self.tweet_num + 1\n",
    "        if(self.tweet_num <= 5):\n",
    "            print(\"***\", status.text) # 140자까지 출력\n",
    "            return True\n",
    "        else:\n",
    "            return False"
   ]
  },
  {
   "cell_type": "markdown",
   "metadata": {},
   "source": [
    "**[15장: 491페이지]**"
   ]
  },
  {
   "cell_type": "code",
   "execution_count": null,
   "metadata": {
    "scrolled": false
   },
   "outputs": [],
   "source": [
    "myStreamListener = MyStreamListener()\n",
    "myStream = tweepy.Stream(auth, myStreamListener)\n",
    "myStream.filter(track = ['머신 러닝', 'Machine Learning'])"
   ]
  },
  {
   "cell_type": "markdown",
   "metadata": {},
   "source": [
    "**[15장: 492 ~ 493페이지]**"
   ]
  },
  {
   "cell_type": "code",
   "execution_count": null,
   "metadata": {},
   "outputs": [],
   "source": [
    "import tweepy\n",
    " \n",
    "# 키, 토근, 비밀번호 지정\n",
    "consumer_key = 'YOUR-CONSUMER-KEY'\n",
    "consumer_secret = 'YOUR-CONSUMER-SECRET'\n",
    "\n",
    "access_token = 'YOUR-ACCESS-TOKEN'\n",
    "access_secret = 'YOUR-ACCESS-SECRET'\n",
    "\n",
    "# OAuth 인증 진행\n",
    "auth = tweepy.OAuthHandler(consumer_key, consumer_secret)\n",
    "auth.set_access_token(access_token, access_secret)\n",
    " \n",
    "# 인증된 auth 변수를 이용해 트위터 API 클래스의 정의\n",
    "class MyStreamListener2(tweepy.StreamListener):\n",
    "\n",
    "    def __init__(self, max_num):\n",
    "        super().__init__()\n",
    "        self.tweet_num = 0\n",
    "        self.max_num = max_num\n",
    "    \n",
    "    def on_status(self, status):\n",
    "        self.tweet_num = self.tweet_num + 1\n",
    "        file_name = 'C:/myPyCode/data/twitter_stream_test.txt'\n",
    "        if(self.tweet_num <= self.max_num ):\n",
    "            with open(file_name, 'a', encoding=\"utf-8\") as f:\n",
    "                write_text = \"*** \" + status.text + \"\\n\"\n",
    "                f.write(write_text)\n",
    "            return True\n",
    "        else:\n",
    "            return False\n",
    "            \n",
    "    def on_error(self, status):\n",
    "        print(status) # 오류 메시지 출력\n",
    "        return False\n",
    "        \n",
    "if __name__ == '__main__':  \n",
    "    myStreamListener = MyStreamListener2(5)\n",
    "    myStream = tweepy.Stream(auth, myStreamListener)\n",
    "    myStream.filter(track = ['머신 러닝', 'Machine Learning'])\n",
    "    print(\"End of streaming!\")"
   ]
  },
  {
   "cell_type": "markdown",
   "metadata": {},
   "source": [
    "## 15.4 정부의 공공 데이터 가져오기"
   ]
  },
  {
   "cell_type": "markdown",
   "metadata": {},
   "source": [
    "### 회원 가입 및 서비스 신청"
   ]
  },
  {
   "cell_type": "markdown",
   "metadata": {},
   "source": [
    "### 주소 및 우편번호 가져오기"
   ]
  },
  {
   "cell_type": "markdown",
   "metadata": {},
   "source": [
    "**[15장: 502페이지]**"
   ]
  },
  {
   "cell_type": "code",
   "execution_count": null,
   "metadata": {},
   "outputs": [],
   "source": [
    "import requests\n",
    "\n",
    "API_KEY  = 'YOUR-API-KEY' # 자신의 인증키를 복사해서 입력합니다.\n",
    "API_KEY_decode = requests.utils.unquote(API_KEY)\n",
    "API_KEY_decode"
   ]
  },
  {
   "cell_type": "markdown",
   "metadata": {},
   "source": [
    "**[15장: 503페이지]**"
   ]
  },
  {
   "cell_type": "code",
   "execution_count": null,
   "metadata": {},
   "outputs": [],
   "source": [
    "req_url = \"http://openapi.epost.go.kr/postal/retrieveNewAdressAreaCdService/retrieveNewAdressAreaCdService/getNewAddressListAreaCd\"\n",
    "\n",
    "search_Se = \"road\" \n",
    "srch_wrd = \"반포대로 201\"\n",
    "\n",
    "req_parameter = {\"ServiceKey\":API_KEY_decode, \"searchSe\":search_Se, \"srchwrd\":srch_wrd}\n",
    "\n",
    "r = requests.get(req_url, params = req_parameter)\n",
    "xml_data = r.text\n",
    "print(xml_data)"
   ]
  },
  {
   "cell_type": "markdown",
   "metadata": {},
   "source": [
    "**[15장: 503페이지]**"
   ]
  },
  {
   "cell_type": "code",
   "execution_count": null,
   "metadata": {},
   "outputs": [],
   "source": [
    "import xmltodict\n",
    "\n",
    "dict_data = xmltodict.parse(xml_data)\n",
    "dict_data"
   ]
  },
  {
   "cell_type": "markdown",
   "metadata": {},
   "source": [
    "**[15장: 504페이지]**"
   ]
  },
  {
   "cell_type": "code",
   "execution_count": null,
   "metadata": {},
   "outputs": [],
   "source": [
    "adress_list = dict_data['NewAddressListResponse']['newAddressListAreaCd']\n",
    "\n",
    "print(\"[입력한 도로명 주소]\", srch_wrd)\n",
    "print(\"[응답 데이터에서 추출한 결과]\")\n",
    "print(\"- 우편번호:\", adress_list['zipNo'])\n",
    "print(\"- 도로명 주소:\", adress_list['lnmAdres'])\n",
    "print(\"- 지번 주소:\", adress_list['rnAdres'])"
   ]
  },
  {
   "cell_type": "markdown",
   "metadata": {},
   "source": [
    "### 날씨 정보 가져오기"
   ]
  },
  {
   "cell_type": "markdown",
   "metadata": {},
   "source": [
    "#### 날씨 정보를 위한 서비스 신청"
   ]
  },
  {
   "cell_type": "markdown",
   "metadata": {},
   "source": [
    "#### 날씨 실황 조회"
   ]
  },
  {
   "cell_type": "markdown",
   "metadata": {},
   "source": [
    "**[15장: 509페이지]**"
   ]
  },
  {
   "cell_type": "code",
   "execution_count": null,
   "metadata": {},
   "outputs": [],
   "source": [
    "import requests\n",
    "\n",
    "API_KEY  = 'YOUR-API-KEY' # 자신의 인증키를 복사해서 입력합니다.\n",
    "API_KEY_decode = requests.utils.unquote(API_KEY)\n",
    "API_KEY_decode"
   ]
  },
  {
   "cell_type": "markdown",
   "metadata": {},
   "source": [
    "**[15장: 510 ~ 511페이지]**"
   ]
  },
  {
   "cell_type": "code",
   "execution_count": null,
   "metadata": {},
   "outputs": [],
   "source": [
    "import json\n",
    "import datetime\n",
    "\n",
    "# [날짜 및 시간 설정]\n",
    "now = datetime.datetime.now() # 현재 날짜 및 시간 반환\n",
    "\n",
    "# baseDate에 날짜를 입력하기 위해 날짜를 출력 형식을 지정해 변수에 할당\n",
    "date = \"{:%Y%m%d}\".format(now) \n",
    "\n",
    "# baseTime에 시간(정시)를 입력하기 위해 출력 형식을 지정해 시간만 변수에 할당\n",
    "time = \"{:%H00}\".format(now)\n",
    "\n",
    "# 현재 분이 30분 이전이면 이전 시간(정시)을 설정\n",
    "if (now.minute >= 30):\n",
    "    time = \"{0}00\".format(now.hour)\n",
    "else:\n",
    "    time = \"{0}00\".format(now.hour-1)\n",
    "\n",
    "# [요청 주소 및 요청 변수 지정]\n",
    "req_url = \"http://newsky2.kma.go.kr/service/SecndSrtpdFrcstInfoService2/ForecastGrib\"\n",
    "\n",
    "baseDate = date # 발표 일자 지정\n",
    "baseTime = time  # 발표 시간 지정(정시로 지정)\n",
    "\n",
    "nx_val = 60 # 예보지점 X 좌표(서울시 종로구 사직동)\n",
    "ny_val = 127 # 예보지점 Y 좌표(서울시 종로구 사직동)\n",
    "\n",
    "num_of_rows = 6 # 한 페이지에 포함된 결과 수\n",
    "page_no = 1 # 페이지 번호\n",
    "\n",
    "output_type = \"json\" # 응답 데이터 형식 지정\n",
    "\n",
    "req_parameter = {\"ServiceKey\":API_KEY_decode, \n",
    "                 \"nx\":nx_val, \"ny\": ny_val, \n",
    "                 \"base_date\":baseDate, \"base_time\":baseTime, \n",
    "                 \"pageNo\":page_no, \"numOfRows\":num_of_rows, \n",
    "                 \"_type\":output_type}\n",
    "\n",
    "# [데이터 요청]\n",
    "r = requests.get(req_url, params = req_parameter)\n",
    "\n",
    "# [JSON 형태로 응답받은 데이터를 딕셔너리 데이터로 변환]\n",
    "dict_data = r.json()\n",
    "dict_data"
   ]
  },
  {
   "cell_type": "markdown",
   "metadata": {},
   "source": [
    "**[15장: 512 ~ 513페이지]**"
   ]
  },
  {
   "cell_type": "code",
   "execution_count": null,
   "metadata": {},
   "outputs": [],
   "source": [
    "# [딕셔너리 데이터를 분석해서 원하는 값 추출]\n",
    "\n",
    "weather_items = dict_data['response']['body']['items']['item']\n",
    "\n",
    "sky_cond = [\"맑음\", \"구름 조금\", \"구름 많음\", \"흐림\"]\n",
    "rain_type = [\"없음\", \"비\", \"진눈개비\", \"눈\"] \n",
    "\n",
    "print(\"[ 발표 날짜: {} ]\".format(weather_items[0]['baseDate']))\n",
    "print(\"[ 발표 시간: {} ]\".format(weather_items[0]['baseTime']))\n",
    "\n",
    "for k in range(len(weather_items)):\n",
    "    weather_item = weather_items[k]\n",
    "    obsrValue = weather_item['obsrValue']\n",
    "    if(weather_item['category'] == 'T1H'):\n",
    "        print(\"* 기온: {} 도\".format(obsrValue))\n",
    "    elif(weather_item['category'] == 'REH'):\n",
    "        print(\"* 습도: {} 퍼센트\".format(obsrValue))\n",
    "    elif(weather_item['category'] == 'SKY'):\n",
    "        print(\"* 하늘: {}\".format(sky_cond[obsrValue-1]))    \n",
    "    elif(weather_item['category'] == 'PTY'):\n",
    "        print(\"* 강수: {}\".format(rain_type[obsrValue])) "
   ]
  },
  {
   "cell_type": "markdown",
   "metadata": {},
   "source": [
    "#### 일기 예보 조회"
   ]
  },
  {
   "cell_type": "markdown",
   "metadata": {},
   "source": [
    "**[15장: 513 ~ 515페이지]**"
   ]
  },
  {
   "cell_type": "code",
   "execution_count": null,
   "metadata": {},
   "outputs": [],
   "source": [
    "import json\n",
    "import datetime\n",
    "    \n",
    "# [날짜 및 시간 설정]\n",
    "now = datetime.datetime.now() # 현재 날짜 및 시간 반환\n",
    "\n",
    "# baseDate에 날짜를 입력하기 위해 날짜를 출력 형식을 지정해 변수에 할당\n",
    "date = \"{:%Y%m%d}\".format(now) \n",
    "\n",
    "# baseTime에 시간(정시)를 입력하기 위해 출력 형식을 지정해 시간만 변수에 할당\n",
    "time = \"{:%H00}\".format(now)\n",
    "\n",
    "# 현재 분이 30분 이전이면 이전 시간(정시)을 설정\n",
    "if (now.minute >= 30):\n",
    "    time = \"{0}00\".format(now.hour)\n",
    "else:\n",
    "    time = \"{0}00\".format(now.hour-1)\n",
    "\n",
    "    \n",
    "# [요청 주소 및 요청 변수 지정]\n",
    "req_url = \"http://newsky2.kma.go.kr/service/SecndSrtpdFrcstInfoService2/ForecastTimeData\"\n",
    "\n",
    "baseDate = date # 발표 일자 지정\n",
    "baseTime = time # time  # 발표 시간 지정(정시로 지정)\n",
    "\n",
    "nx_val = 60 # 예보지점 X 좌표(서울시 종로구 사직동)\n",
    "ny_val = 127 # 예보지점 Y 좌표(서울시 종로구 사직동)\n",
    "\n",
    "num_of_rows = 30 # 한 페이지에 포함된 결과 수\n",
    "page_no = 1 # 페이지 번호\n",
    "\n",
    "output_type = \"json\" # 응답 데이터 형식 지정\n",
    "\n",
    "req_parameter = {\"ServiceKey\":API_KEY_decode, \n",
    "                 \"nx\":nx_val, \"ny\": ny_val, \n",
    "                 \"base_date\":baseDate, \"base_time\":baseTime, \n",
    "                 \"pageNo\":page_no, \"numOfRows\":num_of_rows, \n",
    "                 \"_type\":output_type}\n",
    "\n",
    "# [데이터 요청]\n",
    "r = requests.get(req_url, params = req_parameter)\n",
    "\n",
    "# [JSON 형태로 응답받은 데이터를 딕셔너리 데이터로 변환]\n",
    "dict_data = r.json()\n",
    "\n",
    "# [딕셔너리 데이터를 분석해서 원하는 값 추출]\n",
    "weather_items = dict_data['response']['body']['items']['item']\n",
    "\n",
    "sky_cond = [\"맑음\", \"구름 조금\", \"구름 많음\", \"흐림\"]\n",
    "rain_type = [\"없음\", \"비\", \"진눈개비\", \"눈\"] \n",
    "\n",
    "print(\"[ 발표 날짜: {} ]\".format(weather_items[0]['baseDate']))\n",
    "print(\"[ 발표 시간: {} ]\".format(weather_items[0]['baseTime']))\n",
    "\n",
    "print(\"[ 초단기 일기 예보 ]\")\n",
    "\n",
    "for k in range(len(weather_items)):\n",
    "    weather_item = weather_items[k]\n",
    "    \n",
    "    fcstTime = weather_item['fcstTime']\n",
    "    fcstValue = weather_item['fcstValue']\n",
    "    \n",
    "    if(weather_item['category'] == 'T1H'):\n",
    "        print(\"* 시간: {0}, 기온: {1} 도\".format(fcstTime, fcstValue))\n",
    "    elif(weather_item['category'] == 'REH'):\n",
    "        print(\"* 시간: {0}, 습도: {1} 퍼센트\".format(fcstTime, fcstValue))\n",
    "    elif(weather_item['category'] == 'SKY'):\n",
    "        print(\"* 시간: {0}, 하늘: {1}\".format(fcstTime, sky_cond[fcstValue-1]))\n",
    "    elif(weather_item['category'] == 'PTY'):\n",
    "        print(\"* 시간: {0}, 강수: {1}\".format(fcstTime, rain_type[fcstValue]))"
   ]
  },
  {
   "cell_type": "markdown",
   "metadata": {},
   "source": [
    "### 대기 오염 정보 가져오기"
   ]
  },
  {
   "cell_type": "markdown",
   "metadata": {},
   "source": [
    "#### 대기 오염 정보를 위한 서비스 신청"
   ]
  },
  {
   "cell_type": "markdown",
   "metadata": {},
   "source": [
    "#### 근접 측정소 목록 조회하기"
   ]
  },
  {
   "cell_type": "markdown",
   "metadata": {},
   "source": [
    "**[15장: 519페이지]**"
   ]
  },
  {
   "cell_type": "code",
   "execution_count": null,
   "metadata": {},
   "outputs": [],
   "source": [
    "import requests\n",
    "\n",
    "API_KEY  = 'YOUR-API-KEY' # 자신의 인증키를 복사해서 입력합니다.\n",
    "API_KEY_decode = requests.utils.unquote(API_KEY)\n",
    "API_KEY_decode"
   ]
  },
  {
   "cell_type": "markdown",
   "metadata": {},
   "source": [
    "**[15장: 520페이지]**"
   ]
  },
  {
   "cell_type": "code",
   "execution_count": null,
   "metadata": {},
   "outputs": [],
   "source": [
    "req_url = \"http://openapi.airkorea.or.kr/openapi/services/rest/MsrstnInfoInqireSvc/getTMStdrCrdnt\"\n",
    "\n",
    "umd_name = \"논현동\" #읍, 면, 동 지정\n",
    "num_of_rows = 10 # 한 페이지에 포함된 결과 수\n",
    "page_no = 1 # 페이지 번호\n",
    "\n",
    "output_type = \"json\"\n",
    "\n",
    "req_parameter = {\"ServiceKey\":API_KEY_decode, \"umdName\":umd_name, \n",
    "                  \"pageNo\":page_no, \"numOfRows\":num_of_rows, \n",
    "                 \"_returnType\":output_type}\n",
    "\n",
    "dict_data = requests.get(req_url, params = req_parameter).json()\n",
    "dict_data['totalCount'] # 전체 결과의 개수"
   ]
  },
  {
   "cell_type": "markdown",
   "metadata": {},
   "source": [
    "**[15장: 520 ~ 521페이지]**"
   ]
  },
  {
   "cell_type": "code",
   "execution_count": null,
   "metadata": {},
   "outputs": [],
   "source": [
    "print(\"[입력한 읍/면/동명]\", umd_name)\n",
    "print(\"[TM 기준 좌표 조회 결과]\")\n",
    "\n",
    "for k in range(dict_data['totalCount']):\n",
    "    sido = dict_data['list'][k]['sidoName']\n",
    "    sgg = dict_data['list'][k]['sggName']\n",
    "    umd = dict_data['list'][k]['umdName']\n",
    "    tmX = dict_data['list'][k]['tmX']\n",
    "    tmY = dict_data['list'][k]['tmY']\n",
    "    \n",
    "    print(\"- 위치: {0} {1} {2}\".format(sido, sgg, umd))\n",
    "    print(\"- k = {0}, TM 좌표(X, Y): {1}, {2}\\n\".format(k, tmX, tmY))"
   ]
  },
  {
   "cell_type": "markdown",
   "metadata": {},
   "source": [
    "**[15장: 521페이지]**"
   ]
  },
  {
   "cell_type": "code",
   "execution_count": null,
   "metadata": {},
   "outputs": [],
   "source": [
    "k = 0 # 원하는 위치 선택 (여기서는 첫 번째 위치)\n",
    "TM_X = dict_data['list'][k]['tmX'] # TM X 좌표\n",
    "TM_Y = dict_data['list'][k]['tmY'] # TM Y 좌표\n",
    "print(\"TM 좌표(X, Y): {0}, {1}\".format(TM_X, TM_Y))"
   ]
  },
  {
   "cell_type": "markdown",
   "metadata": {},
   "source": [
    "**[15장: 522 ~ 523페이지]**"
   ]
  },
  {
   "cell_type": "code",
   "execution_count": null,
   "metadata": {},
   "outputs": [],
   "source": [
    "req_url = \"http://openapi.airkorea.or.kr/openapi/services/rest/MsrstnInfoInqireSvc/getNearbyMsrstnList\"\n",
    "\n",
    "x_value = TM_X # TM 측정방식 X좌표\n",
    "y_value = TM_Y # TM 측정방식 Y좌표\n",
    "\n",
    "num_of_rows = 10 # 한 페이지에 포함된 결과 수\n",
    "page_no = 1 # 페이지 번호\n",
    "\n",
    "output_type = \"json\"\n",
    "req_parameter = {\"ServiceKey\":API_KEY_decode, \n",
    "                 \"tmX\":x_value, \"tmY\":y_value,\n",
    "                 \"pageNo\":page_no, \"numOfRows\":num_of_rows, \n",
    "                 \"_returnType\":output_type}\n",
    "\n",
    "dict_data = requests.get(req_url, params = req_parameter).json()\n",
    "\n",
    "print(\"해당 지역 근처에 있는 측정소의 개수:\", dict_data['totalCount'])"
   ]
  },
  {
   "cell_type": "markdown",
   "metadata": {},
   "source": [
    "**[15장: 523페이지]**"
   ]
  },
  {
   "cell_type": "code",
   "execution_count": null,
   "metadata": {},
   "outputs": [],
   "source": [
    "print(\"[측정소 정보]\")\n",
    "\n",
    "for k in range(dict_data['totalCount']):\n",
    "    \n",
    "    stationName = dict_data['list'][k]['stationName']\n",
    "    ditance = dict_data['list'][k]['tm']\n",
    "    addr = dict_data['list'][k]['addr']\n",
    "    \n",
    "    print(\"- 측정소 이름:{0}, 거리:{1}[km]\".format(stationName, ditance))\n",
    "    print(\"- 측정소 주소:{0} \\n\".format(addr))"
   ]
  },
  {
   "cell_type": "markdown",
   "metadata": {},
   "source": [
    "#### 측정 정보 가져오기"
   ]
  },
  {
   "cell_type": "markdown",
   "metadata": {},
   "source": [
    "**[15장: 525페이지]**"
   ]
  },
  {
   "cell_type": "code",
   "execution_count": null,
   "metadata": {},
   "outputs": [],
   "source": [
    "req_url = \"http://openapi.airkorea.or.kr/openapi/services/rest/ArpltnInforInqireSvc/getMsrstnAcctoRltmMesureDnsty\"\n",
    "\n",
    "station_name = \"도산대로\"\n",
    "data_term = \"DAILY\"\n",
    "num_of_rows = 10\n",
    "page_no = 1\n",
    "version = 1.3\n",
    "output_type = \"json\"\n",
    "\n",
    "req_parameter = {\"ServiceKey\": API_KEY_decode,\n",
    "                 \"stationName\": station_name,\n",
    "                 \"dataTerm\":data_term, \"ver\": version,\n",
    "                 \"pageNo\": page_no, \"numOfRows\" : num_of_rows,\n",
    "                 \"_returnType\": output_type}\n",
    "\n",
    "dict_data = requests.get(req_url,  params = req_parameter).json()\n",
    "dict_data['list'][0]\n",
    "# dict_data"
   ]
  },
  {
   "cell_type": "markdown",
   "metadata": {},
   "source": [
    "**[15장: 527페이지]**"
   ]
  },
  {
   "cell_type": "code",
   "execution_count": null,
   "metadata": {},
   "outputs": [],
   "source": [
    "dataTime = dict_data['list'][0]['dataTime'] \n",
    "\n",
    "so2Grade = dict_data['list'][0]['so2Grade']\n",
    "coGrade = dict_data['list'][0]['coGrade']\n",
    "o3Grade = dict_data['list'][0]['o3Grade']\n",
    "no2Grade = dict_data['list'][0]['no2Grade']\n",
    "\n",
    "pm10Grade1h = dict_data['list'][0]['pm10Grade1h']\n",
    "pm25Grade1h = dict_data['list'][0]['pm25Grade1h']\n",
    "khaiGrade = dict_data['list'][0]['khaiGrade']\n",
    "\n",
    "print(\"[측정소({0})에서 측정된 대기 오염 상태]\".format(station_name))\n",
    "print(\"- 측정 시간:{0}\".format(dataTime))\n",
    "\n",
    "print(\"- [지수] \", end='')\n",
    "print(\"아황산가스:{0}, 일산화탄소:{1}, 오존:{2}, 이산화질소:{3}\".\n",
    "      format(so2Grade, coGrade, o3Grade, no2Grade))\n",
    "\n",
    "print(\"- [등급] \", end='')\n",
    "print(\"미세 먼지:{0}, 초미세 먼지:{1}, 통합대기환경:{2}\".\n",
    "      format(pm10Grade1h, pm25Grade1h, khaiGrade))"
   ]
  },
  {
   "cell_type": "markdown",
   "metadata": {},
   "source": [
    "**[15장: 527 ~ 528페이지]**"
   ]
  },
  {
   "cell_type": "code",
   "execution_count": null,
   "metadata": {},
   "outputs": [],
   "source": [
    "gradeNum2Str = {\"1\":\"좋음\", \"2\":\"보통\", \"3\":\"나쁨\", \"4\":\"매우나쁨\" }\n",
    "\n",
    "print(\"[측정소({0})에서 측정된 대기 오염 상태]\".format(station_name))\n",
    "print(\"- 측정 시간:{0}\".format(dataTime))\n",
    "\n",
    "print(\"- 아황산가스:{0}, 일산화탄소:{1}, 오존:{2}, 이산화질소:{3}\".\n",
    "          format(gradeNum2Str[so2Grade], gradeNum2Str[coGrade],\n",
    "                 gradeNum2Str[o3Grade], gradeNum2Str[no2Grade]))\n",
    "\n",
    "print(\"- 미세 먼지:{0}, 초미세 먼지:{1}, 통합대기환경:{2}\".\n",
    "          format(gradeNum2Str[pm10Grade1h],gradeNum2Str[pm25Grade1h],\n",
    "                 gradeNum2Str[khaiGrade]))"
   ]
  },
  {
   "cell_type": "markdown",
   "metadata": {
    "collapsed": true
   },
   "source": [
    "## 15.5 정리"
   ]
  }
 ],
 "metadata": {
  "anaconda-cloud": {},
  "kernelspec": {
   "display_name": "Python 3",
   "language": "python",
   "name": "python3"
  },
  "language_info": {
   "codemirror_mode": {
    "name": "ipython",
    "version": 3
   },
   "file_extension": ".py",
   "mimetype": "text/x-python",
   "name": "python",
   "nbconvert_exporter": "python",
   "pygments_lexer": "ipython3",
   "version": "3.6.4"
  },
  "latex_envs": {
   "LaTeX_envs_menu_present": true,
   "autoclose": false,
   "autocomplete": true,
   "bibliofile": "biblio.bib",
   "cite_by": "apalike",
   "current_citInitial": 1,
   "eqLabelWithNumbers": true,
   "eqNumInitial": 1,
   "hotkeys": {
    "equation": "Ctrl-E",
    "itemize": "Ctrl-I"
   },
   "labels_anchors": false,
   "latex_user_defs": false,
   "report_style_numbering": false,
   "user_envs_cfg": false
  },
  "nav_menu": {},
  "toc": {
   "nav_menu": {
    "height": "512px",
    "width": "252px"
   },
   "number_sections": false,
   "sideBar": true,
   "skip_h1_title": false,
   "toc_cell": false,
   "toc_position": {
    "height": "545px",
    "left": "0px",
    "right": "1078px",
    "top": "111px",
    "width": "288px"
   },
   "toc_section_display": "block",
   "toc_window_display": false
  },
  "toc_position": {
   "height": "556px",
   "left": "0px",
   "right": "1057px",
   "top": "107px",
   "width": "309px"
  }
 },
 "nbformat": 4,
 "nbformat_minor": 1
}
