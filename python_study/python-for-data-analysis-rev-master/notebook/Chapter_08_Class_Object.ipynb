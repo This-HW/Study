{
 "cells": [
  {
   "cell_type": "markdown",
   "metadata": {},
   "source": [
    "# 8장 객체와 클래스"
   ]
  },
  {
   "cell_type": "markdown",
   "metadata": {},
   "source": [
    "## 8.1 클래스 선언과 객체 생성\n",
    "\n",
    "### 객체란?"
   ]
  },
  {
   "cell_type": "markdown",
   "metadata": {},
   "source": [
    "### 클래스 선언"
   ]
  },
  {
   "cell_type": "markdown",
   "metadata": {},
   "source": [
    "### 객체 생성 및 활용"
   ]
  },
  {
   "cell_type": "markdown",
   "metadata": {},
   "source": [
    "**[8장: 137페이지]**"
   ]
  },
  {
   "cell_type": "code",
   "execution_count": null,
   "metadata": {},
   "outputs": [],
   "source": [
    "class Bicycle(): # 클래스 선언\n",
    "    pass"
   ]
  },
  {
   "cell_type": "markdown",
   "metadata": {},
   "source": [
    "**[8장: 138페이지]**"
   ]
  },
  {
   "cell_type": "code",
   "execution_count": null,
   "metadata": {},
   "outputs": [],
   "source": [
    "my_bicycle = Bicycle()"
   ]
  },
  {
   "cell_type": "markdown",
   "metadata": {},
   "source": [
    "**[8장: 138페이지]**"
   ]
  },
  {
   "cell_type": "code",
   "execution_count": null,
   "metadata": {},
   "outputs": [],
   "source": [
    "my_bicycle"
   ]
  },
  {
   "cell_type": "markdown",
   "metadata": {},
   "source": [
    "**[8장: 138페이지]**"
   ]
  },
  {
   "cell_type": "code",
   "execution_count": null,
   "metadata": {},
   "outputs": [],
   "source": [
    "my_bicycle.wheel_size = 26\n",
    "my_bicycle.color = 'black'"
   ]
  },
  {
   "cell_type": "markdown",
   "metadata": {},
   "source": [
    "**[8장: 139페이지]**"
   ]
  },
  {
   "cell_type": "code",
   "execution_count": null,
   "metadata": {},
   "outputs": [],
   "source": [
    "print(\"바퀴 크기:\", my_bicycle.wheel_size)  # 객체의 속성 출력\n",
    "print(\"색상:\", my_bicycle.color)   "
   ]
  },
  {
   "cell_type": "markdown",
   "metadata": {},
   "source": [
    "**[8장: 139페이지]**"
   ]
  },
  {
   "cell_type": "code",
   "execution_count": null,
   "metadata": {},
   "outputs": [],
   "source": [
    "class Bicycle():\n",
    "    \n",
    "    def move(self, speed):\n",
    "        print(\"자전거: 시속 {0}킬로미터로 전진\".format(speed))\n",
    "        \n",
    "    def turn(self, direction):\n",
    "        print(\"자전거: {0}회전\".format(direction))\n",
    "        \n",
    "    def stop(self):\n",
    "        print(\"자전거({0}, {1}): 정지 \".format(self.wheel_size, self.color))"
   ]
  },
  {
   "cell_type": "markdown",
   "metadata": {},
   "source": [
    "**[8장: 140페이지]**"
   ]
  },
  {
   "cell_type": "code",
   "execution_count": null,
   "metadata": {},
   "outputs": [],
   "source": [
    "my_bicycle = Bicycle() # Bicycle 클래스의 인스턴스인 my_bicycle 객체 생성\n",
    "\n",
    "my_bicycle.wheel_size = 26 # 객체의 속성 설정\n",
    "my_bicycle.color = 'black' \n",
    "\n",
    "my_bicycle.move(30)  # 객체의 메서드 호출\n",
    "my_bicycle.turn('좌')\n",
    "my_bicycle.stop()"
   ]
  },
  {
   "cell_type": "markdown",
   "metadata": {},
   "source": [
    "**[8장: 141페이지]**"
   ]
  },
  {
   "cell_type": "code",
   "execution_count": null,
   "metadata": {},
   "outputs": [],
   "source": [
    "bicycle1 = Bicycle() # Bicycle 클래스의 인스턴스인 bicycle1 객체 생성\n",
    "\n",
    "bicycle1.wheel_size = 27 # 객체의 속성 설정\n",
    "bicycle1.color = 'red' \n",
    "\n",
    "bicycle1.move(20)\n",
    "bicycle1.turn('좌')\n",
    "bicycle1.stop()"
   ]
  },
  {
   "cell_type": "code",
   "execution_count": null,
   "metadata": {
    "scrolled": true
   },
   "outputs": [],
   "source": [
    "bicycle2 = Bicycle() # Bicycle 클래스의 인스턴스인 bicycle2 객체 생성\n",
    "\n",
    "bicycle2.wheel_size = 24 # 객체의 속성 설정\n",
    "bicycle2.color = 'blue' \n",
    "\n",
    "bicycle2.move(15)\n",
    "bicycle2.turn('우')\n",
    "bicycle2.stop()"
   ]
  },
  {
   "cell_type": "markdown",
   "metadata": {},
   "source": [
    "### 객체 초기화"
   ]
  },
  {
   "cell_type": "markdown",
   "metadata": {},
   "source": [
    "**[8장: 142페이지]**"
   ]
  },
  {
   "cell_type": "code",
   "execution_count": null,
   "metadata": {},
   "outputs": [],
   "source": [
    "class Bicycle():    \n",
    "    \n",
    "    def __init__(self, wheel_size, color):\n",
    "        self.wheel_size = wheel_size\n",
    "        self.color = color\n",
    "        \n",
    "    def move(self, speed):\n",
    "        print(\"자전거: 시속 {0}킬로미터로 전진\".format(speed))\n",
    "        \n",
    "    def turn(self, direction):\n",
    "        print(\"자전거: {0}회전\".format(direction))\n",
    "        \n",
    "    def stop(self):\n",
    "        print(\"자전거({0}, {1}): 정지 \".format(self.wheel_size, self.color))"
   ]
  },
  {
   "cell_type": "markdown",
   "metadata": {},
   "source": [
    "**[8장: 142페이지]**"
   ]
  },
  {
   "cell_type": "code",
   "execution_count": null,
   "metadata": {},
   "outputs": [],
   "source": [
    "my_bicycle = Bicycle(26, 'black') # 객체 생성과 동시에 속성값을 지정.\n",
    "\n",
    "my_bicycle.move(30)  # 객체 메서드 호출\n",
    "my_bicycle.turn('좌')\n",
    "my_bicycle.stop()"
   ]
  },
  {
   "cell_type": "markdown",
   "metadata": {},
   "source": [
    "## 8.2 클래스를 구성하는 변수와 함수"
   ]
  },
  {
   "cell_type": "markdown",
   "metadata": {},
   "source": [
    "### 클래스에서 사용하는 변수"
   ]
  },
  {
   "cell_type": "markdown",
   "metadata": {},
   "source": [
    "**[8장: 143페이지]**"
   ]
  },
  {
   "cell_type": "code",
   "execution_count": null,
   "metadata": {},
   "outputs": [],
   "source": [
    "class Car():\n",
    "    instance_count = 0 # 클래스 변수 생성 및 초기화\n",
    "\n",
    "    def __init__(self, size, color):\n",
    "        self.size = size    # 인스턴스 변수 생성 및 초기화\n",
    "        self.color = color  # 인스턴스 변수 생성 및 초기화\n",
    "        Car.instance_count = Car.instance_count + 1 # 클래스 변수 이용\n",
    "        print(\"자동차 객체의 수: {0}\".format(Car.instance_count))\n",
    "        \n",
    "    def move(self):\n",
    "        print(\"자동차({0} & {1})가 움직입니다.\".format(self.size, self.color))"
   ]
  },
  {
   "cell_type": "markdown",
   "metadata": {},
   "source": [
    "**[8장: 144페이지]**"
   ]
  },
  {
   "cell_type": "code",
   "execution_count": null,
   "metadata": {},
   "outputs": [],
   "source": [
    "car1 = Car('small', 'white')\n",
    "car2 = Car('big', 'black')"
   ]
  },
  {
   "cell_type": "markdown",
   "metadata": {},
   "source": [
    "**[8장: 144페이지]**"
   ]
  },
  {
   "cell_type": "code",
   "execution_count": null,
   "metadata": {},
   "outputs": [],
   "source": [
    "print(\"Car 클래스의 총 인스턴스 개수:{}\".format(Car.instance_count)) "
   ]
  },
  {
   "cell_type": "markdown",
   "metadata": {},
   "source": [
    "**[8장: 144페이지]**"
   ]
  },
  {
   "cell_type": "code",
   "execution_count": null,
   "metadata": {},
   "outputs": [],
   "source": [
    "print(\"Car 클래스의 총 인스턴스 개수:{}\".format(car1.instance_count))\n",
    "print(\"Car 클래스의 총 인스턴스 개수:{}\".format(car2.instance_count))"
   ]
  },
  {
   "cell_type": "markdown",
   "metadata": {},
   "source": [
    "**[8장: 144페이지]**"
   ]
  },
  {
   "cell_type": "code",
   "execution_count": null,
   "metadata": {},
   "outputs": [],
   "source": [
    "car1.move()\n",
    "car2.move()"
   ]
  },
  {
   "cell_type": "markdown",
   "metadata": {},
   "source": [
    "**[8장: 145페이지]**"
   ]
  },
  {
   "cell_type": "code",
   "execution_count": null,
   "metadata": {},
   "outputs": [],
   "source": [
    "class Car2():\n",
    "    count = 0; # 클래스 변수 생성 및 초기화\n",
    "\n",
    "    def __init__(self, size, num):\n",
    "        self.size = size    # 인스턴스 변수 생성 및 초기화\n",
    "        self.count = num  # 인스턴스 변수 생성 및 초기화\n",
    "        Car2.count = Car2.count + 1 # 클래스 변수 이용\n",
    "        print(\"자동차 객체의 수: Car2.count = {0}\".format(Car2.count))\n",
    "        print(\"인스턴스 변수 초기화: self.count = {0}\".format(self.count))\n",
    "        \n",
    "    def move(self):\n",
    "        print(\"자동차({0} & {1})가 움직입니다.\".format(self.size, self.count))"
   ]
  },
  {
   "cell_type": "markdown",
   "metadata": {},
   "source": [
    "**[8장: 145페이지]**"
   ]
  },
  {
   "cell_type": "code",
   "execution_count": null,
   "metadata": {
    "scrolled": true
   },
   "outputs": [],
   "source": [
    "car1 = Car2(\"big\", 20)\n",
    "car2 = Car2(\"small\", 30)"
   ]
  },
  {
   "cell_type": "markdown",
   "metadata": {},
   "source": [
    "### 클래스에서 사용하는 함수"
   ]
  },
  {
   "cell_type": "markdown",
   "metadata": {},
   "source": [
    "#### 인스턴스 메서드"
   ]
  },
  {
   "cell_type": "markdown",
   "metadata": {},
   "source": [
    "**[8장: 146 ~ 147페이지]**"
   ]
  },
  {
   "cell_type": "code",
   "execution_count": null,
   "metadata": {},
   "outputs": [],
   "source": [
    "# Car 클래스 선언\n",
    "class Car():\n",
    "    instance_count = 0 # 클래스 변수 생성 및 초기화\n",
    "    \n",
    "    # 초기화 함수(인스턴스 메서드)\n",
    "    def __init__(self, size, color):\n",
    "        self.size = size    # 인스턴스 변수 생성 및 초기화\n",
    "        self.color = color  # 인스턴스 변수 생성 및 초기화\n",
    "        Car.instance_count = Car.instance_count + 1 # 클래스 변수 이용\n",
    "        print(\"자동차 객체의 수: {0}\".format(Car.instance_count))  \n",
    "       \n",
    "    # 인스턴스 메서드\n",
    "    def move(self, speed):\n",
    "        self.speed = speed  # 인스턴스 변수 생성    \n",
    "        print(\"자동차({0} & {1})가 \".format(self.size, self.color), end='')\n",
    "        print(\"시속 {0}킬로미터로 전진\".format(self.speed))\n",
    "        \n",
    "    # 인스턴스 메서드\n",
    "    def auto_cruise(self):\n",
    "        print(\"자율 주행 모드\")\n",
    "        self.move(self.speed) # move() 함수의 인자로 인스턴스 변수를 입력"
   ]
  },
  {
   "cell_type": "markdown",
   "metadata": {},
   "source": [
    "**[8장: 147페이지]**"
   ]
  },
  {
   "cell_type": "code",
   "execution_count": null,
   "metadata": {},
   "outputs": [],
   "source": [
    "car1 = Car(\"small\", \"red\") # 객체 생성 (car1)\n",
    "car2 = Car(\"big\", \"green\") # 객체 생성 (car2)\n",
    "\n",
    "car1.move(80) #객체(car1)의 move() 메서드 호출\n",
    "car2.move(100) #객체(car2)의 move() 메서드 호출\n",
    "\n",
    "car1.auto_cruise() #객체(car1)의 auto_cruise() 메서드 호출\n",
    "car2.auto_cruise() #객체(car2)의 auto_cruise() 메서드 호출"
   ]
  },
  {
   "cell_type": "markdown",
   "metadata": {},
   "source": [
    "#### 정적 메서드"
   ]
  },
  {
   "cell_type": "markdown",
   "metadata": {},
   "source": [
    "**[8장: 148 ~ 149페이지]**"
   ]
  },
  {
   "cell_type": "code",
   "execution_count": null,
   "metadata": {},
   "outputs": [],
   "source": [
    "# Car 클래스 선언\n",
    "class Car():\n",
    "        \n",
    "    # def __init__(self, size, color): => 앞의 코드 활용\n",
    "    # def move(self, speed): => 앞의 코드 활용\n",
    "    # def auto_cruise(self): => 앞의 코드 활용\n",
    "    \n",
    "    # 정적 메서드\n",
    "    @staticmethod\n",
    "    def check_type(model_code):\n",
    "        if(model_code >= 20):\n",
    "            print(\"이 자동차는 전기차입니다.\")\n",
    "        elif(10 <= model_code < 20):\n",
    "            print(\"이 자동차는 가솔린차입니다.\")\n",
    "        else:\n",
    "            print(\"이 자동차는 디젤차입니다.\")"
   ]
  },
  {
   "cell_type": "markdown",
   "metadata": {},
   "source": [
    "**[8장: 149페이지]**"
   ]
  },
  {
   "cell_type": "code",
   "execution_count": null,
   "metadata": {},
   "outputs": [],
   "source": [
    "Car.check_type(25)\n",
    "Car.check_type(2)"
   ]
  },
  {
   "cell_type": "markdown",
   "metadata": {},
   "source": [
    "#### 클래스 메서드"
   ]
  },
  {
   "cell_type": "markdown",
   "metadata": {},
   "source": [
    "**[8장: 150페이지]**"
   ]
  },
  {
   "cell_type": "code",
   "execution_count": null,
   "metadata": {},
   "outputs": [],
   "source": [
    "# Car 클래스 선언\n",
    "class Car():\n",
    "    instance_count = 0 # 클래스 변수    \n",
    "  \n",
    "    # 초기화 함수(인스턴스 메서드)\n",
    "    def __init__(self, size, color):\n",
    "        self.size = size    # 인스턴스 변수\n",
    "        self.color = color  # 인스턴스 변수\n",
    "        Car.instance_count = Car.instance_count + 1\n",
    "       \n",
    "    # def move(self, speed): => 앞의 코드 활용\n",
    "    # def auto_cruise(self): => 앞의 코드 활용\n",
    "    # @staticmethod\n",
    "    # def check_type(model_code): => 앞의 코드 활용\n",
    "    \n",
    "    # 클래스 메서드\n",
    "    @classmethod\n",
    "    def count_instance(cls):\n",
    "        print(\"자동차 객체의 개수: {0}\".format(cls.instance_count))"
   ]
  },
  {
   "cell_type": "markdown",
   "metadata": {},
   "source": [
    "**[8장: 150페이지]**"
   ]
  },
  {
   "cell_type": "code",
   "execution_count": null,
   "metadata": {},
   "outputs": [],
   "source": [
    "Car.count_instance() # 객체 생성 전에 클래스 메서드 호출\n",
    "\n",
    "car1 = Car(\"small\", \"red\") # 첫 번째 객체 생성\n",
    "Car.count_instance() # 클래스 메서드 호출\n",
    "\n",
    "car2 = Car(\"big\", \"green\") # 두 번째 객체 생성\n",
    "Car.count_instance() # 클래스 메서드 호출"
   ]
  },
  {
   "cell_type": "markdown",
   "metadata": {},
   "source": [
    "## 8.3 객체와 클래스를 사용하는 이유"
   ]
  },
  {
   "cell_type": "markdown",
   "metadata": {},
   "source": [
    "**[8장: 151페이지]**"
   ]
  },
  {
   "cell_type": "code",
   "execution_count": null,
   "metadata": {},
   "outputs": [],
   "source": [
    "robot_name = 'R1' # 로봇 이름\n",
    "robot_pos = 0 # 로봇의 초기 위치\n",
    "\n",
    "def robot_move():\n",
    "    global robot_pos\n",
    "    robot_pos = robot_pos + 1\n",
    "    print(\"{0} position: {1}\".format(robot_name, robot_pos))"
   ]
  },
  {
   "cell_type": "markdown",
   "metadata": {},
   "source": [
    "**[8장: 152페이지]**"
   ]
  },
  {
   "cell_type": "code",
   "execution_count": null,
   "metadata": {},
   "outputs": [],
   "source": [
    "robot_move()"
   ]
  },
  {
   "cell_type": "markdown",
   "metadata": {},
   "source": [
    "**[8장: 152페이지]**"
   ]
  },
  {
   "cell_type": "code",
   "execution_count": null,
   "metadata": {},
   "outputs": [],
   "source": [
    "robot1_name = 'R1' # 로봇 이름\n",
    "robot1_pos = 0 # 로봇의 초기 위치\n",
    "\n",
    "def robot1_move():\n",
    "    global robot1_pos\n",
    "    robot1_pos = robot1_pos + 1\n",
    "    print(\"{0} position: {1}\".format(robot1_name, robot1_pos))\n",
    "\n",
    "robot2_name = 'R2' # 로봇 이름\n",
    "robot2_pos = 10 # 로봇의 초기 위치\n",
    "\n",
    "def robot2_move():\n",
    "    global robot2_pos\n",
    "    robot2_pos = robot2_pos + 1\n",
    "    print(\"{0} position: {1}\".format(robot2_name, robot2_pos))"
   ]
  },
  {
   "cell_type": "markdown",
   "metadata": {},
   "source": [
    "**[8장: 152페이지]**"
   ]
  },
  {
   "cell_type": "code",
   "execution_count": null,
   "metadata": {},
   "outputs": [],
   "source": [
    "robot1_move()\n",
    "robot2_move()"
   ]
  },
  {
   "cell_type": "markdown",
   "metadata": {},
   "source": [
    "**[8장: 153페이지]**"
   ]
  },
  {
   "cell_type": "code",
   "execution_count": null,
   "metadata": {},
   "outputs": [],
   "source": [
    "class Robot():\n",
    "    def __init__(self, name, pos): \n",
    "        self.name = name # 로봇 객체의 이름\n",
    "        self.pos = pos # 로봇 객체의 위치\n",
    "       \n",
    "    def move(self):\n",
    "        self.pos = self.pos + 1\n",
    "        print(\"{0} position: {1}\".format(self.name, self.pos))"
   ]
  },
  {
   "cell_type": "markdown",
   "metadata": {},
   "source": [
    "**[8장: 153페이지]**"
   ]
  },
  {
   "cell_type": "code",
   "execution_count": null,
   "metadata": {},
   "outputs": [],
   "source": [
    "robot1 = Robot('R1', 0)\n",
    "robot2 = Robot('R2', 10)"
   ]
  },
  {
   "cell_type": "markdown",
   "metadata": {},
   "source": [
    "**[8장: 153페이지]**"
   ]
  },
  {
   "cell_type": "code",
   "execution_count": null,
   "metadata": {},
   "outputs": [],
   "source": [
    "robot1.move()\n",
    "robot2.move()"
   ]
  },
  {
   "cell_type": "markdown",
   "metadata": {},
   "source": [
    "**[8장: 153페이지]**"
   ]
  },
  {
   "cell_type": "code",
   "execution_count": null,
   "metadata": {},
   "outputs": [],
   "source": [
    "myRobot3 = Robot('R3', 30)\n",
    "myRobot4 = Robot('R4', 40)\n",
    "\n",
    "myRobot3.move()\n",
    "myRobot4.move()"
   ]
  },
  {
   "cell_type": "markdown",
   "metadata": {},
   "source": [
    "## 8.4 클래스 상속"
   ]
  },
  {
   "cell_type": "markdown",
   "metadata": {},
   "source": [
    "**[8장: 155페이지]**"
   ]
  },
  {
   "cell_type": "code",
   "execution_count": null,
   "metadata": {},
   "outputs": [],
   "source": [
    "class Bicycle():\n",
    "    \n",
    "    def __init__(self, wheel_size, color):\n",
    "        self.wheel_size = wheel_size\n",
    "        self.color = color\n",
    "        \n",
    "    def move(self, speed):\n",
    "        print(\"자전거: 시속 {0}킬로미터로 전진\".format(speed))\n",
    "        \n",
    "    def turn(self, direction):\n",
    "        print(\"자전거: {0}회전\".format(direction))\n",
    "        \n",
    "    def stop(self):\n",
    "        print(\"자전거({0}, {1}): 정지 \".format(self.wheel_size, self.color))"
   ]
  },
  {
   "cell_type": "markdown",
   "metadata": {},
   "source": [
    "**[8장: 156페이지]**"
   ]
  },
  {
   "cell_type": "code",
   "execution_count": null,
   "metadata": {},
   "outputs": [],
   "source": [
    "class FoldingBicycle(Bicycle):\n",
    "        \n",
    "    def __init__(self, wheel_size, color, state): # FoldingBicycle 초기화\n",
    "        Bicycle.__init__(self, wheel_size, color) # Bicycle의 초기화 재사용\n",
    "        #super().__init__(wheel_size, color) # super()도 사용 가능\n",
    "        self.state = state  # 자식 클래스에서 새로 추가한 변수 \n",
    "        \n",
    "    def fold(self):\n",
    "        self.state = 'folding'\n",
    "        print(\"자전거: 접기, state = {0}\".format(self.state))\n",
    "\n",
    "    def unfold(self):\n",
    "        self.state = 'unfolding'\n",
    "        print(\"자전거: 펴기, state = {0}\".format(self.state))"
   ]
  },
  {
   "cell_type": "markdown",
   "metadata": {},
   "source": [
    "**[8장: 156페이지]**"
   ]
  },
  {
   "cell_type": "code",
   "execution_count": null,
   "metadata": {},
   "outputs": [],
   "source": [
    "folding_bicycle = FoldingBicycle(27, 'white', 'unfolding') # 객체 생성\n",
    "\n",
    "folding_bicycle.move(20) # 부모 클래스의 함수(메서드) 호출\n",
    "folding_bicycle.fold()   # 자식 클래스에서 정의한 함수 호출\n",
    "folding_bicycle.unfold()"
   ]
  },
  {
   "cell_type": "markdown",
   "metadata": {},
   "source": [
    "# 8.5 정리"
   ]
  }
 ],
 "metadata": {
  "anaconda-cloud": {},
  "kernelspec": {
   "display_name": "Python 3",
   "language": "python",
   "name": "python3"
  },
  "language_info": {
   "codemirror_mode": {
    "name": "ipython",
    "version": 3
   },
   "file_extension": ".py",
   "mimetype": "text/x-python",
   "name": "python",
   "nbconvert_exporter": "python",
   "pygments_lexer": "ipython3",
   "version": "3.7.1"
  },
  "latex_envs": {
   "LaTeX_envs_menu_present": true,
   "autoclose": false,
   "autocomplete": true,
   "bibliofile": "biblio.bib",
   "cite_by": "apalike",
   "current_citInitial": 1,
   "eqLabelWithNumbers": true,
   "eqNumInitial": 0,
   "hotkeys": {
    "equation": "Ctrl-E",
    "itemize": "Ctrl-I"
   },
   "labels_anchors": false,
   "latex_user_defs": false,
   "report_style_numbering": false,
   "user_envs_cfg": false
  },
  "nav_menu": {},
  "toc": {
   "nav_menu": {
    "height": "142px",
    "width": "252px"
   },
   "number_sections": false,
   "sideBar": true,
   "skip_h1_title": false,
   "toc_cell": false,
   "toc_position": {
    "height": "582px",
    "left": "0px",
    "right": "1128px",
    "top": "111px",
    "width": "238px"
   },
   "toc_section_display": "block",
   "toc_window_display": false
  },
  "toc_position": {
   "height": "552px",
   "left": "0px",
   "right": "1170px",
   "top": "107px",
   "width": "196px"
  }
 },
 "nbformat": 4,
 "nbformat_minor": 2
}
