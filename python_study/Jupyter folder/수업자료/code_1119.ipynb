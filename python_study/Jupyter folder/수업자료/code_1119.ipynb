{
 "cells": [
  {
   "cell_type": "code",
   "execution_count": 1,
   "metadata": {},
   "outputs": [
    {
     "data": {
      "text/plain": [
       "3.3333333333333335"
      ]
     },
     "execution_count": 1,
     "metadata": {},
     "output_type": "execute_result"
    }
   ],
   "source": [
    "10 / 3"
   ]
  },
  {
   "cell_type": "code",
   "execution_count": 2,
   "metadata": {},
   "outputs": [
    {
     "data": {
      "text/plain": [
       "3"
      ]
     },
     "execution_count": 2,
     "metadata": {},
     "output_type": "execute_result"
    }
   ],
   "source": [
    "10 // 3"
   ]
  },
  {
   "cell_type": "code",
   "execution_count": 3,
   "metadata": {},
   "outputs": [
    {
     "data": {
      "text/plain": [
       "30"
      ]
     },
     "execution_count": 3,
     "metadata": {},
     "output_type": "execute_result"
    }
   ],
   "source": [
    "10 * 3"
   ]
  },
  {
   "cell_type": "code",
   "execution_count": 4,
   "metadata": {},
   "outputs": [
    {
     "data": {
      "text/plain": [
       "1"
      ]
     },
     "execution_count": 4,
     "metadata": {},
     "output_type": "execute_result"
    }
   ],
   "source": [
    "10 % 3"
   ]
  },
  {
   "cell_type": "code",
   "execution_count": 48,
   "metadata": {},
   "outputs": [
    {
     "name": "stdout",
     "output_type": "stream",
     "text": [
      "8\n",
      "7\n",
      "6\n",
      "5\n",
      "4\n",
      "3\n",
      "33\n"
     ]
    }
   ],
   "source": [
    "number = 123456\n",
    "total = 0\n",
    "for i in range(6):\n",
    "    split_number = number % 10\n",
    "    total = total + split_number\n",
    "    print(split_number)\n",
    "#     print(i)\n",
    "    number = number // 10\n",
    "    #print(number)\n",
    "    pass\n",
    "\n",
    "print(total)\n",
    "\n",
    "# 위의 6자리 수를 모두 한자리씩 분리한 후 분리된 수의 \n",
    "# 합을 구하여 출력하시오"
   ]
  },
  {
   "cell_type": "code",
   "execution_count": 18,
   "metadata": {},
   "outputs": [
    {
     "name": "stdout",
     "output_type": "stream",
     "text": [
      "30\n"
     ]
    }
   ],
   "source": [
    "# 1부터 10까지의 합을 구하여 출력하시오 (for 사용)\n",
    "\n",
    "sum = 0\n",
    "for i in range(10):\n",
    "    if (i+1) % 2 == 0:\n",
    "        sum = sum + (i+1)\n",
    "   \n",
    "    pass\n",
    "\n",
    "print(sum)"
   ]
  },
  {
   "cell_type": "code",
   "execution_count": 22,
   "metadata": {},
   "outputs": [
    {
     "name": "stdout",
     "output_type": "stream",
     "text": [
      "2X1=2\n",
      "2X2=4\n",
      "2X3=6\n",
      "2X4=8\n",
      "2X5=10\n",
      "2X6=12\n",
      "2X7=14\n",
      "2X8=16\n",
      "2X9=18\n"
     ]
    }
   ],
   "source": [
    "# 2단을 작성하시오\n",
    "# print(\"{}X{}={}\".format(2,1,2))\n",
    "for i in range(9):\n",
    "    print(\"2X{}={}\".format(i+1,(i+1)*2))\n",
    "    pass\n",
    "\n"
   ]
  },
  {
   "cell_type": "code",
   "execution_count": 41,
   "metadata": {},
   "outputs": [
    {
     "name": "stdout",
     "output_type": "stream",
     "text": [
      "3X1=3\n",
      "3X2=6\n",
      "3X3=9\n",
      "3X4=12\n",
      "3X5=15\n",
      "3X6=18\n",
      "3X7=21\n",
      "3X8=24\n",
      "3X9=27\n",
      "\n"
     ]
    }
   ],
   "source": [
    "# 2단~9단을 작성하시오\n",
    "for dan in range(2,10):\n",
    "    if dan!=3:\n",
    "        continue\n",
    "        \n",
    "    for i in range(1,10):\n",
    "        print(\"{}X{}={}\".format(dan,i,i*dan))\n",
    "        pass\n",
    "    print()\n",
    "    pass\n",
    "\n"
   ]
  },
  {
   "cell_type": "code",
   "execution_count": 33,
   "metadata": {},
   "outputs": [
    {
     "name": "stdout",
     "output_type": "stream",
     "text": [
      "1 2 3 4 5 6 7 8 9 "
     ]
    }
   ],
   "source": [
    "for i in range(1,10):\n",
    "    print(i,end=\" \")\n",
    "#     print()"
   ]
  },
  {
   "cell_type": "code",
   "execution_count": 46,
   "metadata": {},
   "outputs": [
    {
     "name": "stdout",
     "output_type": "stream",
     "text": [
      "0\n",
      "1\n",
      "2\n",
      "3\n",
      "4\n",
      "5\n",
      "6\n",
      "7\n",
      "8\n",
      "9\n",
      "10\n"
     ]
    }
   ],
   "source": [
    "count = 0\n",
    "while True:\n",
    "    print(count)\n",
    "    if count==10:\n",
    "        break\n",
    "    count = count + 1"
   ]
  },
  {
   "cell_type": "code",
   "execution_count": 51,
   "metadata": {},
   "outputs": [
    {
     "name": "stdout",
     "output_type": "stream",
     "text": [
      "5\n",
      "4\n",
      "3\n",
      "2\n",
      "1\n",
      "0\n"
     ]
    }
   ],
   "source": [
    "number = 12345\n",
    "total = 0\n",
    "while True:\n",
    "    split_number = number % 10\n",
    "    total = total + split_number\n",
    "    print(split_number)\n",
    "    if number==0:\n",
    "        break\n",
    "    number = number // 10"
   ]
  },
  {
   "cell_type": "code",
   "execution_count": 55,
   "metadata": {},
   "outputs": [
    {
     "name": "stdout",
     "output_type": "stream",
     "text": [
      "2020 is leap year\n",
      "2024 is leap year\n",
      "2028 is leap year\n",
      "2032 is leap year\n",
      "2036 is leap year\n",
      "2040 is leap year\n",
      "2044 is leap year\n",
      "2048 is leap year\n"
     ]
    }
   ],
   "source": [
    "for i in range(2020,2051):\n",
    "    year = i\n",
    "    #윤년의 조건 찾아서 파이썬 코드로 변환\n",
    "    if year%400== 0 or (year%4==0 and year%100!=0):\n",
    "        print('{} is leap year'.format(year))\n",
    "#     else:\n",
    "#         print('common year')"
   ]
  },
  {
   "cell_type": "code",
   "execution_count": 57,
   "metadata": {},
   "outputs": [
    {
     "name": "stdout",
     "output_type": "stream",
     "text": [
      "B\n"
     ]
    }
   ],
   "source": [
    "score = 82\n",
    "grade = ''\n",
    "if score >= 90:\n",
    "#     print('A')\n",
    "    grade = 'A'\n",
    "elif score >= 80:\n",
    "    grade = 'B'\n",
    "#     print('B')\n",
    "elif score >= 70:\n",
    "    grade = 'C'\n",
    "#     print('C')\n",
    "elif score >= 60:\n",
    "    grade = 'D'\n",
    "#     print('D')\n",
    "else :\n",
    "    grade = 'F'\n",
    "#     print('F')\n",
    "    \n",
    "print(grade)"
   ]
  },
  {
   "cell_type": "code",
   "execution_count": 60,
   "metadata": {},
   "outputs": [
    {
     "name": "stdout",
     "output_type": "stream",
     "text": [
      "2 is prime number\n",
      "3 is prime number\n",
      "5 is prime number\n",
      "7 is prime number\n"
     ]
    }
   ],
   "source": [
    "for k in range(2,11):\n",
    "    number = k\n",
    "    count = 0\n",
    "    for i in range(1,number+1):\n",
    "        if number % i == 0:\n",
    "            count = count + 1\n",
    "            pass\n",
    "        pass\n",
    "\n",
    "    # 소수여부 확인 (2개)\n",
    "    if count==2:\n",
    "        print('{} is prime number'.format(number))"
   ]
  },
  {
   "cell_type": "code",
   "execution_count": null,
   "metadata": {},
   "outputs": [],
   "source": []
  }
 ],
 "metadata": {
  "kernelspec": {
   "display_name": "Python 3",
   "language": "python",
   "name": "python3"
  },
  "language_info": {
   "codemirror_mode": {
    "name": "ipython",
    "version": 3
   },
   "file_extension": ".py",
   "mimetype": "text/x-python",
   "name": "python",
   "nbconvert_exporter": "python",
   "pygments_lexer": "ipython3",
   "version": "3.7.4"
  }
 },
 "nbformat": 4,
 "nbformat_minor": 2
}
