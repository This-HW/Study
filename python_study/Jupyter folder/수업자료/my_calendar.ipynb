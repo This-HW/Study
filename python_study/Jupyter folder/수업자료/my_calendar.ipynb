{
 "cells": [
  {
   "cell_type": "code",
   "execution_count": 5,
   "metadata": {},
   "outputs": [
    {
     "name": "stdout",
     "output_type": "stream",
     "text": [
      "\t\t\t2019년 9월\n",
      "\n",
      "일\t월\t화\t수\t목\t금\t토\n",
      "1\t2\t3\t4\t5\t6\t7\n",
      "8\t9\t10\t11\t12\t13\t14\n",
      "15\t16\t17\t18\t19\t20\t21\n",
      "22\t23\t24\t25\t26\t27\t28\n",
      "29\t30\t\n"
     ]
    }
   ],
   "source": [
    "print('\\t\\t\\t2019년 9월\\n')\n",
    "print('일\\t월\\t화\\t수\\t목\\t금\\t토')\n",
    "print('1\\t2\\t3\\t4\\t5\\t6\\t7')\n",
    "print('8\\t9\\t10\\t11\\t12\\t13\\t14')\n",
    "print('15\\t16\\t17\\t18\\t19\\t20\\t21')\n",
    "print('22\\t23\\t24\\t25\\t26\\t27\\t28')\n",
    "print('29\\t30\\t')"
   ]
  },
  {
   "cell_type": "code",
   "execution_count": 41,
   "metadata": {},
   "outputs": [
    {
     "name": "stdout",
     "output_type": "stream",
     "text": [
      "\t\t\t2019년 7월\n",
      "\n",
      "일\t월\t화\t수\t목\t금\t토\n",
      "\t1\t2\t3\t4\t5\t6\t\n",
      "7\t8\t9\t10\t11\t12\t13\t\n",
      "14\t15\t16\t17\t18\t19\t20\t\n",
      "21\t22\t23\t24\t25\t26\t27\t\n",
      "28\t29\t30\t31\t"
     ]
    }
   ],
   "source": [
    "month = 7\n",
    "space = 1\n",
    "last_day = 31\n",
    "print('\\t\\t\\t2019년 {}월\\n'.format(month))\n",
    "print('일\\t월\\t화\\t수\\t목\\t금\\t토')\n",
    "for i in range(space):\n",
    "    print('\\t',end='')\n",
    "    pass\n",
    "\n",
    "for i in range(1,last_day+1):\n",
    "    print('{}\\t'.format(i),end='')\n",
    "    if (i+space) % 7 == 0:\n",
    "        print()\n"
   ]
  },
  {
   "cell_type": "code",
   "execution_count": null,
   "metadata": {},
   "outputs": [],
   "source": []
  }
 ],
 "metadata": {
  "kernelspec": {
   "display_name": "Python 3",
   "language": "python",
   "name": "python3"
  },
  "language_info": {
   "codemirror_mode": {
    "name": "ipython",
    "version": 3
   },
   "file_extension": ".py",
   "mimetype": "text/x-python",
   "name": "python",
   "nbconvert_exporter": "python",
   "pygments_lexer": "ipython3",
   "version": "3.7.4"
  }
 },
 "nbformat": 4,
 "nbformat_minor": 2
}
