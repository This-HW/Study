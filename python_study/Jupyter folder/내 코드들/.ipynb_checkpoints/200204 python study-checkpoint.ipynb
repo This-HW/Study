{
 "cells": [
  {
   "cell_type": "markdown",
   "metadata": {},
   "source": [
    "# 출현빈도"
   ]
  },
  {
   "cell_type": "code",
   "execution_count": 10,
   "metadata": {},
   "outputs": [],
   "source": [
    "import codecs\n",
    "from bs4 import BeautifulSoup\n",
    "from konlpy.tag import Twitter"
   ]
  },
  {
   "cell_type": "code",
   "execution_count": 11,
   "metadata": {},
   "outputs": [],
   "source": [
    "fp=codecs.open(\"BEXX0014.txt\", \"r\", encoding=\"utf-16\" )\n",
    "soup = BeautifulSoup(fp, \"html.parser\")\n",
    "# soup\n",
    "body = soup.select_one(\"text > body\")\n",
    "text = body.getText()"
   ]
  },
  {
   "cell_type": "code",
   "execution_count": 12,
   "metadata": {
    "scrolled": true
   },
   "outputs": [],
   "source": [
    "twitter = Twitter()\n",
    "word_dic = {}\n",
    "lines = text.split(\"\\r\\n\")"
   ]
  },
  {
   "cell_type": "code",
   "execution_count": 13,
   "metadata": {},
   "outputs": [
    {
     "name": "stdout",
     "output_type": "stream",
     "text": [
      "것(1531)말(1071)그(1066)사람(538)생각(376)일(303)안(284)상의(275)그것(270)이(266)수(261)때(252)남(225)선생(207)나(197)때문(195)거(192)내(185)우리(177)집(168)감(165)자신(164)듯(163)놈(161)곳(160)얼굴(158)얘기(158)명(153)아이(149)또(142)어디(142)양현(141)뭐(139)눈(138)소리(137)무슨(131)알(129)산(129)몽치(129)왜(127)네(121)너(119)홍(118)하나(117)두(114)환국(113)영광(111)영선(106)모두(104)학생(102)\n"
     ]
    }
   ],
   "source": [
    "for lines in lines:\n",
    "    malist = twitter.pos(lines)\n",
    "    for word in malist :\n",
    "        if word[1] == \"Noun\":\n",
    "            if not(word[0] in word_dic):\n",
    "                word_dic[word[0]] = 0\n",
    "            word_dic[word[0]] += 1\n",
    "keys = sorted(word_dic.items(), key = lambda x:x[1], reverse=True )\n",
    "for word, count in keys[:50]:\n",
    "    print(\"{0}({1})\".format(word, count), end=\"\")\n",
    "print()\n",
    "                "
   ]
  }
 ],
 "metadata": {
  "kernelspec": {
   "display_name": "Python 3",
   "language": "python",
   "name": "python3"
  },
  "language_info": {
   "codemirror_mode": {
    "name": "ipython",
    "version": 3
   },
   "file_extension": ".py",
   "mimetype": "text/x-python",
   "name": "python",
   "nbconvert_exporter": "python",
   "pygments_lexer": "ipython3",
   "version": "3.7.4"
  }
 },
 "nbformat": 4,
 "nbformat_minor": 2
}
