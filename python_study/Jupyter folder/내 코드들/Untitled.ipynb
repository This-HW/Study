{
 "cells": [
  {
   "cell_type": "code",
   "execution_count": 3,
   "metadata": {},
   "outputs": [],
   "source": [
    "import socket\n",
    "\n",
    "\n",
    "class Socketserver:\n",
    "    def __init__(self, address='', port = 9090):\n",
    "        self.sock = socket.socket(socket.AF_INET, socket.SOCK_STREAM)\n",
    "        self.address = address\n",
    "        self.port = port\n",
    "        print(self.address)\n",
    "        self.sock.bind((self.address, self.port))\n",
    "        self.cdata = ''\n",
    "\n",
    "    def waitforconnection(self):\n",
    "        self.sock.listen(1)\n",
    "        self.conn, self.addr = self.sock.accept()\n",
    "        print('connected to', self.addr)\n",
    "        return 1\n",
    "\n",
    "    def recvmsg(self):\n",
    "        self.cdata = ''\n",
    "        while True:\n",
    "            data = self.conn.recv(10000)\n",
    "            self.cdata += data.decode(\"utf-8\")\n",
    "            if not data:\n",
    "                break\n",
    "\n",
    "            self.conn.send(bytes(self.cdata, \"utf-8\"))  # loop back test\n",
    "\n",
    "            return self.cdata\n",
    "\n",
    "        def __del__(self):\n",
    "            print('sock close')\n",
    "            self.sock.close()\n",
    "\n",
    "\n",
    "##########################################\n"
   ]
  },
  {
   "cell_type": "code",
   "execution_count": 4,
   "metadata": {},
   "outputs": [
    {
     "name": "stdout",
     "output_type": "stream",
     "text": [
      "192.168.11.65\n"
     ]
    },
    {
     "ename": "OSError",
     "evalue": "[WinError 10049] 요청한 주소는 해당 컨텍스트에서 유효하지 않습니다",
     "output_type": "error",
     "traceback": [
      "\u001b[1;31m---------------------------------------------------------------------------\u001b[0m",
      "\u001b[1;31mOSError\u001b[0m                                   Traceback (most recent call last)",
      "\u001b[1;32m<ipython-input-4-f6541219b49c>\u001b[0m in \u001b[0;36m<module>\u001b[1;34m\u001b[0m\n\u001b[1;32m----> 1\u001b[1;33m \u001b[0mserv\u001b[0m \u001b[1;33m=\u001b[0m \u001b[0mSocketserver\u001b[0m\u001b[1;33m(\u001b[0m\u001b[1;34m'192.168.11.65'\u001b[0m\u001b[1;33m,\u001b[0m \u001b[1;36m9090\u001b[0m\u001b[1;33m)\u001b[0m\u001b[1;33m\u001b[0m\u001b[1;33m\u001b[0m\u001b[0m\n\u001b[0m\u001b[0;32m      2\u001b[0m \u001b[0mserv\u001b[0m\u001b[1;33m.\u001b[0m\u001b[0mwaitforconnection\u001b[0m\u001b[1;33m(\u001b[0m\u001b[1;33m)\u001b[0m\u001b[1;33m\u001b[0m\u001b[1;33m\u001b[0m\u001b[0m\n\u001b[0;32m      3\u001b[0m \u001b[1;33m\u001b[0m\u001b[0m\n\u001b[0;32m      4\u001b[0m \u001b[1;32mwhile\u001b[0m \u001b[1;32mTrue\u001b[0m\u001b[1;33m:\u001b[0m\u001b[1;33m\u001b[0m\u001b[1;33m\u001b[0m\u001b[0m\n\u001b[0;32m      5\u001b[0m     \u001b[0mmsg\u001b[0m \u001b[1;33m=\u001b[0m \u001b[0mserv\u001b[0m\u001b[1;33m.\u001b[0m\u001b[0mrecvmsg\u001b[0m\u001b[1;33m(\u001b[0m\u001b[1;33m)\u001b[0m\u001b[1;33m\u001b[0m\u001b[1;33m\u001b[0m\u001b[0m\n",
      "\u001b[1;32m<ipython-input-3-52f23e96d539>\u001b[0m in \u001b[0;36m__init__\u001b[1;34m(self, address, port)\u001b[0m\n\u001b[0;32m      8\u001b[0m         \u001b[0mself\u001b[0m\u001b[1;33m.\u001b[0m\u001b[0mport\u001b[0m \u001b[1;33m=\u001b[0m \u001b[0mport\u001b[0m\u001b[1;33m\u001b[0m\u001b[1;33m\u001b[0m\u001b[0m\n\u001b[0;32m      9\u001b[0m         \u001b[0mprint\u001b[0m\u001b[1;33m(\u001b[0m\u001b[0mself\u001b[0m\u001b[1;33m.\u001b[0m\u001b[0maddress\u001b[0m\u001b[1;33m)\u001b[0m\u001b[1;33m\u001b[0m\u001b[1;33m\u001b[0m\u001b[0m\n\u001b[1;32m---> 10\u001b[1;33m         \u001b[0mself\u001b[0m\u001b[1;33m.\u001b[0m\u001b[0msock\u001b[0m\u001b[1;33m.\u001b[0m\u001b[0mbind\u001b[0m\u001b[1;33m(\u001b[0m\u001b[1;33m(\u001b[0m\u001b[0mself\u001b[0m\u001b[1;33m.\u001b[0m\u001b[0maddress\u001b[0m\u001b[1;33m,\u001b[0m \u001b[0mself\u001b[0m\u001b[1;33m.\u001b[0m\u001b[0mport\u001b[0m\u001b[1;33m)\u001b[0m\u001b[1;33m)\u001b[0m\u001b[1;33m\u001b[0m\u001b[1;33m\u001b[0m\u001b[0m\n\u001b[0m\u001b[0;32m     11\u001b[0m         \u001b[0mself\u001b[0m\u001b[1;33m.\u001b[0m\u001b[0mcdata\u001b[0m \u001b[1;33m=\u001b[0m \u001b[1;34m''\u001b[0m\u001b[1;33m\u001b[0m\u001b[1;33m\u001b[0m\u001b[0m\n\u001b[0;32m     12\u001b[0m \u001b[1;33m\u001b[0m\u001b[0m\n",
      "\u001b[1;31mOSError\u001b[0m: [WinError 10049] 요청한 주소는 해당 컨텍스트에서 유효하지 않습니다"
     ]
    }
   ],
   "source": [
    "\n",
    "serv = Socketserver('192.168.11.65', 9090)\n",
    "serv.waitforconnection()\n",
    "\n",
    "while True:\n",
    "    msg = serv.recvmsg()\n",
    "    print('received data : ', msg);\n"
   ]
  },
  {
   "cell_type": "code",
   "execution_count": null,
   "metadata": {},
   "outputs": [],
   "source": []
  }
 ],
 "metadata": {
  "kernelspec": {
   "display_name": "Python 3",
   "language": "python",
   "name": "python3"
  },
  "language_info": {
   "codemirror_mode": {
    "name": "ipython",
    "version": 3
   },
   "file_extension": ".py",
   "mimetype": "text/x-python",
   "name": "python",
   "nbconvert_exporter": "python",
   "pygments_lexer": "ipython3",
   "version": "3.7.4"
  }
 },
 "nbformat": 4,
 "nbformat_minor": 2
}
