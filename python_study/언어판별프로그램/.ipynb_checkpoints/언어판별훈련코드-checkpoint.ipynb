{
 "cells": [
  {
   "cell_type": "code",
   "execution_count": 2,
   "metadata": {},
   "outputs": [],
   "source": [
    "from sklearn import svm, metrics  # svm 현재 배운 것 중에서는 가장 좋은 모델, metrics -> 성능검증 해주는 패키지\n",
    "import glob, os.path, re, json \n",
    "# glob -> 파일읽을때 * 쓸수 있게 해줌\n",
    "# os.path -> 파일 path로 읽을 떄 필요함\n",
    "# re ->\n",
    "# json -> 더 읽기 쉬운 파일구조은 json을 쓰기 위해 사용"
   ]
  },
  {
   "cell_type": "code",
   "execution_count": 24,
   "metadata": {},
   "outputs": [],
   "source": [
    "def check_freq(fname):\n",
    "    #파일 읽어서\n",
    "    #음절계산\n",
    "#     print(\"check_freq\", fname)\n",
    "    with open(fname, \"r\", encoding=\"utf-8\") as f:\n",
    "        text = f.read()\n",
    "#     print(\"text : \", text)\n",
    "    text=text.lower()    \n",
    "    \n",
    "    # 숫자 세기 변수(cnt) 초기화하기\n",
    "    cnt = [0 for n in range(0, 26)]\n",
    "    code_a = ord(\"a\")\n",
    "    code_z = ord(\"z\")\n",
    "    # 알파벳 출현 횟수 구하기 --- (※2)\n",
    "    for ch in text:\n",
    "        n = ord(ch)\n",
    "        if code_a <= n <= code_z: # a~z 사이에 있을 때\n",
    "            cnt[n - code_a] += 1\n",
    "\n",
    "#     ocde_a = ord()\n",
    "    \n",
    "    # 정규화\n",
    "    total = sum(cnt)\n",
    "    freq = list(map(lambda n: n / total, cnt))    \n",
    "#     print(freq)\n",
    "    name = os.path.basename(fname)\n",
    "    lang = re.match(r'^[a-z]{2,}', name).group()\n",
    "    # 정규 표현식 r'' -> 유니코드로 읽어라, ^ 첫번째 글자부터 시작해라 {2,} 두 글자\n",
    "#     print(lang)\n",
    "    \n",
    "    return freq, lang # 이건 튜플로 묶여서 반환하는 것이다. (freq, lang) 이것과 같다.\n",
    "\n",
    "\n",
    "def load_files(path) :\n",
    "    \n",
    "    freqs = []\n",
    "    labels = []\n",
    "    file_list = glob.glob(path)\n",
    "#     print(file_zlist)\n",
    "    for fname in file_list :\n",
    "        r = check_freq(fname)\n",
    "        freqs.append(r[0])\n",
    "        labels.append(r[1])\n",
    "    \n",
    "    return {\"freqs\":freqs, \"labels\":labels}\n",
    "\n",
    "########################### main ###########################\n",
    "\n",
    "data = load_files('./lang/train/*.txt')\n",
    "test = load_files('./lang/test/*.txt')\n",
    "\n",
    "# 이후를 대비해서 JSON으로 결과 저장하기\n",
    "with open(\"./lang/freq.json\", \"w\", encoding=\"utf-8\") as fp:\n",
    "    json.dump([data, test], fp)\n",
    "    "
   ]
  },
  {
   "cell_type": "code",
   "execution_count": null,
   "metadata": {},
   "outputs": [],
   "source": []
  }
 ],
 "metadata": {
  "kernelspec": {
   "display_name": "Python 3",
   "language": "python",
   "name": "python3"
  },
  "language_info": {
   "codemirror_mode": {
    "name": "ipython",
    "version": 3
   },
   "file_extension": ".py",
   "mimetype": "text/x-python",
   "name": "python",
   "nbconvert_exporter": "python",
   "pygments_lexer": "ipython3",
   "version": "3.7.4"
  }
 },
 "nbformat": 4,
 "nbformat_minor": 2
}
